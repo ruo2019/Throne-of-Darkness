{
 "cells": [
  {
   "cell_type": "code",
   "execution_count": 1,
   "metadata": {},
   "outputs": [],
   "source": [
    "from IPython.display import clear_output\n",
    "import random"
   ]
  },
  {
   "cell_type": "code",
   "execution_count": 2,
   "metadata": {},
   "outputs": [],
   "source": [
    "class Player():\n",
    "    def __init__(self, name, coins=0, moves=[]):\n",
    "        self.name = name\n",
    "        self.moves = moves\n",
    "        self.coins = coins\n",
    "        self.health = random.randint(150, 201)\n",
    "        self.battle_health = self.health\n",
    "        self.min_health = 150\n",
    "        self.max_health = 200\n",
    "        self.damage = random.randint(30,71)\n",
    "        self.battle_damage = self.damage\n",
    "        self.min_damage = 30\n",
    "        self.max_damage = 70\n",
    "        self.golden_nuggets = 0\n",
    "        self.diamonds = 0\n",
    "        self.upgrades = 0\n",
    "    def trade_golden_nuggets(self):\n",
    "        g = self.golden_nuggets\n",
    "        for i in range(self.golden_nuggets):\n",
    "            self.coins+=3\n",
    "            self.golden_nuggets-=1\n",
    "    def trade_diamonds(self):\n",
    "        d = self.diamonds\n",
    "        for i in range(self.diamonds):\n",
    "            self.coins+=10\n",
    "            self.diamonds-=1\n",
    "    def upgrade(self):\n",
    "        \"\"\"Upgrades your health and damage when you have a certain amount of coins!!\"\"\"\n",
    "        if (self.coins >= 3 and self.coins < 5):\n",
    "            self.health = random.randint(200, 250)\n",
    "            self.min_health = 200\n",
    "            self.max_health = 250\n",
    "            self.damage = random.randint(70, 100)\n",
    "            self.min_damage = 70\n",
    "            self.max_damage = 100\n",
    "        elif (self.coins >= 5 and self.coins < 7):\n",
    "            self.health = random.randint(250, 301)\n",
    "            self.min_health = 250\n",
    "            self.max_health = 300\n",
    "            self.damage = random.randint(50, 91)\n",
    "            self.min_damage = 50\n",
    "            self.max_damage = 90\n",
    "        elif (self.coins >= 7 and self.coins < 10):\n",
    "            self.health = random.randint(300, 351)\n",
    "            self.min_health = 300\n",
    "            self.max_health = 350\n",
    "            self.damage = random.randint(60, 101)\n",
    "            self.min_damage = 60\n",
    "            self.max_damage = 100\n",
    "        elif (self.coins >= 10 and self.coins < 13):\n",
    "            self.health = random.randint(350, 401)\n",
    "            self.min_health = 350\n",
    "            self.max_health = 400\n",
    "            self.damage = random.randint(70, 111)\n",
    "            self.min_damage = 70\n",
    "            self.max_damage = 110\n",
    "        elif (self.coins >= 13 and self.coins < 15):\n",
    "            self.health = random.randint(400, 451)\n",
    "            self.min_health = 400\n",
    "            self.max_health = 450\n",
    "            self.damage = random.randint(80, 121)\n",
    "            self.min_damage = 80\n",
    "            self.max_damage = 120\n",
    "        elif (self.coins >= 15):\n",
    "            self.health = random.randint(self.coins*30, self.coins*40)\n",
    "            self.min_health = self.coins*30\n",
    "            self.max_health = self.coins*40\n",
    "            self.damage = random.randint(self.coins*7, self.coins*8)\n",
    "            self.min_damage = self.coins*7\n",
    "            self.max_damage = self.coins*8\n",
    "        self.upgrades+=1\n",
    "    def items(self):\n",
    "        print(f\"Qing: | Coins: {self.coins} | Golden Nuggets: {self.golden_nuggets} | Diamonds: {self.diamonds} |\")\n",
    "    def stats(self):\n",
    "        print(f\"Qing: | Health: {self.health} | Damage: {self.damage} | Upgrades: {self.upgrades} |\")"
   ]
  },
  {
   "cell_type": "code",
   "execution_count": 3,
   "metadata": {},
   "outputs": [],
   "source": [
    "Ruo = Player('(Hacker) Koala')\n",
    "Qing = Player('(Heroic) Shadow')\n",
    "Baby = Player('(Pro) Frostbite')\n",
    "test = Player('(Noob) test')"
   ]
  },
  {
   "cell_type": "code",
   "execution_count": 4,
   "metadata": {},
   "outputs": [
    {
     "output_type": "stream",
     "name": "stdout",
     "text": [
      "Qing: | Health: 178 | Damage: 45 | Upgrades: 0 |\n"
     ]
    }
   ],
   "source": [
    "Qing.stats()"
   ]
  },
  {
   "cell_type": "code",
   "execution_count": 5,
   "metadata": {},
   "outputs": [],
   "source": [
    "def Battle(player1, player2):\n",
    "    current_player = 1\n",
    "    win = False\n",
    "    while True:\n",
    "        clear_output()\n",
    "        print(f\"{player1.name}'s Health: {str(player1.battle_health)} \\n \\n\")\n",
    "        print(f\"{player2.name}'s Health: {str(player2.battle_health)}\")\n",
    "        player1.damage = random.randint(player1.min_damage, player1.max_damage)\n",
    "        player1.battle_damage = player1.damage\n",
    "        player2.damage = random.randint(player2.min_damage, player2.max_damage)\n",
    "        player2.battle_damage = player2.damage\n",
    "        player1_previous_coins = player1.coins\n",
    "        player1_previous_gold = player1.golden_nuggets\n",
    "        player1_previous_diamonds = player1.diamonds\n",
    "        player2_previous_coins = player2.coins\n",
    "        player2_previous_gold = player2.golden_nuggets\n",
    "        player2_previous_diamonds = player2.diamonds\n",
    "        if (player1.battle_health <= 0):\n",
    "            print(f\"{player2.name.split(') ')[1:][0]} has  WON!!!!\\n\\n\")\n",
    "            player2.coins += 1\n",
    "            if (player1.coins == 1):\n",
    "                print(f\"{player1.name.split(') ')[1:][0]} has collected {player1.coins} coin.\\n\")\n",
    "            else:\n",
    "                print(f\"{player1.name.split(') ')[1:][0]} has collected {player1.coins} coins.\\n\")\n",
    "\n",
    "            if (player2.coins == 1):\n",
    "                print(f\"{player2.name.split(') ')[1:][0]} has collected {player2.coins} coin.\\n\")\n",
    "            else:\n",
    "                print(f\"{player2.name.split(') ')[1:][0]} has collected {player2.coins} coins.\\n\")\n",
    "            win = True\n",
    "        if (player2.battle_health <= 0):\n",
    "            print(f\"{player1.name.split(') ')[1:][0]} has WON!!!!\\n\\n\")\n",
    "            player1.coins += 1\n",
    "\n",
    "            coins = int(player2.coins) - int(player2_previous_coins)\n",
    "            txtcoins = \"coin\" if coins == 1 else \"coins\"\n",
    "            print(f\"{player2.name.split(') ')[1:][0]} has collected {coins} {txtcoins}.\\n\")\n",
    "\n",
    "            golden_nuggets = int(player2.golden_nuggets) - int(player2_previous_gold)\n",
    "            gntxt = \"gold nugget\" if golden_nuggets == 1 else \"golden nuggets\"\n",
    "            print(f\"{player2.name.split(') ')[1:][0]} has collected {golden_nuggets} {gntxt}.\\n\")\n",
    "            \n",
    "            diamonds = int(player2.diamonds) - int(player2_previous_diamonds)\n",
    "            dmdtxt = \"diamond\" if diamonds == 1 else \"diamonds\"\n",
    "            print(f\"{player2.name.split(') ')[1:][0]} has collected {diamonds} {dmdtxt}.\")\n",
    "            win = True\n",
    "        if (win == Tru):\n",
    "            player1.health = random.randint(player1.min_health, player1.max_health)\n",
    "            player1.damage = random.randint(player1.min_damage, player1.max_damage)\n",
    "            player2.health = random.randint(player2.min_health, player2.max_health)\n",
    "            player2.damage = random.randint(player2.min_damage, player2.max_damage)\n",
    "            player1.battle_health = player1.health\n",
    "            player1.battle_damage = player1.damage\n",
    "            player2.battle_health = player2.health\n",
    "            player2.battle_damage = player2.damage\n",
    "            break\n",
    "        if (current_player == 1):\n",
    "            player1_action = str(input(f\"{player1.name.split(') ')[1:][0]}: Do you want to hit or heal? >>\"))\n",
    "            if (player1_action.lower() == 'hit'):\n",
    "                player2.battle_health -= player1.battle_damage\n",
    "            elif (player1_action.lower() == 'heal'):\n",
    "                player1.battle_health += player1.battle_damage\n",
    "            current_player = 2\n",
    "            continue\n",
    "        elif (current_player == 2):\n",
    "            player2_action = str(input(f\"{player2.name.split(') ')[1:][0]}: Do you want to hit or heal? >>\"))\n",
    "            if (player2_action.lower() == 'hit'):\n",
    "                player1.battle_health -= player2.battle_damage\n",
    "            elif (player2_action.lower() == 'heal'):\n",
    "                player2.battle_health += player2.battle_damage\n",
    "            current_player = 1\n",
    "            continue"
   ]
  },
  {
   "cell_type": "code",
   "execution_count": 6,
   "metadata": {},
   "outputs": [],
   "source": [
    "def autoBattle(player1, player2):\n",
    "    current_player = 1\n",
    "    win = False\n",
    "    while True:\n",
    "        clear_output()\n",
    "        print(f\"{player1.name}'s Health: {str(player1.battle_health)} \\n \\n\")\n",
    "        print(f\"{player2.name}'s Health: {str(player2.battle_health)}\")\n",
    "        player1.damage = random.randint(player1.min_damage, player1.max_damage)\n",
    "        player1.battle_damage = player1.damage\n",
    "        player2.damage = random.randint(player2.min_damage, player2.max_damage)\n",
    "        player2.battle_damage = player2.damage\n",
    "        player1_previous_coins = player1.coins\n",
    "        player1_previous_gold = player1.golden_nuggets\n",
    "        player1_previous_diamonds = player1.diamonds\n",
    "        player2_previous_coins = player2.coins\n",
    "        player2_previous_gold = player2.golden_nuggets\n",
    "        player2_previous_diamonds = player2.diamonds\n",
    "        if (player1.battle_health <= 0):\n",
    "            print(f\"{player2.name.split(') ')[1:][0]} has  WON!!!!\\n\\n\")\n",
    "            player2.coins += 1\n",
    "            if player2.coins % 3 == 0:\n",
    "                player1.golden_nuggets+=1\n",
    "            if level % 7 == 0:\n",
    "                player1.diamonds+=1\n",
    "            \n",
    "            coins = int(player1.coins)\n",
    "            txtcoins = \"coin\" if coins == 1 else \"coins\"\n",
    "            print(f\"{player1.name.split(') ')[1:][0]} has collected {coins} {txtcoins}.\\n\")\n",
    "\n",
    "            golden_nuggets = int(player1.golden_nuggets)\n",
    "            gntxt = \"gold nugget\" if golden_nuggets == 1 else \"golden nuggets\"\n",
    "            print(f\"{player1.name.split(') ')[1:][0]} has collected {golden_nuggets} {gntxt}.\\n\")\n",
    "            \n",
    "            diamonds = int(player1.diamonds)\n",
    "            dmdtxt = \"diamond\" if diamonds == 1 else \"diamonds\"\n",
    "            print(f\"{player1.name.split(') ')[1:][0]} has collected {diamonds} {dmdtxt}.\\n\\n\")\n",
    "\n",
    "\n",
    "            coins = int(player2.coins)\n",
    "            txtcoins = \"coin\" if coins == 1 else \"coins\"\n",
    "            print(f\"{player2.name.split(') ')[1:][0]} has collected {coins} {txtcoins}.\\n\")\n",
    "\n",
    "            golden_nuggets = int(player2.golden_nuggets)\n",
    "            gntxt = \"gold nugget\" if golden_nuggets == 1 else \"golden nuggets\"\n",
    "            print(f\"{player2.name.split(') ')[1:][0]} has collected {golden_nuggets} {gntxt}.\\n\")\n",
    "            \n",
    "            diamonds = int(player2.diamonds)\n",
    "            dmdtxt = \"diamond\" if diamonds == 1 else \"diamonds\"\n",
    "            print(f\"{player2.name.split(') ')[1:][0]} has collected {diamonds} {dmdtxt}.\")\n",
    "            win = True\n",
    "        if (player2.battle_health <= 0):\n",
    "            print(f\"{player1.name.split(') ')[1:][0]} has WON!!!!\\n\\n\")\n",
    "            player1.coins += 1\n",
    "            if player1.coins % 3 == 0:\n",
    "                player1.golden_nuggets+=1\n",
    "            if player1.coins % 7 == 0:\n",
    "                player1.diamonds+=1\n",
    "            coins = int(player1.coins)\n",
    "            txtcoins = \"coin\" if coins == 1 else \"coins\"\n",
    "            print(f\"{player1.name.split(') ')[1:][0]} has collected {coins} {txtcoins}.\\n\")\n",
    "\n",
    "            golden_nuggets = int(player1.golden_nuggets)\n",
    "            gntxt = \"gold nugget\" if golden_nuggets == 1 else \"golden nuggets\"\n",
    "            print(f\"{player1.name.split(') ')[1:][0]} has collected {golden_nuggets} {gntxt}.\\n\")\n",
    "            \n",
    "            diamonds = int(player1.diamonds)\n",
    "            dmdtxt = \"diamond\" if diamonds == 1 else \"diamonds\"\n",
    "            print(f\"{player1.name.split(') ')[1:][0]} has collected {diamonds} {dmdtxt}.\\n\\n\")\n",
    "\n",
    "\n",
    "            coins = int(player2.coins)\n",
    "            txtcoins = \"coin\" if coins == 1 else \"coins\"\n",
    "            print(f\"{player2.name.split(') ')[1:][0]} has collected {coins} {txtcoins}.\\n\")\n",
    "\n",
    "            golden_nuggets = int(player2.golden_nuggets)\n",
    "            gntxt = \"gold nugget\" if golden_nuggets == 1 else \"golden nuggets\"\n",
    "            print(f\"{player2.name.split(') ')[1:][0]} has collected {golden_nuggets} {gntxt}.\\n\")\n",
    "            \n",
    "            diamonds = int(player2.diamonds)\n",
    "            dmdtxt = \"diamond\" if diamonds == 1 else \"diamonds\"\n",
    "            print(f\"{player2.name.split(') ')[1:][0]} has collected {diamonds} {dmdtxt}.\")\n",
    "            win = True\n",
    "        if (win == True):\n",
    "            player1.health = random.randint(player1.min_health, player1.max_health)\n",
    "            player1.damage = random.randint(player1.min_damage, player1.max_damage)\n",
    "            player2.health = random.randint(player2.min_health, player2.max_health)\n",
    "            player2.damage = random.randint(player2.min_damage, player2.max_damage)\n",
    "            player1.battle_health = player1.health\n",
    "            player1.battle_damage = player1.damage\n",
    "            player2.battle_health = player2.health\n",
    "            player2.battle_damage = player2.damage\n",
    "            break\n",
    "        if (current_player == 1):\n",
    "            player1_action = 'hit'\n",
    "            if (player1_action.lower() == 'hit'):\n",
    "                player2.battle_health -= player1.battle_damage\n",
    "            current_player = 2\n",
    "            continue\n",
    "        elif (current_player == 2):\n",
    "            player2_action = 'hit'\n",
    "            if (player2_action.lower() == 'hit'):\n",
    "                player1.battle_health -= player2.battle_damage\n",
    "            current_player = 1\n",
    "            continue"
   ]
  },
  {
   "cell_type": "markdown",
   "metadata": {},
   "source": [
    "# Battle Arena"
   ]
  },
  {
   "cell_type": "code",
   "execution_count": 157,
   "metadata": {},
   "outputs": [
    {
     "name": "stdout",
     "output_type": "stream",
     "text": [
      "(Hacker) Koala's Health: 5793828 \n",
      " \n",
      "\n",
      "(Heroic) Shadow's Health: -1086483\n",
      "Koala has WON!!!!\n",
      "\n",
      "\n",
      "Koala has collected 154605 coins.\n",
      "\n",
      "Koala has collected 16 golden nuggets.\n",
      "\n",
      "Koala has collected 7 diamonds.\n",
      "\n",
      "\n",
      "Shadow has collected 5 coins.\n",
      "\n",
      "Shadow has collected 0 golden nuggets.\n",
      "\n",
      "Shadow has collected 0 diamonds.\n"
     ]
    }
   ],
   "source": [
    "autoBattle(Ruo, Qing)"
   ]
  },
  {
   "cell_type": "code",
   "execution_count": 5,
   "metadata": {},
   "outputs": [
    {
     "name": "stdout",
     "output_type": "stream",
     "text": [
      "(Heroic) Shadow's Health: 19 \n",
      " \n",
      "\n",
      "(Pro) Frostbite's Health: -22\n",
      "Shadow has WON!!!!\n",
      "\n",
      "\n",
      "Shadow has collected 1 coin.\n",
      "\n",
      "Frostbite has collected 0 coins.\n",
      "\n"
     ]
    }
   ],
   "source": [
    "Battle(Qing, Baby)"
   ]
  },
  {
   "cell_type": "code",
   "execution_count": 7,
   "metadata": {},
   "outputs": [],
   "source": [
    "def Train(player1):\n",
    "    level = int(input(\"Which level do you want to start at:\"))\n",
    "    Bot = Player(f\"[Level {level}] Bot\")\n",
    "    Bot.battle_health = level*30\n",
    "    win = False\n",
    "    current_player = 1\n",
    "    player1.health = random.randint(player1.min_health, player1.max_health)\n",
    "    Bot.health = random.randint(level*20, level*35)\n",
    "    player1.battle_health = player1.health\n",
    "    Bot.battle_health = Bot.health\n",
    "    player1_previous_coins = player1.coins\n",
    "    player1_previous_gold = player1.golden_nuggets\n",
    "    player1_previous_diamonds = player1.diamonds\n",
    "    while True:\n",
    "        Bot.name = f\"[Level {level}] Bot\"\n",
    "        clear_output()\n",
    "        print(f\"{player1.name}'s Health: {str(player1.battle_health)} \\n \\n\")\n",
    "        print(f\"{Bot.name}'s Health: {str(Bot.battle_health)}\")\n",
    "        player1.damage = random.randint(player1.min_damage, player1.max_damage)\n",
    "        player1.battle_damage = player1.damage\n",
    "        if (player1.battle_health <= 0):\n",
    "            print(f\"{player1.name.split(') ')[1:][0]} was  DEFEATED!!!!\")\n",
    "            restart_level = str(input(\"Do you want to restart this level? Y/N >>\"))\n",
    "            if (restart_level.lower() == 'y'):\n",
    "                player1.health = random.randint(player1.min_health, player1.max_health)\n",
    "                player1.damage = random.randint(player1.min_damage, player1.max_damage)\n",
    "                Bot.health = random.randint(level*20, level*35)\n",
    "                player1.battle_health = player1.health\n",
    "                player1.battle_damage = player1.damage\n",
    "                Bot.battle_health = Bot.health\n",
    "                continue\n",
    "            elif (restart_level.lower() == 'n'):\n",
    "                clear_output()\n",
    "                coins = int(player1.coins) - int(player1_previous_coins)\n",
    "                txtcoins = \"coin\" if coins == 1 else \"coins\"\n",
    "                print(f\"You have collected {coins} {txtcoins} from the Training Arena.\\n\")\n",
    "\n",
    "                golden_nuggets = int(player1.golden_nuggets) - int(player1_previous_gold)\n",
    "                gntxt = \"gold nugget\" if golden_nuggets == 1 else \"golden nuggets\"\n",
    "                print(f\"You have collected {golden_nuggets} {gntxt} from the Training Arena.\\n\")\n",
    "                \n",
    "                diamonds = int(player1.diamonds) - int(player1_previous_diamonds)\n",
    "                dmdtxt = \"diamond\" if diamonds == 1 else \"diamonds\"\n",
    "                print(f\"You have collected {diamonds} {dmdtxt} from the Training Arena.\")\n",
    "                player1.health = random.randint(player1.min_health, player1.max_health)\n",
    "                player1.damage = random.randint(player1.min_damage, player1.max_damage)\n",
    "                Bot.health = random.randint(level*20, level*35)\n",
    "                player1.battle_health = player1.health\n",
    "                player1.battle_damage = player1.damage\n",
    "                Bot.battle_health = Bot.health\n",
    "                break\n",
    "        if (Bot.battle_health <= 0):\n",
    "            print(f\"{player1.name.split(') ')[1:][0]} has WON!!!!\")\n",
    "            level += 1\n",
    "            if level % 7 == 0:\n",
    "                player1.golden_nuggets+=1\n",
    "            if level % 10 == 0:\n",
    "                player1.diamonds+=1\n",
    "            if level % 3 == 0:\n",
    "                player1.coins += 1\n",
    "            level_up = str(input('Do you want to go to the next level? Y/N >>'))\n",
    "            if (level == 7001):\n",
    "                coins = int(player1.coins) - int(player1_previous_coins)\n",
    "                txtcoins = \"coin\" if coins == 1 else \"coins\"\n",
    "                print(f\"You have collected {coins} {txtcoins} from the Training Arena.\\n\")\n",
    "\n",
    "                golden_nuggets = int(player1.golden_nuggets) - int(player1_previous_gold)\n",
    "                gntxt = \"gold nugget\" if golden_nuggets == 1 else \"golden nuggets\"\n",
    "                print(f\"You have collected {golden_nuggets} {gntxt} from the Training Arena.\\n\")\n",
    "                \n",
    "                diamonds = int(player1.diamonds) - int(player1_previous_diamonds)\n",
    "                dmdtxt = \"diamond\" if diamonds == 1 else \"diamonds\"\n",
    "                print(f\"You have collected {diamonds} {dmdtxt} from the Training Arena.\")\n",
    "            if (level_up.lower() == 'y'):\n",
    "                player1.health = random.randint(player1.min_health, player1.max_health)\n",
    "                player1.damage = random.randint(player1.min_damage, player1.max_damage)\n",
    "                Bot.health = random.randint(level*20, level*35)\n",
    "                player1.battle_health = player1.health\n",
    "                player1.battle_damage = player1.damage\n",
    "                Bot.battle_health = Bot.health\n",
    "                continue\n",
    "            elif (level_up.lower() == 'n'):\n",
    "                clear_output()\n",
    "                print(f\"You have defeated {Bot.name}!!\\n\")\n",
    "                coins = int(player1.coins) - int(player1_previous_coins)\n",
    "                txtcoins = \"coin\" if coins == 1 else \"coins\"\n",
    "                print(f\"You have collected {coins} {txtcoins} from the Training Arena.\\n\")\n",
    "\n",
    "                golden_nuggets = int(player1.golden_nuggets) - int(player1_previous_gold)\n",
    "                gntxt = \"gold nugget\" if golden_nuggets == 1 else \"golden nuggets\"\n",
    "                print(f\"You have collected {golden_nuggets} {gntxt} from the Training Arena.\\n\")\n",
    "                \n",
    "                diamonds = int(player1.diamonds) - int(player1_previous_diamonds)\n",
    "                dmdtxt = \"diamond\" if diamonds == 1 else \"diamonds\"\n",
    "                print(f\"You have collected {diamonds} {dmdtxt} from the Training Arena.\")\n",
    "                player1.health = random.randint(player1.min_health, player1.max_health)\n",
    "                player1.damage = random.randint(player1.min_damage, player1.max_damage)\n",
    "                Bot.health = random.randint(level*20, level*35)\n",
    "                player1.battle_health = player1.health\n",
    "                player1.battle_damage = player1.damage\n",
    "                Bot.battle_health = Bot.health\n",
    "                break\n",
    "            win = True\n",
    "        if (win == True):\n",
    "            player1.health = random.randint(player1.min_health, player1.max_health)\n",
    "            player1.damage = random.randint(player1.min_damage, player1.max_damage)\n",
    "            Bot.health = random.randint(level*20, level*35)\n",
    "            player1.battle_health = player1.health\n",
    "            player1.battle_damage = player1.damage\n",
    "            Bot.battle_health = Bot.health\n",
    "            break\n",
    "        if (current_player == 1):\n",
    "            player1_action = str(input(f\"{player1.name.split(') ')[1:][0]}: Do you want to hit or heal? >>\"))\n",
    "            if (player1_action.lower() == 'hit'):\n",
    "                Bot.battle_health -= player1.battle_damage\n",
    "            elif (player1_action.lower() == 'heal'):\n",
    "                player1.battle_health += player1.battle_damage\n",
    "            current_player = 2\n",
    "            continue\n",
    "        elif (current_player == 2):\n",
    "            damage = (level*10 if player1_action.lower() == 'hit' else 0)\n",
    "            player1.battle_health -= damage\n",
    "            current_player = 1"
   ]
  },
  {
   "cell_type": "markdown",
   "metadata": {},
   "source": [
    "# Training Arena"
   ]
  },
  {
   "cell_type": "code",
   "execution_count": 170,
   "metadata": {},
   "outputs": [
    {
     "name": "stdout",
     "output_type": "stream",
     "text": [
      "(Hacker) Koala's Health: 11831678 \n",
      " \n",
      "\n",
      "[Level 10000000000000] Bot's Health: 329934927278982\n"
     ]
    },
    {
     "ename": "KeyboardInterrupt",
     "evalue": "",
     "output_type": "error",
     "traceback": [
      "\u001b[1;31m---------------------------------------------------------------------------\u001b[0m",
      "\u001b[1;31mKeyboardInterrupt\u001b[0m                         Traceback (most recent call last)",
      "\u001b[1;32m~\\Anaconda3\\lib\\site-packages\\ipykernel\\kernelbase.py\u001b[0m in \u001b[0;36m_input_request\u001b[1;34m(self, prompt, ident, parent, password)\u001b[0m\n\u001b[0;32m    884\u001b[0m             \u001b[1;32mtry\u001b[0m\u001b[1;33m:\u001b[0m\u001b[1;33m\u001b[0m\u001b[1;33m\u001b[0m\u001b[0m\n\u001b[1;32m--> 885\u001b[1;33m                 \u001b[0mident\u001b[0m\u001b[1;33m,\u001b[0m \u001b[0mreply\u001b[0m \u001b[1;33m=\u001b[0m \u001b[0mself\u001b[0m\u001b[1;33m.\u001b[0m\u001b[0msession\u001b[0m\u001b[1;33m.\u001b[0m\u001b[0mrecv\u001b[0m\u001b[1;33m(\u001b[0m\u001b[0mself\u001b[0m\u001b[1;33m.\u001b[0m\u001b[0mstdin_socket\u001b[0m\u001b[1;33m,\u001b[0m \u001b[1;36m0\u001b[0m\u001b[1;33m)\u001b[0m\u001b[1;33m\u001b[0m\u001b[1;33m\u001b[0m\u001b[0m\n\u001b[0m\u001b[0;32m    886\u001b[0m             \u001b[1;32mexcept\u001b[0m \u001b[0mException\u001b[0m\u001b[1;33m:\u001b[0m\u001b[1;33m\u001b[0m\u001b[1;33m\u001b[0m\u001b[0m\n",
      "\u001b[1;32m~\\Anaconda3\\lib\\site-packages\\jupyter_client\\session.py\u001b[0m in \u001b[0;36mrecv\u001b[1;34m(self, socket, mode, content, copy)\u001b[0m\n\u001b[0;32m    802\u001b[0m         \u001b[1;32mtry\u001b[0m\u001b[1;33m:\u001b[0m\u001b[1;33m\u001b[0m\u001b[1;33m\u001b[0m\u001b[0m\n\u001b[1;32m--> 803\u001b[1;33m             \u001b[0mmsg_list\u001b[0m \u001b[1;33m=\u001b[0m \u001b[0msocket\u001b[0m\u001b[1;33m.\u001b[0m\u001b[0mrecv_multipart\u001b[0m\u001b[1;33m(\u001b[0m\u001b[0mmode\u001b[0m\u001b[1;33m,\u001b[0m \u001b[0mcopy\u001b[0m\u001b[1;33m=\u001b[0m\u001b[0mcopy\u001b[0m\u001b[1;33m)\u001b[0m\u001b[1;33m\u001b[0m\u001b[1;33m\u001b[0m\u001b[0m\n\u001b[0m\u001b[0;32m    804\u001b[0m         \u001b[1;32mexcept\u001b[0m \u001b[0mzmq\u001b[0m\u001b[1;33m.\u001b[0m\u001b[0mZMQError\u001b[0m \u001b[1;32mas\u001b[0m \u001b[0me\u001b[0m\u001b[1;33m:\u001b[0m\u001b[1;33m\u001b[0m\u001b[1;33m\u001b[0m\u001b[0m\n",
      "\u001b[1;32m~\\Anaconda3\\lib\\site-packages\\zmq\\sugar\\socket.py\u001b[0m in \u001b[0;36mrecv_multipart\u001b[1;34m(self, flags, copy, track)\u001b[0m\n\u001b[0;32m    474\u001b[0m         \"\"\"\n\u001b[1;32m--> 475\u001b[1;33m         \u001b[0mparts\u001b[0m \u001b[1;33m=\u001b[0m \u001b[1;33m[\u001b[0m\u001b[0mself\u001b[0m\u001b[1;33m.\u001b[0m\u001b[0mrecv\u001b[0m\u001b[1;33m(\u001b[0m\u001b[0mflags\u001b[0m\u001b[1;33m,\u001b[0m \u001b[0mcopy\u001b[0m\u001b[1;33m=\u001b[0m\u001b[0mcopy\u001b[0m\u001b[1;33m,\u001b[0m \u001b[0mtrack\u001b[0m\u001b[1;33m=\u001b[0m\u001b[0mtrack\u001b[0m\u001b[1;33m)\u001b[0m\u001b[1;33m]\u001b[0m\u001b[1;33m\u001b[0m\u001b[1;33m\u001b[0m\u001b[0m\n\u001b[0m\u001b[0;32m    476\u001b[0m         \u001b[1;31m# have first part already, only loop while more to receive\u001b[0m\u001b[1;33m\u001b[0m\u001b[1;33m\u001b[0m\u001b[1;33m\u001b[0m\u001b[0m\n",
      "\u001b[1;32mzmq/backend/cython/socket.pyx\u001b[0m in \u001b[0;36mzmq.backend.cython.socket.Socket.recv\u001b[1;34m()\u001b[0m\n",
      "\u001b[1;32mzmq/backend/cython/socket.pyx\u001b[0m in \u001b[0;36mzmq.backend.cython.socket.Socket.recv\u001b[1;34m()\u001b[0m\n",
      "\u001b[1;32mzmq/backend/cython/socket.pyx\u001b[0m in \u001b[0;36mzmq.backend.cython.socket._recv_copy\u001b[1;34m()\u001b[0m\n",
      "\u001b[1;32m~\\Anaconda3\\lib\\site-packages\\zmq\\backend\\cython\\checkrc.pxd\u001b[0m in \u001b[0;36mzmq.backend.cython.checkrc._check_rc\u001b[1;34m()\u001b[0m\n",
      "\u001b[1;31mKeyboardInterrupt\u001b[0m: ",
      "\nDuring handling of the above exception, another exception occurred:\n",
      "\u001b[1;31mKeyboardInterrupt\u001b[0m                         Traceback (most recent call last)",
      "\u001b[1;32m<ipython-input-170-1c0269196c56>\u001b[0m in \u001b[0;36m<module>\u001b[1;34m\u001b[0m\n\u001b[1;32m----> 1\u001b[1;33m \u001b[0mTrain\u001b[0m\u001b[1;33m(\u001b[0m\u001b[0mRuo\u001b[0m\u001b[1;33m)\u001b[0m\u001b[1;33m\u001b[0m\u001b[1;33m\u001b[0m\u001b[0m\n\u001b[0m",
      "\u001b[1;32m<ipython-input-169-de8492bbed1f>\u001b[0m in \u001b[0;36mTrain\u001b[1;34m(player1)\u001b[0m\n\u001b[0;32m    111\u001b[0m             \u001b[1;32mbreak\u001b[0m\u001b[1;33m\u001b[0m\u001b[1;33m\u001b[0m\u001b[0m\n\u001b[0;32m    112\u001b[0m         \u001b[1;32mif\u001b[0m \u001b[1;33m(\u001b[0m\u001b[0mcurrent_player\u001b[0m \u001b[1;33m==\u001b[0m \u001b[1;36m1\u001b[0m\u001b[1;33m)\u001b[0m\u001b[1;33m:\u001b[0m\u001b[1;33m\u001b[0m\u001b[1;33m\u001b[0m\u001b[0m\n\u001b[1;32m--> 113\u001b[1;33m             \u001b[0mplayer1_action\u001b[0m \u001b[1;33m=\u001b[0m \u001b[0mstr\u001b[0m\u001b[1;33m(\u001b[0m\u001b[0minput\u001b[0m\u001b[1;33m(\u001b[0m\u001b[1;34mf\"{player1.name.split(') ')[1:][0]}: Do you want to hit or heal? >>\"\u001b[0m\u001b[1;33m)\u001b[0m\u001b[1;33m)\u001b[0m\u001b[1;33m\u001b[0m\u001b[1;33m\u001b[0m\u001b[0m\n\u001b[0m\u001b[0;32m    114\u001b[0m             \u001b[1;32mif\u001b[0m \u001b[1;33m(\u001b[0m\u001b[0mplayer1_action\u001b[0m\u001b[1;33m.\u001b[0m\u001b[0mlower\u001b[0m\u001b[1;33m(\u001b[0m\u001b[1;33m)\u001b[0m \u001b[1;33m==\u001b[0m \u001b[1;34m'hit'\u001b[0m\u001b[1;33m)\u001b[0m\u001b[1;33m:\u001b[0m\u001b[1;33m\u001b[0m\u001b[1;33m\u001b[0m\u001b[0m\n\u001b[0;32m    115\u001b[0m                 \u001b[0mBot\u001b[0m\u001b[1;33m.\u001b[0m\u001b[0mbattle_health\u001b[0m \u001b[1;33m-=\u001b[0m \u001b[0mplayer1\u001b[0m\u001b[1;33m.\u001b[0m\u001b[0mbattle_damage\u001b[0m\u001b[1;33m\u001b[0m\u001b[1;33m\u001b[0m\u001b[0m\n",
      "\u001b[1;32m~\\Anaconda3\\lib\\site-packages\\ipykernel\\kernelbase.py\u001b[0m in \u001b[0;36mraw_input\u001b[1;34m(self, prompt)\u001b[0m\n\u001b[0;32m    858\u001b[0m             \u001b[0mself\u001b[0m\u001b[1;33m.\u001b[0m\u001b[0m_parent_ident\u001b[0m\u001b[1;33m,\u001b[0m\u001b[1;33m\u001b[0m\u001b[1;33m\u001b[0m\u001b[0m\n\u001b[0;32m    859\u001b[0m             \u001b[0mself\u001b[0m\u001b[1;33m.\u001b[0m\u001b[0m_parent_header\u001b[0m\u001b[1;33m,\u001b[0m\u001b[1;33m\u001b[0m\u001b[1;33m\u001b[0m\u001b[0m\n\u001b[1;32m--> 860\u001b[1;33m             \u001b[0mpassword\u001b[0m\u001b[1;33m=\u001b[0m\u001b[1;32mFalse\u001b[0m\u001b[1;33m,\u001b[0m\u001b[1;33m\u001b[0m\u001b[1;33m\u001b[0m\u001b[0m\n\u001b[0m\u001b[0;32m    861\u001b[0m         )\n\u001b[0;32m    862\u001b[0m \u001b[1;33m\u001b[0m\u001b[0m\n",
      "\u001b[1;32m~\\Anaconda3\\lib\\site-packages\\ipykernel\\kernelbase.py\u001b[0m in \u001b[0;36m_input_request\u001b[1;34m(self, prompt, ident, parent, password)\u001b[0m\n\u001b[0;32m    888\u001b[0m             \u001b[1;32mexcept\u001b[0m \u001b[0mKeyboardInterrupt\u001b[0m\u001b[1;33m:\u001b[0m\u001b[1;33m\u001b[0m\u001b[1;33m\u001b[0m\u001b[0m\n\u001b[0;32m    889\u001b[0m                 \u001b[1;31m# re-raise KeyboardInterrupt, to truncate traceback\u001b[0m\u001b[1;33m\u001b[0m\u001b[1;33m\u001b[0m\u001b[1;33m\u001b[0m\u001b[0m\n\u001b[1;32m--> 890\u001b[1;33m                 \u001b[1;32mraise\u001b[0m \u001b[0mKeyboardInterrupt\u001b[0m\u001b[1;33m\u001b[0m\u001b[1;33m\u001b[0m\u001b[0m\n\u001b[0m\u001b[0;32m    891\u001b[0m             \u001b[1;32melse\u001b[0m\u001b[1;33m:\u001b[0m\u001b[1;33m\u001b[0m\u001b[1;33m\u001b[0m\u001b[0m\n\u001b[0;32m    892\u001b[0m                 \u001b[1;32mbreak\u001b[0m\u001b[1;33m\u001b[0m\u001b[1;33m\u001b[0m\u001b[0m\n",
      "\u001b[1;31mKeyboardInterrupt\u001b[0m: "
     ]
    }
   ],
   "source": [
    "Train(Ruo)"
   ]
  },
  {
   "cell_type": "code",
   "execution_count": 8,
   "metadata": {},
   "outputs": [],
   "source": [
    "def autoTrain(player1):\n",
    "    level = int(input(\"Which level do you want to start at:\"))\n",
    "    Bot = Player(f\"[Level {level}] Bot\")\n",
    "    Bot.battle_health = level*30\n",
    "    win = False\n",
    "    current_player = 1\n",
    "    player1.health = random.randint(player1.min_health, player1.max_health)\n",
    "    Bot.health = random.randint(level*20, level*35)\n",
    "    player1.battle_health = player1.health\n",
    "    Bot.battle_health = Bot.health\n",
    "    player1_previous_coins = player1.coins\n",
    "    player1_previous_gold = player1.golden_nuggets\n",
    "    player1_previous_diamonds = player1.diamonds\n",
    "    while True:\n",
    "        Bot.name = f\"[Level {level}] Bot\"\n",
    "        clear_output()\n",
    "        print(f\"{player1.name}'s Health: {str(player1.battle_health)} \\n \\n\")\n",
    "        print(f\"{Bot.name}'s Health: {str(Bot.battle_health)}\")\n",
    "        player1.damage = random.randint(player1.min_damage, player1.max_damage)\n",
    "        player1.battle_damage = player1.damage\n",
    "        if (player1.battle_health <= 0):\n",
    "            print(f\"{player1.name.split(') ')[1:][0]} was  DEFEATED!!!!\")\n",
    "            restart_level = str(input(\"Do you want to restart this level? Y/N >>\"))\n",
    "            if (restart_level.lower() == 'y'):\n",
    "                player1.health = random.randint(player1.min_health, player1.max_health)\n",
    "                player1.damage = random.randint(player1.min_damage, player1.max_damage)\n",
    "                Bot.health = random.randint(level*20, level*35)\n",
    "                player1.battle_health = player1.health\n",
    "                player1.battle_damage = player1.damage\n",
    "                Bot.battle_health = Bot.health\n",
    "                continue\n",
    "            elif (restart_level.lower() == 'n'):\n",
    "                clear_output()\n",
    "                print(f\"You have defeated {Bot.name}!!\\n\\n\")\n",
    "                coins = int(player1.coins) - int(player1_previous_coins)\n",
    "                txtcoins = \"coin\" if coins == 1 else \"coins\"\n",
    "                print(f\"You have collected {coins} {txtcoins} from the Training Arena.\\n\")\n",
    "\n",
    "                golden_nuggets = int(player1.golden_nuggets) - int(player1_previous_gold)\n",
    "                gntxt = \"gold nugget\" if golden_nuggets == 1 else \"golden nuggets\"\n",
    "                print(f\"You have collected {golden_nuggets} {gntxt} from the Training Arena.\\n\")\n",
    "                \n",
    "                diamonds = int(player1.diamonds) - int(player1_previous_diamonds)\n",
    "                dmdtxt = \"diamond\" if diamonds == 1 else \"diamonds\"\n",
    "                print(f\"You have collected {diamonds} {dmdtxt} from the Training Arena.\")\n",
    "                player1.health = random.randint(player1.min_health, player1.max_health)\n",
    "                player1.damage = random.randint(player1.min_damage, player1.max_damage)\n",
    "                Bot.health = random.randint(level*20, level*35)\n",
    "                player1.battle_health = player1.health\n",
    "                player1.battle_damage = player1.damage\n",
    "                Bot.battle_health = Bot.health\n",
    "                break\n",
    "        if (Bot.battle_health <= 0):\n",
    "            print(f\"{player1.name.split(') ')[1:][0]} has WON!!!!\")\n",
    "            level += 1\n",
    "            if level % 7 == 0:\n",
    "                player1.golden_nuggets+=1\n",
    "            if (level % 3 == 0 and level != 1):\n",
    "                player1.coins += 1\n",
    "            if level % 10 == 0:\n",
    "                player1.diamonds += 1\n",
    "            if (level == 3001):\n",
    "                clear_output()\n",
    "                coins = int(player1.coins) - int(player1_previous_coins)\n",
    "                txtcoins = \"coin\" if coins == 1 else \"coins\"\n",
    "                print(f\"You have collected {coins} {txtcoins} from the Training Arena.\\n\")\n",
    "\n",
    "                golden_nuggets = int(player1.golden_nuggets) - int(player1_previous_gold)\n",
    "                gntxt = \"gold nugget\" if golden_nuggets == 1 else \"golden nuggets\"\n",
    "                print(f\"You have collected {golden_nuggets} {gntxt} from the Training Arena.\\n\")\n",
    "                \n",
    "                diamonds = int(player1.diamonds) - int(player1_previous_diamonds)\n",
    "                dmdtxt = \"diamond\" if diamonds == 1 else \"diamonds\"\n",
    "                print(f\"You have collected {diamonds} {dmdtxt} from the Training Arena.\")\n",
    "                break\n",
    "            level_up = \"y\"#str(input('Do you want to go to the next level? Y/N >>'))\n",
    "            if (level_up.lower() == 'y'):\n",
    "                player1.health = random.randint(player1.min_health, player1.max_health)\n",
    "                player1.damage = random.randint(player1.min_damage, player1.max_damage)\n",
    "                Bot.health = random.randint(level*20, level*35)\n",
    "                player1.battle_health = player1.health\n",
    "                player1.battle_damage = player1.damage\n",
    "                Bot.battle_health = Bot.health\n",
    "                continue\n",
    "            win = True\n",
    "        if (win == True):\n",
    "            player1.health = random.randint(player1.min_health, player1.max_health)\n",
    "            player1.damage = random.randint(player1.min_damage, player1.max_damage)\n",
    "            Bot.health = random.randint(level*20, level*35)\n",
    "            player1.battle_health = player1.health\n",
    "            player1.battle_damage = player1.damage\n",
    "            Bot.battle_health = Bot.health\n",
    "            break\n",
    "        if (current_player == 1):\n",
    "            player1_action = \"hit\"#str(input(f\"{player1.name.split(') ')[1:][0]}: Do you want to hit or heal? >>\"))\n",
    "            if (player1_action.lower() == 'hit'):\n",
    "                Bot.battle_health -= player1.battle_damage\n",
    "            elif (player1_action.lower() == 'heal'):\n",
    "                player1.battle_health += player1.battle_damage\n",
    "            current_player = 2\n",
    "            continue\n",
    "        elif (current_player == 2):\n",
    "            player1.battle_health -= level*10\n",
    "            current_player = 1\n",
    "        if (player1.battle_health < 0):\n",
    "            player1.battle_health == 0"
   ]
  },
  {
   "cell_type": "code",
   "execution_count": null,
   "metadata": {},
   "outputs": [],
   "source": [
    "Qing.trade_golden_nuggets()\n",
    "Qing.trade_diamonds()\n",
    "Qing.upgrade()\n",
    "autoTrain(Qing)"
   ]
  },
  {
   "cell_type": "code",
   "execution_count": 172,
   "metadata": {},
   "outputs": [],
   "source": [
    "def Zombie(player1):\n",
    "    group = random.randint(10, 15)\n",
    "    level = random.randint(10, 20)\n",
    "    Bot = Player(f\"[Level {level}] zombie\")\n",
    "    Bot.battle_health = level*30\n",
    "    win = False\n",
    "    current_player = 1\n",
    "    player1.health = random.randint(player1.min_health, player1.max_health)\n",
    "    Bot.health = random.randint(level*20, level*35)\n",
    "    player1.battle_health = player1.health\n",
    "    Bot.battle_health = Bot.health\n",
    "    player1_previous_coins = player1.coins\n",
    "    while True:\n",
    "        Bot.name = f\"[Level {level}] Zombie\"\n",
    "        clear_output()\n",
    "        print(f\"{player1.name}'s Health: {str(player1.battle_health)} \\n \\n\")\n",
    "        print(f\"{Bot.name}'s Health: {str(Bot.battle_health)}\")\n",
    "        player1.damage = random.randint(player1.min_damage, player1.max_damage)\n",
    "        player1.battle_damage = player1.damage\n",
    "        if (player1.battle_health <= 0):\n",
    "            print(f\"{player1.name.split(') ')[1:][0]} was  DEFEATED!!!!\")\n",
    "            restart_level = str(input(\"Do you want to try again? Y/N >>\"))\n",
    "            if (restart_level.lower() == 'y'):\n",
    "                player1.health = random.randint(player1.min_health, player1.max_health)\n",
    "                player1.damage = random.randint(player1.min_damage, player1.max_damage)\n",
    "                Bot.health = random.randint(level*20, level*35)\n",
    "                player1.battle_health = player1.health\n",
    "                player1.battle_damage = player1.damage\n",
    "                Bot.battle_health = Bot.health\n",
    "                continue\n",
    "            elif (restart_level.lower() == 'n'):\n",
    "                clear_output()\n",
    "                coins = (int(player1.coins) - int(player1_previous_coins) == 1)\n",
    "                txt = \"coin\" if coins == 1 else \"coins\"\n",
    "                print(f\"You have collected {coins} {txt} from the Zombie Apocalypse.\")\n",
    "                player1.health = random.randint(player1.min_health, player1.max_health)\n",
    "                player1.damage = random.randint(player1.min_damage, player1.max_damage)\n",
    "                Bot.health = random.randint(level*20, level*35)\n",
    "                player1.battle_health = player1.health\n",
    "                player1.battle_damage = player1.damage\n",
    "                Bot.battle_health = Bot.health\n",
    "                break\n",
    "        if (Bot.battle_health <= 0):\n",
    "            print(f\"{player1.name.split(') ')[1:][0]} has WON!!!!\")\n",
    "            player1.coins += 1\n",
    "            level_up = str(input('Do you want to continue to battle in the Zombie Apocalpse? Y/N >>'))\n",
    "            if (level_up.lower() == 'y'):\n",
    "                player1.health = random.randint(player1.min_health, player1.max_health)\n",
    "                player1.damage = random.randint(player1.min_damage, player1.max_damage)\n",
    "                Bot.health = random.randint(level*20, level*35)\n",
    "                player1.battle_health = player1.health\n",
    "                player1.battle_damage = player1.damage\n",
    "                Bot.battle_health = Bot.health\n",
    "                level = random.randint(10, 20)\n",
    "                continue\n",
    "            elif (level_up.lower() == 'n'):\n",
    "                clear_output()\n",
    "                print(f\"You have defeated {Bot.name}!!\\n\")\n",
    "                coins = (int(player1.coins) - int(player1_previous_coins) == 1)\n",
    "                txt = \"coin\" if coins == 1 else \"coins\"\n",
    "                print(f\"You have collected {coins} {txt} from the Zombie Apocalypse.\")\n",
    "                player1.health = random.randint(player1.min_health, player1.max_health)\n",
    "                player1.damage = random.randint(player1.min_damage, player1.max_damage)\n",
    "                Bot.health = random.randint(level*20, level*35)\n",
    "                player1.battle_health = player1.health\n",
    "                player1.battle_damage = player1.damage\n",
    "                Bot.battle_health = Bot.health\n",
    "                break\n",
    "            win = True\n",
    "        if (win == True):\n",
    "            player1.health = random.randint(player1.min_health, player1.max_health)\n",
    "            player1.damage = random.randint(player1.min_damage, player1.max_damage)\n",
    "            Bot.health = random.randint(level*20, level*35)\n",
    "            player1.battle_health = player1.health\n",
    "            player1.battle_damage = player1.damage\n",
    "            Bot.battle_health = Bot.health\n",
    "            break\n",
    "        if (current_player == 1):\n",
    "            player1_action = str(input(f\"{player1.name.split(') ')[1:][0]}: Do you want to hit or heal? >>\"))\n",
    "            if (player1_action.lower() == 'hit'):\n",
    "                Bot.battle_health -= player1.battle_damage\n",
    "            elif (player1_action.lower() == 'heal'):\n",
    "                player1.battle_health += player1.battle_damage\n",
    "            current_player = 2\n",
    "            continue\n",
    "        elif (current_player == 2):\n",
    "            player1.battle_health -= player1.battle_health-1#level*10\n",
    "            current_player = 1"
   ]
  },
  {
   "cell_type": "markdown",
   "metadata": {},
   "source": [
    "# Coins"
   ]
  },
  {
   "cell_type": "code",
   "execution_count": 166,
   "metadata": {},
   "outputs": [
    {
     "data": {
      "text/plain": [
       "154723"
      ]
     },
     "execution_count": 166,
     "metadata": {},
     "output_type": "execute_result"
    }
   ],
   "source": [
    "Ruo.coins"
   ]
  },
  {
   "cell_type": "code",
   "execution_count": 32,
   "metadata": {},
   "outputs": [
    {
     "data": {
      "text/plain": [
       "5"
      ]
     },
     "execution_count": 32,
     "metadata": {},
     "output_type": "execute_result"
    }
   ],
   "source": [
    "Qing.coins"
   ]
  },
  {
   "cell_type": "code",
   "execution_count": 11,
   "metadata": {},
   "outputs": [
    {
     "data": {
      "text/plain": [
       "0"
      ]
     },
     "execution_count": 11,
     "metadata": {},
     "output_type": "execute_result"
    }
   ],
   "source": [
    "Baby.coins"
   ]
  },
  {
   "cell_type": "code",
   "execution_count": 12,
   "metadata": {},
   "outputs": [
    {
     "data": {
      "text/plain": [
       "0"
      ]
     },
     "execution_count": 12,
     "metadata": {},
     "output_type": "execute_result"
    }
   ],
   "source": [
    "test.coins"
   ]
  },
  {
   "cell_type": "markdown",
   "metadata": {},
   "source": [
    "# Gold Nuggets"
   ]
  },
  {
   "cell_type": "code",
   "execution_count": 159,
   "metadata": {},
   "outputs": [
    {
     "data": {
      "text/plain": [
       "16"
      ]
     },
     "execution_count": 159,
     "metadata": {},
     "output_type": "execute_result"
    }
   ],
   "source": [
    "Ruo.golden_nuggets"
   ]
  },
  {
   "cell_type": "code",
   "execution_count": 163,
   "metadata": {},
   "outputs": [
    {
     "data": {
      "text/plain": [
       "0"
      ]
     },
     "execution_count": 163,
     "metadata": {},
     "output_type": "execute_result"
    }
   ],
   "source": [
    "Qing.golden_nuggets"
   ]
  },
  {
   "cell_type": "code",
   "execution_count": 15,
   "metadata": {},
   "outputs": [
    {
     "data": {
      "text/plain": [
       "0"
      ]
     },
     "execution_count": 15,
     "metadata": {},
     "output_type": "execute_result"
    }
   ],
   "source": [
    "Baby.golden_nuggets"
   ]
  },
  {
   "cell_type": "code",
   "execution_count": 16,
   "metadata": {},
   "outputs": [
    {
     "data": {
      "text/plain": [
       "0"
      ]
     },
     "execution_count": 16,
     "metadata": {},
     "output_type": "execute_result"
    }
   ],
   "source": [
    "test.golden_nuggets"
   ]
  },
  {
   "cell_type": "markdown",
   "metadata": {},
   "source": [
    "# Diamonds"
   ]
  },
  {
   "cell_type": "code",
   "execution_count": 164,
   "metadata": {},
   "outputs": [
    {
     "data": {
      "text/plain": [
       "0"
      ]
     },
     "execution_count": 164,
     "metadata": {},
     "output_type": "execute_result"
    }
   ],
   "source": [
    "Ruo.diamonds"
   ]
  },
  {
   "cell_type": "code",
   "execution_count": 18,
   "metadata": {},
   "outputs": [
    {
     "data": {
      "text/plain": [
       "0"
      ]
     },
     "execution_count": 18,
     "metadata": {},
     "output_type": "execute_result"
    }
   ],
   "source": [
    "Qing.diamonds"
   ]
  },
  {
   "cell_type": "code",
   "execution_count": 19,
   "metadata": {},
   "outputs": [
    {
     "data": {
      "text/plain": [
       "0"
      ]
     },
     "execution_count": 19,
     "metadata": {},
     "output_type": "execute_result"
    }
   ],
   "source": [
    "Baby.diamonds"
   ]
  },
  {
   "cell_type": "code",
   "execution_count": 20,
   "metadata": {},
   "outputs": [
    {
     "data": {
      "text/plain": [
       "0"
      ]
     },
     "execution_count": 20,
     "metadata": {},
     "output_type": "execute_result"
    }
   ],
   "source": [
    "test.diamonds"
   ]
  },
  {
   "cell_type": "markdown",
   "metadata": {},
   "source": [
    "# Shop"
   ]
  },
  {
   "cell_type": "code",
   "execution_count": 161,
   "metadata": {},
   "outputs": [
    {
     "name": "stdout",
     "output_type": "stream",
     "text": [
      "154605\n",
      "154653\n"
     ]
    }
   ],
   "source": [
    "print(Ruo.coins)\n",
    "Ruo.trade_golden_nuggets()\n",
    "print(Ruo.coins)"
   ]
  },
  {
   "cell_type": "code",
   "execution_count": 162,
   "metadata": {},
   "outputs": [
    {
     "name": "stdout",
     "output_type": "stream",
     "text": [
      "154653\n",
      "154723\n"
     ]
    }
   ],
   "source": [
    "print(Ruo.coins)\n",
    "Ruo.trade_diamonds()\n",
    "print(Ruo.coins)"
   ]
  },
  {
   "cell_type": "markdown",
   "metadata": {},
   "source": [
    "## Ruo Upgrades"
   ]
  },
  {
   "cell_type": "code",
   "execution_count": 38,
   "metadata": {},
   "outputs": [],
   "source": [
    "Ruo.upgrade()"
   ]
  },
  {
   "cell_type": "code",
   "execution_count": 39,
   "metadata": {},
   "outputs": [
    {
     "data": {
      "text/plain": [
       "5564845"
      ]
     },
     "execution_count": 39,
     "metadata": {},
     "output_type": "execute_result"
    }
   ],
   "source": [
    "Ruo.health"
   ]
  },
  {
   "cell_type": "code",
   "execution_count": 40,
   "metadata": {},
   "outputs": [
    {
     "data": {
      "text/plain": [
       "4633110"
      ]
     },
     "execution_count": 40,
     "metadata": {},
     "output_type": "execute_result"
    }
   ],
   "source": [
    "Ruo.min_health"
   ]
  },
  {
   "cell_type": "code",
   "execution_count": 41,
   "metadata": {},
   "outputs": [
    {
     "data": {
      "text/plain": [
       "6177480"
      ]
     },
     "execution_count": 41,
     "metadata": {},
     "output_type": "execute_result"
    }
   ],
   "source": [
    "Ruo.max_health"
   ]
  },
  {
   "cell_type": "code",
   "execution_count": 42,
   "metadata": {},
   "outputs": [
    {
     "data": {
      "text/plain": [
       "1185703"
      ]
     },
     "execution_count": 42,
     "metadata": {},
     "output_type": "execute_result"
    }
   ],
   "source": [
    "Ruo.damage"
   ]
  },
  {
   "cell_type": "code",
   "execution_count": 43,
   "metadata": {},
   "outputs": [
    {
     "data": {
      "text/plain": [
       "1081059"
      ]
     },
     "execution_count": 43,
     "metadata": {},
     "output_type": "execute_result"
    }
   ],
   "source": [
    "Ruo.min_damage"
   ]
  },
  {
   "cell_type": "code",
   "execution_count": 44,
   "metadata": {},
   "outputs": [
    {
     "data": {
      "text/plain": [
       "1235496"
      ]
     },
     "execution_count": 44,
     "metadata": {},
     "output_type": "execute_result"
    }
   ],
   "source": [
    "Ruo.max_damage"
   ]
  },
  {
   "cell_type": "markdown",
   "metadata": {},
   "source": [
    "## Qing Upgrades"
   ]
  },
  {
   "cell_type": "code",
   "execution_count": 23,
   "metadata": {},
   "outputs": [],
   "source": [
    "Qing.upgrade()"
   ]
  },
  {
   "cell_type": "code",
   "execution_count": 24,
   "metadata": {},
   "outputs": [
    {
     "data": {
      "text/plain": [
       "156"
      ]
     },
     "execution_count": 24,
     "metadata": {},
     "output_type": "execute_result"
    }
   ],
   "source": [
    "Qing.health"
   ]
  },
  {
   "cell_type": "code",
   "execution_count": 25,
   "metadata": {},
   "outputs": [
    {
     "data": {
      "text/plain": [
       "150"
      ]
     },
     "execution_count": 25,
     "metadata": {},
     "output_type": "execute_result"
    }
   ],
   "source": [
    "Qing.min_health"
   ]
  },
  {
   "cell_type": "code",
   "execution_count": 26,
   "metadata": {},
   "outputs": [
    {
     "data": {
      "text/plain": [
       "200"
      ]
     },
     "execution_count": 26,
     "metadata": {},
     "output_type": "execute_result"
    }
   ],
   "source": [
    "Qing.max_health"
   ]
  },
  {
   "cell_type": "code",
   "execution_count": 27,
   "metadata": {},
   "outputs": [
    {
     "data": {
      "text/plain": [
       "69"
      ]
     },
     "execution_count": 27,
     "metadata": {},
     "output_type": "execute_result"
    }
   ],
   "source": [
    "Qing.damage"
   ]
  },
  {
   "cell_type": "code",
   "execution_count": 28,
   "metadata": {},
   "outputs": [
    {
     "data": {
      "text/plain": [
       "30"
      ]
     },
     "execution_count": 28,
     "metadata": {},
     "output_type": "execute_result"
    }
   ],
   "source": [
    "Qing.min_damage"
   ]
  },
  {
   "cell_type": "code",
   "execution_count": 29,
   "metadata": {},
   "outputs": [
    {
     "data": {
      "text/plain": [
       "70"
      ]
     },
     "execution_count": 29,
     "metadata": {},
     "output_type": "execute_result"
    }
   ],
   "source": [
    "Qing.max_damage"
   ]
  },
  {
   "cell_type": "markdown",
   "metadata": {},
   "source": [
    "# Baby Upgrades"
   ]
  },
  {
   "cell_type": "code",
   "execution_count": 30,
   "metadata": {},
   "outputs": [],
   "source": [
    "Baby.upgrade()"
   ]
  },
  {
   "cell_type": "code",
   "execution_count": 31,
   "metadata": {},
   "outputs": [
    {
     "data": {
      "text/plain": [
       "152"
      ]
     },
     "execution_count": 31,
     "metadata": {},
     "output_type": "execute_result"
    }
   ],
   "source": [
    "Baby.health"
   ]
  },
  {
   "cell_type": "code",
   "execution_count": 32,
   "metadata": {},
   "outputs": [
    {
     "data": {
      "text/plain": [
       "150"
      ]
     },
     "execution_count": 32,
     "metadata": {},
     "output_type": "execute_result"
    }
   ],
   "source": [
    "Baby.min_health"
   ]
  },
  {
   "cell_type": "code",
   "execution_count": 33,
   "metadata": {},
   "outputs": [
    {
     "data": {
      "text/plain": [
       "200"
      ]
     },
     "execution_count": 33,
     "metadata": {},
     "output_type": "execute_result"
    }
   ],
   "source": [
    "Baby.max_health"
   ]
  },
  {
   "cell_type": "code",
   "execution_count": 34,
   "metadata": {},
   "outputs": [
    {
     "data": {
      "text/plain": [
       "56"
      ]
     },
     "execution_count": 34,
     "metadata": {},
     "output_type": "execute_result"
    }
   ],
   "source": [
    "Baby.damage"
   ]
  },
  {
   "cell_type": "code",
   "execution_count": 35,
   "metadata": {},
   "outputs": [
    {
     "data": {
      "text/plain": [
       "30"
      ]
     },
     "execution_count": 35,
     "metadata": {},
     "output_type": "execute_result"
    }
   ],
   "source": [
    "Baby.min_damage"
   ]
  },
  {
   "cell_type": "code",
   "execution_count": 36,
   "metadata": {},
   "outputs": [
    {
     "data": {
      "text/plain": [
       "70"
      ]
     },
     "execution_count": 36,
     "metadata": {},
     "output_type": "execute_result"
    }
   ],
   "source": [
    "Baby.max_damage"
   ]
  },
  {
   "cell_type": "markdown",
   "metadata": {},
   "source": [
    "## Test Upgrades"
   ]
  },
  {
   "cell_type": "code",
   "execution_count": 37,
   "metadata": {},
   "outputs": [],
   "source": [
    "test.upgrade()"
   ]
  },
  {
   "cell_type": "code",
   "execution_count": 38,
   "metadata": {},
   "outputs": [
    {
     "data": {
      "text/plain": [
       "152"
      ]
     },
     "execution_count": 38,
     "metadata": {},
     "output_type": "execute_result"
    }
   ],
   "source": [
    "test.health"
   ]
  },
  {
   "cell_type": "code",
   "execution_count": 39,
   "metadata": {},
   "outputs": [
    {
     "data": {
      "text/plain": [
       "150"
      ]
     },
     "execution_count": 39,
     "metadata": {},
     "output_type": "execute_result"
    }
   ],
   "source": [
    "test.min_health"
   ]
  },
  {
   "cell_type": "code",
   "execution_count": 40,
   "metadata": {},
   "outputs": [
    {
     "data": {
      "text/plain": [
       "200"
      ]
     },
     "execution_count": 40,
     "metadata": {},
     "output_type": "execute_result"
    }
   ],
   "source": [
    "test.max_health"
   ]
  },
  {
   "cell_type": "code",
   "execution_count": 41,
   "metadata": {},
   "outputs": [
    {
     "data": {
      "text/plain": [
       "48"
      ]
     },
     "execution_count": 41,
     "metadata": {},
     "output_type": "execute_result"
    }
   ],
   "source": [
    "test.damage"
   ]
  },
  {
   "cell_type": "code",
   "execution_count": 42,
   "metadata": {},
   "outputs": [
    {
     "data": {
      "text/plain": [
       "30"
      ]
     },
     "execution_count": 42,
     "metadata": {},
     "output_type": "execute_result"
    }
   ],
   "source": [
    "test.min_damage"
   ]
  },
  {
   "cell_type": "code",
   "execution_count": 43,
   "metadata": {},
   "outputs": [
    {
     "data": {
      "text/plain": [
       "70"
      ]
     },
     "execution_count": 43,
     "metadata": {},
     "output_type": "execute_result"
    }
   ],
   "source": [
    "test.max_damage"
   ]
  },
  {
   "cell_type": "code",
   "execution_count": null,
   "metadata": {},
   "outputs": [],
   "source": []
  }
 ],
 "metadata": {
  "kernelspec": {
   "display_name": "Python 3",
   "language": "python",
   "name": "python3"
  },
  "language_info": {
   "codemirror_mode": {
    "name": "ipython",
    "version": 3
   },
   "file_extension": ".py",
   "mimetype": "text/x-python",
   "name": "python",
   "nbconvert_exporter": "python",
   "pygments_lexer": "ipython3",
   "version": "3.8.8-final"
  }
 },
 "nbformat": 4,
 "nbformat_minor": 2
}