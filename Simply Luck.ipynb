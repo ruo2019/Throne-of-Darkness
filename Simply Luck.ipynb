{
 "metadata": {
  "language_info": {
   "codemirror_mode": {
    "name": "ipython",
    "version": 3
   },
   "file_extension": ".py",
   "mimetype": "text/x-python",
   "name": "python",
   "nbconvert_exporter": "python",
   "pygments_lexer": "ipython3",
   "version": "3.7.4-final"
  },
  "orig_nbformat": 2,
  "kernelspec": {
   "name": "python3",
   "display_name": "Python 3.7.4 64-bit (conda)",
   "metadata": {
    "interpreter": {
     "hash": "23de511454d6e4b2c0853a3c134d741457c5b681c8283e217e352200406cabef"
    }
   }
  }
 },
 "nbformat": 4,
 "nbformat_minor": 2,
 "cells": [
  {
   "cell_type": "code",
   "execution_count": 2,
   "metadata": {},
   "outputs": [],
   "source": [
    "from IPython.display import clear_output"
   ]
  },
  {
   "cell_type": "code",
   "execution_count": 3,
   "metadata": {},
   "outputs": [],
   "source": [
    "import random"
   ]
  },
  {
   "cell_type": "code",
   "execution_count": 1,
   "metadata": {},
   "outputs": [],
   "source": [
    "player1 = 'Player 1'\n",
    "player2 = 'Player 2'"
   ]
  },
  {
   "cell_type": "code",
   "execution_count": 2,
   "metadata": {},
   "outputs": [],
   "source": [
    "class Player():\n",
    "    def __init__(self, name, coins=0, moves=[]):\n",
    "        self.name = name\n",
    "        self.moves = moves\n",
    "        self.coins = coins\n",
    "        self.health = random.randint(170, 201)\n",
    "    def upgrade(self):\n",
    "        \"\"\"Upgrades health when you have a certain amount of coins\"\"\"\n",
    "        if (self.coins >= 3 and self.coins < 5):\n",
    "            self.health = random.randint(190, 221)\n",
    "        elif (self.wins >= 5 and self.wins < 7):\n",
    "            self.health = random.randint(220, 251)\n",
    "        elif (self.wins >= 7 and self.wins < 10):\n",
    "            self.health = random.randint(240, 271)\n",
    "        elif (self.wins >= 10):\n",
    "            self.health = random.randint(260, 291)"
   ]
  },
  {
   "cell_type": "code",
   "execution_count": 20,
   "metadata": {},
   "outputs": [],
   "source": [
    "def Battle():\n",
    "    current_player = 1\n",
    "    while True:\n",
    "        clear_output()\n",
    "        print(f\"{player1}'s Health: {str(player1_health)} \\n \\n\")\n",
    "        print(f\"{player2}'s Health: {str(player2_health)}\")\n",
    "        if (player1_health <= 0):\n",
    "            print(f\"{player2} has  WON!!!!\")\n",
    "            break\n",
    "        if (player2_health <= 0):\n",
    "            print(f\"{player1} has WON!!!!\")\n",
    "            \n",
    "            break\n",
    "        if (current_player == 1):\n",
    "            player1_action = str(input(f\"{player1}: Do you want to hit or heal? >>\"))\n",
    "            moves.append(player1_action)\n",
    "            if (player1_action in moves):\n",
    "                if (player1_action.lower() == 'hit'):\n",
    "                    player2_health -= random.randint(30,71)\n",
    "                elif (player1_action.lower() == 'heal' and player1_health == 100):\n",
    "                    print(f\"{player1}, your health is already at its max.\")\n",
    "                    continue\n",
    "                elif (player1_action.lower() == 'heal' and player1_health <= 50):\n",
    "                    player1_health += random.randint(30,71)\n",
    "                current_player = 2\n",
    "                continue\n",
    "        elif (current_player == 2):\n",
    "            player2_action = str(input(f\"{player2}: Do you want to hit or heal? >>\"))\n",
    "            moves.append(player2_action)\n",
    "            if (player2_action in moves):\n",
    "                if (player2_action.lower() == 'hit'):\n",
    "                    player1_health -= random.randint(30,71)\n",
    "                elif (player2_action.lower() == 'heal' and player2_health == 100):\n",
    "                    print(f\"{player2}, your health is already at its max.\")\n",
    "                    continue\n",
    "                elif (player2_action.lower() == 'heal' and player2_health < 100):\n",
    "                    player2_health += random.randint(30,71)\n",
    "                current_player = 1\n",
    "                continue"
   ]
  },
  {
   "cell_type": "code",
   "execution_count": 21,
   "metadata": {},
   "outputs": [
    {
     "output_type": "stream",
     "name": "stdout",
     "text": [
      "Player 1's Health: 14 \n \n\nPlayer 2's Health: -23\nPlayer 1 has WON!!!!\n"
     ]
    }
   ],
   "source": [
    "Battle()"
   ]
  },
  {
   "cell_type": "code",
   "execution_count": 6,
   "metadata": {},
   "outputs": [
    {
     "output_type": "execute_result",
     "data": {
      "text/plain": [
       "[]"
      ]
     },
     "metadata": {},
     "execution_count": 6
    }
   ],
   "source": [
    "moves"
   ]
  },
  {
   "cell_type": "code",
   "execution_count": null,
   "metadata": {},
   "outputs": [],
   "source": []
  }
 ]
}