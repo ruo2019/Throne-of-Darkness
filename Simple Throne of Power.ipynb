{
 "metadata": {
  "language_info": {
   "codemirror_mode": {
    "name": "ipython",
    "version": 3
   },
   "file_extension": ".py",
   "mimetype": "text/x-python",
   "name": "python",
   "nbconvert_exporter": "python",
   "pygments_lexer": "ipython3",
   "version": "3.7.4"
  },
  "orig_nbformat": 2,
  "kernelspec": {
   "name": "python3",
   "display_name": "Python 3.7.4 64-bit ('base': conda)",
   "metadata": {
    "interpreter": {
     "hash": "23de511454d6e4b2c0853a3c134d741457c5b681c8283e217e352200406cabef"
    }
   }
  }
 },
 "nbformat": 4,
 "nbformat_minor": 2,
 "cells": [
  {
   "cell_type": "code",
   "execution_count": 1,
   "metadata": {},
   "outputs": [],
   "source": [
    "from IPython.display import clear_output"
   ]
  },
  {
   "cell_type": "code",
   "execution_count": 2,
   "metadata": {},
   "outputs": [],
   "source": [
    "player1_health = 100\n",
    "player2_health = 100"
   ]
  },
  {
   "cell_type": "code",
   "execution_count": 3,
   "metadata": {},
   "outputs": [],
   "source": [
    "player1 = \"Player 1's health: \" + str(player1_health)\n",
    "player2 = \"Player 2's health: \" + str(player2_health)"
   ]
  },
  {
   "cell_type": "code",
   "execution_count": 4,
   "metadata": {},
   "outputs": [
    {
     "output_type": "stream",
     "name": "stdout",
     "text": [
      "Player 1's health: -250\n\n\nPlayer 2's health: 100\n"
     ]
    }
   ],
   "source": [
    "while True:\n",
    "    clear_output()\n",
    "    print(player1)\n",
    "    print('\\n')\n",
    "    print(player2)\n",
    "    player1_action = str(input('Player 1: Do you want to hit or heal? >>'))\n",
    "    if (player1_action.lower() == 'hit'):\n",
    "        player2_health -= 50\n",
    "        clear_output()\n",
    "        print(player1)\n",
    "        print('\\n')\n",
    "        print(player2)\n",
    "        player1 = \"Player 1's health: \" + str(player1_health)\n",
    "        player2 = \"Player 2's health: \" + str(player2_health)\n",
    "    elif (player1_action.lower() == 'heal' and player1_health == 100):\n",
    "        print('Your health is already at its max.')\n",
    "        continue\n",
    "    elif (player1_action.lower() == 'heal' and player1_health <= 50):\n",
    "        player1_health += 50\n",
    "        clear_output()\n",
    "        print(player1)\n",
    "        print('\\n')\n",
    "        print(player2)\n",
    "        player1 = \"Player 1's health: \" + str(player1_health)\n",
    "        player2 = \"Player 2's health: \" + str(player2_health)\n",
    "    if (player2_health == 0):\n",
    "        clear_output()\n",
    "        print(player1)\n",
    "        print('\\n')\n",
    "        print(player2)\n",
    "        print('Player 1 has WON!!!')\n",
    "        break\n",
    "    if (player1_health == 0):\n",
    "        clear_output()\n",
    "        print(player1)\n",
    "        print('\\n')\n",
    "        print(player2)\n",
    "        print('Player 2 has WON!!!')\n",
    "        break\n",
    "    while True:\n",
    "        clear_output()\n",
    "        print(player1)\n",
    "        print('\\n')\n",
    "        print(player2)\n",
    "        player2_action = str(input('Player 2: Do you want to hit or heal? >>'))\n",
    "        if (player2_action.lower() == 'hit'):\n",
    "            player1_health -= 50\n",
    "            clear_output()\n",
    "            print(player1)\n",
    "            print('\\n')\n",
    "            print(player2)\n",
    "            player1 = \"Player 1's health: \" + str(player1_health)\n",
    "            player2 = \"Player 2's health: \" + str(player2_health)\n",
    "        elif (player2_action.lower() == 'heal' and player2_health == 100):\n",
    "            print('Your health is already at its max.')\n",
    "            continue\n",
    "        elif (player2_action.lower() == 'heal' and player2_health <= 50):\n",
    "            player2_health += 50\n",
    "            clear_output()\n",
    "            print(player1)\n",
    "            print('\\n')\n",
    "            print(player2)\n",
    "            player1 = \"Player 1's health: \" + str(player1_health)\n",
    "            player2 = \"Player 2's health: \" + str(player2_health)"
   ]
  },
  {
   "cell_type": "code",
   "execution_count": null,
   "metadata": {},
   "outputs": [],
   "source": []
  }
 ]
}