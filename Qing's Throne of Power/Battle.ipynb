{
 "metadata": {
  "language_info": {
   "codemirror_mode": {
    "name": "ipython",
    "version": 3
   },
   "file_extension": ".py",
   "mimetype": "text/x-python",
   "name": "python",
   "nbconvert_exporter": "python",
   "pygments_lexer": "ipython3",
   "version": "3.8.5-final"
  },
  "orig_nbformat": 2,
  "kernelspec": {
   "name": "python3",
   "display_name": "Python 3",
   "language": "python"
  }
 },
 "nbformat": 4,
 "nbformat_minor": 2,
 "cells": [
  {
   "cell_type": "code",
   "execution_count": 1,
   "metadata": {},
   "outputs": [],
   "source": [
    "import Player\n",
    "import importlib\n",
    "from IPython.display import clear_output"
   ]
  },
  {
   "cell_type": "code",
   "execution_count": 2,
   "metadata": {},
   "outputs": [
    {
     "output_type": "execute_result",
     "data": {
      "text/plain": [
       "<module 'Player' from 'c:\\\\Users\\\\qingy\\\\Documents\\\\Python_Projects\\\\Battle\\\\Player.py'>"
      ]
     },
     "metadata": {},
     "execution_count": 2
    }
   ],
   "source": [
    "importlib.reload(Player)"
   ]
  },
  {
   "cell_type": "code",
   "execution_count": 3,
   "metadata": {},
   "outputs": [
    {
     "output_type": "execute_result",
     "data": {
      "text/plain": [
       "<module 'Player' from 'c:\\\\Users\\\\qingy\\\\Documents\\\\Python_Projects\\\\Battle\\\\Player.py'>"
      ]
     },
     "metadata": {},
     "execution_count": 3
    }
   ],
   "source": [
    "import sys\n",
    "sys.modules.pop('Player')"
   ]
  },
  {
   "cell_type": "code",
   "execution_count": 4,
   "metadata": {},
   "outputs": [],
   "source": [
    "def SaveAccount(player):\n",
    "    Saved_Accounts = open(\"Saved Accounts.txt\",mode='a')\n",
    "    Saved_Accounts.write(f\"{player.name} = Player.Player(name = '{player.name}', wins = {player.wins},health={player.health},moves={player.moves},damage = {player.damage},max_damage={player.max_damage}, dragons={player.dragons})\\n\")\n",
    "    Saved_Accounts.close()"
   ]
  },
  {
   "source": [
    "# Bot Battles"
   ],
   "cell_type": "markdown",
   "metadata": {}
  },
  {
   "cell_type": "code",
   "execution_count": 5,
   "metadata": {},
   "outputs": [],
   "source": [
    "Bot = Player.Player(\"Bot Pupy\")"
   ]
  },
  {
   "cell_type": "code",
   "execution_count": 6,
   "metadata": {},
   "outputs": [
    {
     "output_type": "execute_result",
     "data": {
      "text/plain": [
       "{'Sword Slice': 80, 'Lightsaber Stab': 200}"
      ]
     },
     "metadata": {},
     "execution_count": 6
    }
   ],
   "source": [
    "Bot.damage"
   ]
  },
  {
   "source": [
    "# Test Battles"
   ],
   "cell_type": "markdown",
   "metadata": {}
  },
  {
   "cell_type": "code",
   "execution_count": 7,
   "metadata": {},
   "outputs": [],
   "source": [
    "Test = Player.Player(\"Froggie\")"
   ]
  },
  {
   "cell_type": "code",
   "execution_count": 8,
   "metadata": {},
   "outputs": [
    {
     "output_type": "execute_result",
     "data": {
      "text/plain": [
       "0"
      ]
     },
     "metadata": {},
     "execution_count": 8
    }
   ],
   "source": [
    "Test.max_damage"
   ]
  },
  {
   "cell_type": "code",
   "execution_count": 9,
   "metadata": {},
   "outputs": [
    {
     "output_type": "execute_result",
     "data": {
      "text/plain": [
       "['Sword Slice', 'Lightsaber Stab']"
      ]
     },
     "metadata": {},
     "execution_count": 9
    }
   ],
   "source": [
    "Test.moves"
   ]
  },
  {
   "source": [
    "# Creating Station"
   ],
   "cell_type": "markdown",
   "metadata": {}
  },
  {
   "source": [
    "# Dragons"
   ],
   "cell_type": "markdown",
   "metadata": {}
  },
  {
   "source": [
    "In order to get a dragon, first finish a maze: maze.svg"
   ],
   "cell_type": "markdown",
   "metadata": {}
  },
  {
   "cell_type": "code",
   "execution_count": 10,
   "metadata": {},
   "outputs": [],
   "source": [
    "import Player\n",
    "Shadow = Player.Player(name = 'Shadow', wins = 5,health=900,moves=['Sword Slice', 'Hypnosis'],damage = {'Sword Slice': 180, 'Hypnosis': 300},max_damage=580)\n",
    "Koala = Player.Player(name = 'Koala', wins = 5,health=900,moves=['Sword Slice', 'Lightsaber Stab'],damage = {'Sword Slice': 180, 'Lightsaber Stab': 300},max_damage=480)\n",
    "Cat = Player.Player(name = 'White Cat', wins = 3,health=600,moves=['Punch', 'Thundering Earthquake'],damage = {'Punch': 130, 'Thundering Earthquake': 210},max_damage=420)"
   ]
  },
  {
   "cell_type": "code",
   "execution_count": 13,
   "metadata": {},
   "outputs": [
    {
     "output_type": "stream",
     "name": "stdout",
     "text": [
      "Stealth: {'Night Vision': 160, 'Darksaber Stab': 200}\n"
     ]
    }
   ],
   "source": [
    "print(Shadow.dragons[0]) #OMG!"
   ]
  },
  {
   "cell_type": "code",
   "execution_count": 19,
   "metadata": {},
   "outputs": [
    {
     "output_type": "stream",
     "name": "stdout",
     "text": [
      "Snowfall: {'Electric Bolt': 170, 'Death from Above': 180}\n"
     ]
    }
   ],
   "source": [
    "print(Koala.dragons[0])"
   ]
  },
  {
   "cell_type": "code",
   "execution_count": 18,
   "metadata": {},
   "outputs": [],
   "source": [
    "Stealth = Shadow.dragons[0]"
   ]
  },
  {
   "cell_type": "code",
   "execution_count": 19,
   "metadata": {},
   "outputs": [],
   "source": [
    "Stealth.upgrade()"
   ]
  },
  {
   "cell_type": "code",
   "execution_count": 21,
   "metadata": {},
   "outputs": [],
   "source": [
    "Test = Player.Player(name = \"Test\")"
   ]
  },
  {
   "source": [
    "# Create Status"
   ],
   "cell_type": "markdown",
   "metadata": {}
  },
  {
   "cell_type": "code",
   "execution_count": 12,
   "metadata": {},
   "outputs": [],
   "source": [
    "Shadow.complete_maze()"
   ]
  },
  {
   "cell_type": "code",
   "execution_count": 18,
   "metadata": {},
   "outputs": [],
   "source": [
    "Koala.complete_maze()"
   ]
  },
  {
   "cell_type": "code",
   "execution_count": 60,
   "metadata": {},
   "outputs": [],
   "source": [
    "Cat.complete_maze()"
   ]
  },
  {
   "cell_type": "code",
   "execution_count": 11,
   "metadata": {},
   "outputs": [
    {
     "output_type": "execute_result",
     "data": {
      "text/plain": [
       "['Sword Slice', 'Hypnosis', 'Sword Slice', 'Sword Slice']"
      ]
     },
     "metadata": {},
     "execution_count": 11
    }
   ],
   "source": [
    "Shadow.moves"
   ]
  },
  {
   "cell_type": "code",
   "execution_count": 12,
   "metadata": {},
   "outputs": [
    {
     "output_type": "execute_result",
     "data": {
      "text/plain": [
       "{'Sword Slice': 180, 'Lightsaber Stab': 300, 'Knife Swing': 100}"
      ]
     },
     "metadata": {},
     "execution_count": 12
    }
   ],
   "source": [
    "Koala.damage"
   ]
  },
  {
   "cell_type": "code",
   "execution_count": 13,
   "metadata": {},
   "outputs": [
    {
     "output_type": "execute_result",
     "data": {
      "text/plain": [
       "['Punch', 'Thundering Earthquake', 'Sword Slice', 'Nuclear Hit']"
      ]
     },
     "metadata": {},
     "execution_count": 13
    }
   ],
   "source": [
    "Cat.moves"
   ]
  },
  {
   "cell_type": "code",
   "execution_count": 14,
   "metadata": {},
   "outputs": [
    {
     "output_type": "execute_result",
     "data": {
      "text/plain": [
       "680"
      ]
     },
     "metadata": {},
     "execution_count": 14
    }
   ],
   "source": [
    "Cat.max_damage"
   ]
  },
  {
   "cell_type": "code",
   "execution_count": 15,
   "metadata": {},
   "outputs": [
    {
     "output_type": "execute_result",
     "data": {
      "text/plain": [
       "740"
      ]
     },
     "metadata": {},
     "execution_count": 15
    }
   ],
   "source": [
    "Shadow.max_damage"
   ]
  },
  {
   "cell_type": "code",
   "execution_count": 16,
   "metadata": {},
   "outputs": [
    {
     "output_type": "execute_result",
     "data": {
      "text/plain": [
       "['Sword Slice', 'Hypnosis', 'Sword Slice', 'Sword Slice']"
      ]
     },
     "metadata": {},
     "execution_count": 16
    }
   ],
   "source": [
    "Shadow.moves"
   ]
  },
  {
   "cell_type": "code",
   "execution_count": 17,
   "metadata": {},
   "outputs": [
    {
     "output_type": "execute_result",
     "data": {
      "text/plain": [
       "900"
      ]
     },
     "metadata": {},
     "execution_count": 17
    }
   ],
   "source": [
    "Shadow.battle_health"
   ]
  },
  {
   "cell_type": "code",
   "execution_count": 18,
   "metadata": {},
   "outputs": [
    {
     "output_type": "execute_result",
     "data": {
      "text/plain": [
       "500"
      ]
     },
     "metadata": {},
     "execution_count": 18
    }
   ],
   "source": [
    "Test.battle_health"
   ]
  },
  {
   "cell_type": "code",
   "execution_count": 15,
   "metadata": {},
   "outputs": [],
   "source": [
    "def Battle(Player1, Player2):\n",
    "    Player1.battle_health = Player1.health\n",
    "    Player2.battle_health = Player2.health\n",
    "    current_player = 1\n",
    "    while (True):\n",
    "        clear_output(wait=True)\n",
    "        print(f\"\"\"\n",
    "        {Player1.name}                                                       {Player2.name}\n",
    "       {Player1.damage}           {Player2.damage} \n",
    "          Health: {Player1.battle_health}                                                   Health: {Player2.battle_health}\n",
    "          Total Damage: {Player1.max_damage}                                         Total Damage: {Player2.max_damage}\n",
    "          \"\"\")\n",
    "        if (Player1.battle_health <= 0):\n",
    "            print(f\"{Player2.name} WINS!!!!\")\n",
    "            Player2.wins+=1\n",
    "            break\n",
    "        if (Player2.battle_health <= 0):\n",
    "            print(f\"{Player1.name} WINS!!!!\")\n",
    "            Player1.wins+=1\n",
    "            break\n",
    "        if (current_player == 1):\n",
    "            input_move = str(input(f\"{Player1.name}| Which move do you choose: \"))\n",
    "            if (input_move in Player1.moves):\n",
    "                Player2.battle_health-= Player1.damage[input_move]\n",
    "                current_player = 2\n",
    "                continue\n",
    "        elif (current_player == 2):\n",
    "            input_move = str(input(f\"{Player2.name}| Which move do you choose: \"))\n",
    "            if (input_move in Player2.moves):\n",
    "                Player1.battle_health-= Player2.damage[input_move]\n",
    "                current_player = 1\n",
    "                continue"
   ]
  },
  {
   "cell_type": "code",
   "execution_count": 63,
   "metadata": {},
   "outputs": [
    {
     "output_type": "stream",
     "name": "stdout",
     "text": [
      "<Player.Player object at 0x000001E49A341760> <Player.Player object at 0x000001E498972EE0>\n"
     ]
    }
   ],
   "source": [
    "print(Shadow.dragons[0].toPlayer(),Cat)"
   ]
  },
  {
   "source": [
    "# Public Battle Station"
   ],
   "cell_type": "markdown",
   "metadata": {}
  },
  {
   "cell_type": "code",
   "execution_count": 65,
   "metadata": {},
   "outputs": [
    {
     "output_type": "stream",
     "name": "stdout",
     "text": [
      "\n        Stealth                                                       White Cat\n       {'Night Vision': 220, 'Darksaber Stab': 260}           {'Punch': 130, 'Thundering Earthquake': 230} \n          Health: 700                                                   Health: 600\n          Total Damage: 480                                         Total Damage: 440\n          \n"
     ]
    },
    {
     "output_type": "error",
     "ename": "KeyboardInterrupt",
     "evalue": "Interrupted by user",
     "traceback": [
      "\u001b[1;31m---------------------------------------------------------------------------\u001b[0m",
      "\u001b[1;31mKeyboardInterrupt\u001b[0m                         Traceback (most recent call last)",
      "\u001b[1;32m<ipython-input-65-be6e07bd873a>\u001b[0m in \u001b[0;36m<module>\u001b[1;34m\u001b[0m\n\u001b[1;32m----> 1\u001b[1;33m \u001b[0mBattle\u001b[0m\u001b[1;33m(\u001b[0m\u001b[0mShadow\u001b[0m\u001b[1;33m.\u001b[0m\u001b[0mdragons\u001b[0m\u001b[1;33m[\u001b[0m\u001b[1;36m0\u001b[0m\u001b[1;33m]\u001b[0m\u001b[1;33m.\u001b[0m\u001b[0mtoPlayer\u001b[0m\u001b[1;33m(\u001b[0m\u001b[1;33m)\u001b[0m\u001b[1;33m,\u001b[0m\u001b[0mCat\u001b[0m\u001b[1;33m)\u001b[0m\u001b[1;33m\u001b[0m\u001b[1;33m\u001b[0m\u001b[0m\n\u001b[0m",
      "\u001b[1;32m<ipython-input-15-9771ca43ed9d>\u001b[0m in \u001b[0;36mBattle\u001b[1;34m(Player1, Player2)\u001b[0m\n\u001b[0;32m     20\u001b[0m             \u001b[1;32mbreak\u001b[0m\u001b[1;33m\u001b[0m\u001b[1;33m\u001b[0m\u001b[0m\n\u001b[0;32m     21\u001b[0m         \u001b[1;32mif\u001b[0m \u001b[1;33m(\u001b[0m\u001b[0mcurrent_player\u001b[0m \u001b[1;33m==\u001b[0m \u001b[1;36m1\u001b[0m\u001b[1;33m)\u001b[0m\u001b[1;33m:\u001b[0m\u001b[1;33m\u001b[0m\u001b[1;33m\u001b[0m\u001b[0m\n\u001b[1;32m---> 22\u001b[1;33m             \u001b[0minput_move\u001b[0m \u001b[1;33m=\u001b[0m \u001b[0mstr\u001b[0m\u001b[1;33m(\u001b[0m\u001b[0minput\u001b[0m\u001b[1;33m(\u001b[0m\u001b[1;34mf\"{Player1.name}| Which move do you choose: \"\u001b[0m\u001b[1;33m)\u001b[0m\u001b[1;33m)\u001b[0m\u001b[1;33m\u001b[0m\u001b[1;33m\u001b[0m\u001b[0m\n\u001b[0m\u001b[0;32m     23\u001b[0m             \u001b[1;32mif\u001b[0m \u001b[1;33m(\u001b[0m\u001b[0minput_move\u001b[0m \u001b[1;32min\u001b[0m \u001b[0mPlayer1\u001b[0m\u001b[1;33m.\u001b[0m\u001b[0mmoves\u001b[0m\u001b[1;33m)\u001b[0m\u001b[1;33m:\u001b[0m\u001b[1;33m\u001b[0m\u001b[1;33m\u001b[0m\u001b[0m\n\u001b[0;32m     24\u001b[0m                 \u001b[0mPlayer2\u001b[0m\u001b[1;33m.\u001b[0m\u001b[0mbattle_health\u001b[0m\u001b[1;33m-=\u001b[0m \u001b[0mPlayer1\u001b[0m\u001b[1;33m.\u001b[0m\u001b[0mdamage\u001b[0m\u001b[1;33m[\u001b[0m\u001b[0minput_move\u001b[0m\u001b[1;33m]\u001b[0m\u001b[1;33m\u001b[0m\u001b[1;33m\u001b[0m\u001b[0m\n",
      "\u001b[1;32m~\\anaconda3\\lib\\site-packages\\ipykernel\\kernelbase.py\u001b[0m in \u001b[0;36mraw_input\u001b[1;34m(self, prompt)\u001b[0m\n\u001b[0;32m    858\u001b[0m                 \u001b[1;34m\"raw_input was called, but this frontend does not support input requests.\"\u001b[0m\u001b[1;33m\u001b[0m\u001b[1;33m\u001b[0m\u001b[0m\n\u001b[0;32m    859\u001b[0m             )\n\u001b[1;32m--> 860\u001b[1;33m         return self._input_request(str(prompt),\n\u001b[0m\u001b[0;32m    861\u001b[0m             \u001b[0mself\u001b[0m\u001b[1;33m.\u001b[0m\u001b[0m_parent_ident\u001b[0m\u001b[1;33m,\u001b[0m\u001b[1;33m\u001b[0m\u001b[1;33m\u001b[0m\u001b[0m\n\u001b[0;32m    862\u001b[0m             \u001b[0mself\u001b[0m\u001b[1;33m.\u001b[0m\u001b[0m_parent_header\u001b[0m\u001b[1;33m,\u001b[0m\u001b[1;33m\u001b[0m\u001b[1;33m\u001b[0m\u001b[0m\n",
      "\u001b[1;32m~\\anaconda3\\lib\\site-packages\\ipykernel\\kernelbase.py\u001b[0m in \u001b[0;36m_input_request\u001b[1;34m(self, prompt, ident, parent, password)\u001b[0m\n\u001b[0;32m    902\u001b[0m             \u001b[1;32mexcept\u001b[0m \u001b[0mKeyboardInterrupt\u001b[0m\u001b[1;33m:\u001b[0m\u001b[1;33m\u001b[0m\u001b[1;33m\u001b[0m\u001b[0m\n\u001b[0;32m    903\u001b[0m                 \u001b[1;31m# re-raise KeyboardInterrupt, to truncate traceback\u001b[0m\u001b[1;33m\u001b[0m\u001b[1;33m\u001b[0m\u001b[1;33m\u001b[0m\u001b[0m\n\u001b[1;32m--> 904\u001b[1;33m                 \u001b[1;32mraise\u001b[0m \u001b[0mKeyboardInterrupt\u001b[0m\u001b[1;33m(\u001b[0m\u001b[1;34m\"Interrupted by user\"\u001b[0m\u001b[1;33m)\u001b[0m \u001b[1;32mfrom\u001b[0m \u001b[1;32mNone\u001b[0m\u001b[1;33m\u001b[0m\u001b[1;33m\u001b[0m\u001b[0m\n\u001b[0m\u001b[0;32m    905\u001b[0m             \u001b[1;32mexcept\u001b[0m \u001b[0mException\u001b[0m \u001b[1;32mas\u001b[0m \u001b[0me\u001b[0m\u001b[1;33m:\u001b[0m\u001b[1;33m\u001b[0m\u001b[1;33m\u001b[0m\u001b[0m\n\u001b[0;32m    906\u001b[0m                 \u001b[0mself\u001b[0m\u001b[1;33m.\u001b[0m\u001b[0mlog\u001b[0m\u001b[1;33m.\u001b[0m\u001b[0mwarning\u001b[0m\u001b[1;33m(\u001b[0m\u001b[1;34m\"Invalid Message:\"\u001b[0m\u001b[1;33m,\u001b[0m \u001b[0mexc_info\u001b[0m\u001b[1;33m=\u001b[0m\u001b[1;32mTrue\u001b[0m\u001b[1;33m)\u001b[0m\u001b[1;33m\u001b[0m\u001b[1;33m\u001b[0m\u001b[0m\n",
      "\u001b[1;31mKeyboardInterrupt\u001b[0m: Interrupted by user"
     ]
    }
   ],
   "source": [
    "Battle(Shadow.dragons[0].toPlayer(),Cat)"
   ]
  },
  {
   "source": [
    "# Wins"
   ],
   "cell_type": "markdown",
   "metadata": {}
  },
  {
   "cell_type": "code",
   "execution_count": 189,
   "metadata": {},
   "outputs": [
    {
     "output_type": "execute_result",
     "data": {
      "text/plain": [
       "5"
      ]
     },
     "metadata": {},
     "execution_count": 189
    }
   ],
   "source": [
    "Shadow.wins"
   ]
  },
  {
   "cell_type": "code",
   "execution_count": 126,
   "metadata": {},
   "outputs": [
    {
     "output_type": "execute_result",
     "data": {
      "text/plain": [
       "3"
      ]
     },
     "metadata": {},
     "execution_count": 126
    }
   ],
   "source": [
    "Cat.wins"
   ]
  },
  {
   "cell_type": "code",
   "execution_count": 160,
   "metadata": {},
   "outputs": [
    {
     "output_type": "execute_result",
     "data": {
      "text/plain": [
       "1"
      ]
     },
     "metadata": {},
     "execution_count": 160
    }
   ],
   "source": [
    "Test.wins"
   ]
  },
  {
   "cell_type": "code",
   "execution_count": 186,
   "metadata": {},
   "outputs": [
    {
     "output_type": "execute_result",
     "data": {
      "text/plain": [
       "5"
      ]
     },
     "metadata": {},
     "execution_count": 186
    }
   ],
   "source": [
    "Koala.wins"
   ]
  },
  {
   "cell_type": "code",
   "execution_count": 32,
   "metadata": {},
   "outputs": [
    {
     "output_type": "execute_result",
     "data": {
      "text/plain": [
       "0"
      ]
     },
     "metadata": {},
     "execution_count": 32
    }
   ],
   "source": [
    "Koala.dragons[0].toPlayer().wins"
   ]
  },
  {
   "source": [
    "# Upgrades"
   ],
   "cell_type": "markdown",
   "metadata": {}
  },
  {
   "cell_type": "code",
   "execution_count": 190,
   "metadata": {},
   "outputs": [],
   "source": [
    "Shadow.upgrade()"
   ]
  },
  {
   "cell_type": "code",
   "execution_count": 43,
   "metadata": {},
   "outputs": [],
   "source": [
    "Shadow.dragons[0].upgrade()"
   ]
  },
  {
   "cell_type": "code",
   "execution_count": 35,
   "metadata": {},
   "outputs": [],
   "source": [
    "Koala.dragons[0].upgrade()"
   ]
  },
  {
   "cell_type": "code",
   "execution_count": 62,
   "metadata": {},
   "outputs": [
    {
     "output_type": "execute_result",
     "data": {
      "text/plain": [
       "{'Sword Slice': 180, 'Hypnosis': 300}"
      ]
     },
     "metadata": {},
     "execution_count": 62
    }
   ],
   "source": [
    "Shadow.damage"
   ]
  },
  {
   "cell_type": "code",
   "execution_count": 59,
   "metadata": {},
   "outputs": [
    {
     "output_type": "execute_result",
     "data": {
      "text/plain": [
       "{'Electric Bolt': 230, 'Death from Above': 240}"
      ]
     },
     "metadata": {},
     "execution_count": 59
    }
   ],
   "source": [
    "Koala.dragons[0].damage"
   ]
  },
  {
   "cell_type": "code",
   "execution_count": 135,
   "metadata": {},
   "outputs": [],
   "source": [
    "Cat.upgrade()"
   ]
  },
  {
   "cell_type": "code",
   "execution_count": 191,
   "metadata": {},
   "outputs": [],
   "source": [
    "Koala.upgrade()"
   ]
  },
  {
   "cell_type": "code",
   "execution_count": 194,
   "metadata": {},
   "outputs": [
    {
     "output_type": "execute_result",
     "data": {
      "text/plain": [
       "600"
      ]
     },
     "metadata": {},
     "execution_count": 194
    }
   ],
   "source": [
    "Cat.health"
   ]
  },
  {
   "cell_type": "code",
   "execution_count": 195,
   "metadata": {},
   "outputs": [
    {
     "output_type": "execute_result",
     "data": {
      "text/plain": [
       "900"
      ]
     },
     "metadata": {},
     "execution_count": 195
    }
   ],
   "source": [
    "Shadow.health"
   ]
  },
  {
   "cell_type": "code",
   "execution_count": 196,
   "metadata": {},
   "outputs": [
    {
     "output_type": "execute_result",
     "data": {
      "text/plain": [
       "{'Sword Slice': 180, 'Hypnosis': 300}"
      ]
     },
     "metadata": {},
     "execution_count": 196
    }
   ],
   "source": [
    "Shadow.damage"
   ]
  },
  {
   "cell_type": "code",
   "execution_count": 199,
   "metadata": {},
   "outputs": [
    {
     "output_type": "execute_result",
     "data": {
      "text/plain": [
       "900"
      ]
     },
     "metadata": {},
     "execution_count": 199
    }
   ],
   "source": [
    "Koala.health"
   ]
  },
  {
   "cell_type": "code",
   "execution_count": 193,
   "metadata": {},
   "outputs": [
    {
     "output_type": "execute_result",
     "data": {
      "text/plain": [
       "{'Sword Slice': 180, 'Lightsaber Stab': 300}"
      ]
     },
     "metadata": {},
     "execution_count": 193
    }
   ],
   "source": [
    "Koala.damage"
   ]
  },
  {
   "cell_type": "code",
   "execution_count": 61,
   "metadata": {},
   "outputs": [
    {
     "output_type": "execute_result",
     "data": {
      "text/plain": [
       "{'Punch': 130, 'Thundering Earthquake': 230}"
      ]
     },
     "metadata": {},
     "execution_count": 61
    }
   ],
   "source": [
    "Cat.damage"
   ]
  },
  {
   "cell_type": "code",
   "execution_count": null,
   "metadata": {},
   "outputs": [],
   "source": []
  }
 ]
}