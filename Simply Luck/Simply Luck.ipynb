{
 "metadata": {
  "language_info": {
   "codemirror_mode": {
    "name": "ipython",
    "version": 3
   },
   "file_extension": ".py",
   "mimetype": "text/x-python",
   "name": "python",
   "nbconvert_exporter": "python",
   "pygments_lexer": "ipython3",
   "version": "3.9.2-final"
  },
  "orig_nbformat": 2,
  "kernelspec": {
   "name": "python3",
   "display_name": "Python 3.9.2 64-bit",
   "metadata": {
    "interpreter": {
     "hash": "6fe85b82b5469827310a64c41ef787d93c869c5c1f082f9a8db93b600fa17c06"
    }
   }
  }
 },
 "nbformat": 4,
 "nbformat_minor": 2,
 "cells": [
  {
   "cell_type": "code",
   "execution_count": 1,
   "metadata": {},
   "outputs": [],
   "source": [
    "from IPython.display import clear_output\n",
    "import random"
   ]
  },
  {
   "cell_type": "code",
   "execution_count": 2,
   "metadata": {},
   "outputs": [],
   "source": [
    "class Player():\n",
    "    def __init__(self, name, coins=0, moves=[]):\n",
    "        self.name = name\n",
    "        self.moves = moves\n",
    "        self.coins = coins\n",
    "        self.health = random.randint(150, 201)\n",
    "        self.battle_health = self.health\n",
    "        self.min_health = 150\n",
    "        self.max_health = 200\n",
    "        self.damage = random.randint(30,71)\n",
    "        self.battle_damage = self.damage\n",
    "        self.min_damage = 30\n",
    "        self.max_damage = 70\n",
    "        self.golden_nuggets = 0\n",
    "    def trade_golden_nuggets(self):\n",
    "        g = self.golden_nuggets\n",
    "        for i in range(self.golden_nuggets):\n",
    "            self.coins+=3\n",
    "            self.golden_nuggets-=1\n",
    "    def upgrade(self):\n",
    "        \"\"\"Upgrades your health and damage when you have a certain amount of coins!!\"\"\"\n",
    "        if (self.coins >= 3 and self.coins < 5):\n",
    "            self.health = random.randint(200, 250)\n",
    "            self.min_health = 200\n",
    "            self.max_health = 250\n",
    "            self.damage = random.randint(70, 100)\n",
    "            self.min_damage = 70\n",
    "            self.max_damage = 100\n",
    "        elif (self.coins >= 5 and self.coins < 7):\n",
    "            self.health = random.randint(250, 301)\n",
    "            self.min_health = 250\n",
    "            self.max_health = 300\n",
    "            self.damage = random.randint(50, 91)\n",
    "            self.min_damage = 50\n",
    "            self.max_damage = 90\n",
    "        elif (self.coins >= 7 and self.coins < 10):\n",
    "            self.health = random.randint(300, 351)\n",
    "            self.min_health = 300\n",
    "            self.max_health = 350\n",
    "            self.damage = random.randint(60, 101)\n",
    "            self.min_damage = 60\n",
    "            self.max_damage = 100\n",
    "        elif (self.coins >= 10 and self.coins < 13):\n",
    "            self.health = random.randint(350, 401)\n",
    "            self.min_health = 350\n",
    "            self.max_health = 400\n",
    "            self.damage = random.randint(70, 111)\n",
    "            self.min_damage = 70\n",
    "            self.max_damage = 110\n",
    "        elif (self.coins >= 13 and self.coins < 15):\n",
    "            self.health = random.randint(400, 451)\n",
    "            self.min_health = 400\n",
    "            self.max_health = 450\n",
    "            self.damage = random.randint(80, 121)\n",
    "            self.min_damage = 80\n",
    "            self.max_damage = 120\n",
    "        elif (self.coins >= 15):\n",
    "            self.health = random.randint(self.coins*30, self.coins*40)\n",
    "            self.min_health = self.coins*30\n",
    "            self.max_health = self.coins*40\n",
    "            self.damage = random.randint(self.coins*7, self.coins*8)\n",
    "            self.min_damage = self.coins*7\n",
    "            self.max_damage = self.coins*8"
   ]
  },
  {
   "cell_type": "code",
   "execution_count": 5,
   "metadata": {},
   "outputs": [],
   "source": [
    "Ruo = Player('(Pro) Koala')\n",
    "Qing = Player('(Master) Shadow')\n",
    "Baby = Player('(Noob) Frostbite')\n",
    "test = Player('(Noob) test')"
   ]
  },
  {
   "cell_type": "code",
   "execution_count": 3,
   "metadata": {},
   "outputs": [],
   "source": [
    "def Battle(player1, player2):\n",
    "    current_player = 1\n",
    "    win = False\n",
    "    while True:\n",
    "        clear_output()\n",
    "        print(f\"{player1.name}'s Health: {str(player1.battle_health)} \\n \\n\")\n",
    "        print(f\"{player2.name}'s Health: {str(player2.battle_health)}\")\n",
    "        player1.damage = random.randint(player1.min_damage, player1.max_damage)\n",
    "        player1.battle_damage = player1.damage\n",
    "        player2.damage = random.randint(player2.min_damage, player2.max_damage)\n",
    "        player2.battle_damage = player2.damage\n",
    "        if (player1.battle_health <= 0):\n",
    "            print(f\"{player2.name.split(') ')[1:][0]} has  WON!!!!\\n\\n\")\n",
    "            player2.coins += 1\n",
    "            if (player1.coins == 1):\n",
    "                print(f\"{player1.name.split(') ')[1:][0]} has collected {player1.coins} coin.\\n\")\n",
    "            else:\n",
    "                print(f\"{player1.name.split(') ')[1:][0]} has collected {player1.coins} coins.\\n\")\n",
    "\n",
    "            if (player2.coins == 1):\n",
    "                print(f\"{player2.name.split(') ')[1:][0]} has collected {player2.coins} coin.\\n\")\n",
    "            else:\n",
    "                print(f\"{player2.name.split(') ')[1:][0]} has collected {player2.coins} coins.\\n\")\n",
    "            win = True\n",
    "        if (player2.battle_health <= 0):\n",
    "            print(f\"{player1.name.split(') ')[1:][0]} has WON!!!!\\n\\n\")\n",
    "            player1.coins += 1\n",
    "            if (player1.coins == 1):\n",
    "                print(f\"{player1.name.split(') ')[1:][0]} has collected {player1.coins} coin.\\n\")\n",
    "            else:\n",
    "                print(f\"{player1.name.split(') ')[1:][0]} has collected {player1.coins} coins.\\n\")\n",
    "\n",
    "            if (player2.coins == 1):\n",
    "                print(f\"{player2.name.split(') ')[1:][0]} has collected {player2.coins} coin.\\n\")\n",
    "            else:\n",
    "                print(f\"{player2.name.split(') ')[1:][0]} has collected {player2.coins} coins.\\n\")\n",
    "            win = True\n",
    "        if (win == True):\n",
    "            player1.health = random.randint(player1.min_health, player1.max_health)\n",
    "            player1.damage = random.randint(player1.min_damage, player1.max_damage)\n",
    "            player2.health = random.randint(player2.min_health, player2.max_health)\n",
    "            player2.damage = random.randint(player2.min_damage, player2.max_damage)\n",
    "            player1.battle_health = player1.health\n",
    "            player1.battle_damage = player1.damage\n",
    "            player2.battle_health = player2.health\n",
    "            player2.battle_damage = player2.damage\n",
    "            break\n",
    "        if (current_player == 1):\n",
    "            player1_action = str(input(f\"{player1.name.split(') ')[1:][0]}: Do you want to hit or heal? >>\"))\n",
    "            if (player1_action.lower() == 'hit'):\n",
    "                player2.battle_health -= player1.battle_damage\n",
    "            elif (player1_action.lower() == 'heal'):\n",
    "                player1.battle_health += player1.battle_damage\n",
    "            current_player = 2\n",
    "            continue\n",
    "        elif (current_player == 2):\n",
    "            player2_action = str(input(f\"{player2.name.split(') ')[1:][0]}: Do you want to hit or heal? >>\"))\n",
    "            if (player2_action.lower() == 'hit'):\n",
    "                player1.battle_health -= player2.battle_damage\n",
    "            elif (player2_action.lower() == 'heal'):\n",
    "                player2.battle_health += player2.battle_damage\n",
    "            current_player = 1\n",
    "            continue"
   ]
  },
  {
   "source": [
    "# Battle Arena"
   ],
   "cell_type": "markdown",
   "metadata": {}
  },
  {
   "cell_type": "code",
   "execution_count": 9,
   "metadata": {},
   "outputs": [],
   "source": [
    "Qing.coins = 20000\n",
    "Qing.upgrade()"
   ]
  },
  {
   "cell_type": "code",
   "execution_count": 69,
   "metadata": {},
   "outputs": [],
   "source": [
    "Qing.upgrade()"
   ]
  },
  {
   "source": [
    "Battle(Qing, Baby)"
   ],
   "cell_type": "code",
   "metadata": {},
   "execution_count": 10,
   "outputs": [
    {
     "output_type": "stream",
     "name": "stdout",
     "text": [
      "(Master) Shadow's Health: 64781216 \n \n\n(Noob) Frostbite's Health: -155994\nShadow has WON!!!!\n\n\nShadow has collected 20001 coins.\n\nFrostbite has collected 0 coins.\n\n"
     ]
    }
   ]
  },
  {
   "cell_type": "code",
   "execution_count": 70,
   "metadata": {},
   "outputs": [],
   "source": [
    "Qing.upgrade()"
   ]
  },
  {
   "cell_type": "code",
   "execution_count": 70,
   "metadata": {},
   "outputs": [],
   "source": [
    "def Train(player1):\n",
    "    level = int(input(\"What level do you want?\"))\n",
    "    Bot = Player(f\"[Level {level}] Bot\")\n",
    "    Bot.battle_health = level*30\n",
    "    win = False\n",
    "    current_player = 1\n",
    "    player1.health = random.randint(player1.min_health, player1.max_health)\n",
    "    Bot.health = random.randint(level*20, level*35)\n",
    "    player1.battle_health = player1.health\n",
    "    Bot.battle_health = Bot.health\n",
    "    player1_previous_coins = player1.coins\n",
    "    while True:\n",
    "        Bot.name = f\"[Level {level}] Bot\"\n",
    "        clear_output()\n",
    "        print(f\"{player1.name}'s Health: {str(player1.battle_health)} \\n \\n\")\n",
    "        print(f\"{Bot.name}'s Health: {str(Bot.battle_health)}\")\n",
    "        player1.damage = random.randint(player1.min_damage, player1.max_damage)\n",
    "        player1.battle_damage = player1.damage\n",
    "        if (player1.battle_health <= 0):\n",
    "            print(f\"{player1.name.split(') ')[1:][0]} was  DEFEATED!!!!\")\n",
    "            restart_level = str(input(\"Do you want to restart this level? Y/N >>\"))\n",
    "            if (restart_level.lower() == 'y'):\n",
    "                player1.health = random.randint(player1.min_health, player1.max_health)\n",
    "                player1.damage = random.randint(player1.min_damage, player1.max_damage)\n",
    "                Bot.health = random.randint(level*20, level*35)\n",
    "                player1.battle_health = player1.health\n",
    "                player1.battle_damage = player1.damage\n",
    "                Bot.battle_health = Bot.health\n",
    "                continue\n",
    "            elif (restart_level.lower() == 'n'):\n",
    "                clear_output()\n",
    "                if (int(player1.coins) - int(player1_previous_coins) == 1):\n",
    "                    print(f\"You have collected {int(player1.coins) - int(player1_previous_coins)} coin from the Training Arena.\")\n",
    "                else:\n",
    "                    print(f\"You have collected {int(player1.coins) - int(player1_previous_coins)} coins from the Training Arena.\")\n",
    "                player1.health = random.randint(player1.min_health, player1.max_health)\n",
    "                player1.damage = random.randint(player1.min_damage, player1.max_damage)\n",
    "                Bot.health = random.randint(level*20, level*35)\n",
    "                player1.battle_health = player1.health\n",
    "                player1.battle_damage = player1.damage\n",
    "                Bot.battle_health = Bot.health\n",
    "                break\n",
    "        if (Bot.battle_health <= 0):\n",
    "            print(f\"{player1.name.split(') ')[1:][0]} has WON!!!!\")\n",
    "            level += 1\n",
    "            if level % 7 == 0:\n",
    "                player1.golden_nuggets+=1\n",
    "            if (level % 3 == 0 and level != 1):\n",
    "                player1.coins += 1\n",
    "            level_up = str(input('Do you want to go to the next level? Y/N >>'))\n",
    "            if (level == 7000):\n",
    "                break\n",
    "            if (level_up.lower() == 'y'):\n",
    "                player1.health = random.randint(player1.min_health, player1.max_health)\n",
    "                player1.damage = random.randint(player1.min_damage, player1.max_damage)\n",
    "                Bot.health = random.randint(level*20, level*35)\n",
    "                player1.battle_health = player1.health\n",
    "                player1.battle_damage = player1.damage\n",
    "                Bot.battle_health = Bot.health\n",
    "                continue\n",
    "            elif (level_up.lower() == 'n'):\n",
    "                clear_output()\n",
    "                print(f\"You have defeated {Bot.name}!!\\n\")\n",
    "                if (int(player1.coins) - int(player1_previous_coins) == 1):\n",
    "                    print(f\"You have collected {int(player1.coins) - int(player1_previous_coins)} coin from the Training Arena.\")\n",
    "                else:\n",
    "                    print(f\"You have collected {int(player1.coins) - int(player1_previous_coins)} coin from the Training Arena.\")\n",
    "                player1.health = random.randint(player1.min_health, player1.max_health)\n",
    "                player1.damage = random.randint(player1.min_damage, player1.max_damage)\n",
    "                Bot.health = random.randint(level*20, level*35)\n",
    "                player1.battle_health = player1.health\n",
    "                player1.battle_damage = player1.damage\n",
    "                Bot.battle_health = Bot.health\n",
    "                break\n",
    "            win = True\n",
    "        if (win == True):\n",
    "            player1.health = random.randint(player1.min_health, player1.max_health)\n",
    "            player1.damage = random.randint(player1.min_damage, player1.max_damage)\n",
    "            Bot.health = random.randint(level*20, level*35)\n",
    "            player1.battle_health = player1.health\n",
    "            player1.battle_damage = player1.damage\n",
    "            Bot.battle_health = Bot.health\n",
    "            break\n",
    "        if (current_player == 1):\n",
    "            player1_action = str(input(f\"{player1.name.split(') ')[1:][0]}: Do you want to hit or heal? >>\"))\n",
    "            if (player1_action.lower() == 'hit'):\n",
    "                Bot.battle_health -= player1.battle_damage\n",
    "            elif (player1_action.lower() == 'heal'):\n",
    "                player1.battle_health += player1.battle_damage\n",
    "            current_player = 2\n",
    "            continue\n",
    "        elif (current_player == 2):\n",
    "            player1.battle_health -= level*10\n",
    "            current_player = 1\n"
   ]
  },
  {
   "cell_type": "code",
   "execution_count": 12,
   "metadata": {},
   "outputs": [],
   "source": [
    "def autoTrain(player1):\n",
    "    level = 1\n",
    "    Bot = Player(f\"[Level {level}] Bot\")\n",
    "    Bot.battle_health = level*30\n",
    "    win = False\n",
    "    current_player = 1\n",
    "    player1.health = random.randint(player1.min_health, player1.max_health)\n",
    "    Bot.health = random.randint(level*20, level*35)\n",
    "    player1.battle_health = player1.health\n",
    "    Bot.battle_health = Bot.health\n",
    "    player1_previous_coins = player1.coins\n",
    "    while True:\n",
    "        Bot.name = f\"[Level {level}] Bot\"\n",
    "        clear_output()\n",
    "        print(f\"{player1.name}'s Health: {str(player1.battle_health)} \\n \\n\")\n",
    "        print(f\"{Bot.name}'s Health: {str(Bot.battle_health)}\")\n",
    "        player1.damage = random.randint(player1.min_damage, player1.max_damage)\n",
    "        player1.battle_damage = player1.damage\n",
    "        if (player1.battle_health <= 0):\n",
    "            print(f\"{player1.name.split(') ')[1:][0]} was  DEFEATED!!!!\")\n",
    "            restart_level = str(input(\"Do you want to restart this level? Y/N >>\"))\n",
    "            if (restart_level.lower() == 'y'):\n",
    "                player1.health = random.randint(player1.min_health, player1.max_health)\n",
    "                player1.damage = random.randint(player1.min_damage, player1.max_damage)\n",
    "                Bot.health = random.randint(level*20, level*35)\n",
    "                player1.battle_health = player1.health\n",
    "                player1.battle_damage = player1.damage\n",
    "                Bot.battle_health = Bot.health\n",
    "                continue\n",
    "            elif (restart_level.lower() == 'n'):\n",
    "                clear_output()\n",
    "                if (int(player1.coins) - int(player1_previous_coins) == 1):\n",
    "                    print(f\"You have collected {int(player1.coins) - int(player1_previous_coins)} coin from the Training Arena.\")\n",
    "                else:\n",
    "                    print(f\"You have collected {int(player1.coins) - int(player1_previous_coins)} coins from the Training Arena.\")\n",
    "                player1.health = random.randint(player1.min_health, player1.max_health)\n",
    "                player1.damage = random.randint(player1.min_damage, player1.max_damage)\n",
    "                Bot.health = random.randint(level*20, level*35)\n",
    "                player1.battle_health = player1.health\n",
    "                player1.battle_damage = player1.damage\n",
    "                Bot.battle_health = Bot.health\n",
    "                break\n",
    "        if (Bot.battle_health <= 0):\n",
    "            print(f\"{player1.name.split(') ')[1:][0]} has WON!!!!\")\n",
    "            level += 1\n",
    "            if level % 7 == 0:\n",
    "                player1.golden_nuggets+=1\n",
    "            if (level % 3 == 0 and level != 1):\n",
    "                player1.coins += 1\n",
    "            level_up = \"y\"#str(input('Do you want to go to the next level? Y/N >>'))\n",
    "            if (level == 1000):\n",
    "                break\n",
    "            if (level_up.lower() == 'y'):\n",
    "                player1.health = random.randint(player1.min_health, player1.max_health)\n",
    "                player1.damage = random.randint(player1.min_damage, player1.max_damage)\n",
    "                Bot.health = random.randint(level*20, level*35)\n",
    "                player1.battle_health = player1.health\n",
    "                player1.battle_damage = player1.damage\n",
    "                Bot.battle_health = Bot.health\n",
    "                continue\n",
    "            elif (level_up.lower() == 'n'):\n",
    "                clear_output()\n",
    "                print(f\"You have defeated {Bot.name}!!\\n\")\n",
    "                if (int(player1.coins) - int(player1_previous_coins) == 1):\n",
    "                    print(f\"You have collected {int(player1.coins) - int(player1_previous_coins)} coin from the Training Arena.\")\n",
    "                else:\n",
    "                    print(f\"You have collected {int(player1.coins) - int(player1_previous_coins)} coin from the Training Arena.\")\n",
    "                player1.health = random.randint(player1.min_health, player1.max_health)\n",
    "                player1.damage = random.randint(player1.min_damage, player1.max_damage)\n",
    "                Bot.health = random.randint(level*20, level*35)\n",
    "                player1.battle_health = player1.health\n",
    "                player1.battle_damage = player1.damage\n",
    "                Bot.battle_health = Bot.health\n",
    "                break\n",
    "            win = True\n",
    "        if (win == True):\n",
    "            player1.health = random.randint(player1.min_health, player1.max_health)\n",
    "            player1.damage = random.randint(player1.min_damage, player1.max_damage)\n",
    "            Bot.health = random.randint(level*20, level*35)\n",
    "            player1.battle_health = player1.health\n",
    "            player1.battle_damage = player1.damage\n",
    "            Bot.battle_health = Bot.health\n",
    "            break\n",
    "        if (current_player == 1):\n",
    "            player1_action = \"hit\"#str(input(f\"{player1.name.split(') ')[1:][0]}: Do you want to hit or heal? >>\"))\n",
    "            if (player1_action.lower() == 'hit'):\n",
    "                Bot.battle_health -= player1.battle_damage\n",
    "            elif (player1_action.lower() == 'heal'):\n",
    "                player1.battle_health += player1.battle_damage\n",
    "            current_player = 2\n",
    "            continue\n",
    "        elif (current_player == 2):\n",
    "            player1.battle_health -= level*10\n",
    "            current_player = 1"
   ]
  },
  {
   "cell_type": "code",
   "execution_count": 13,
   "metadata": {},
   "outputs": [],
   "source": [
    "def zombie(player1):\n",
    "    group = random.randint(10, 15)\n",
    "    level = random.randint(10, 20)\n",
    "    Bot = Player(f\"[Level {level}] zombie\")\n",
    "    Bot.battle_health = level*30\n",
    "    win = False\n",
    "    current_player = 1\n",
    "    player1.health = random.randint(player1.min_health, player1.max_health)\n",
    "    Bot.health = random.randint(level*20, level*35)\n",
    "    player1.battle_health = player1.health\n",
    "    Bot.battle_health = Bot.health\n",
    "    player1_previous_coins = player1.coins\n",
    "    while True:\n",
    "        Bot.name = f\"[Level {level}] Zombie\"\n",
    "        clear_output()\n",
    "        print(f\"{player1.name}'s Health: {str(player1.battle_health)} \\n \\n\")\n",
    "        print(f\"{Bot.name}'s Health: {str(Bot.battle_health)}\")\n",
    "        player1.damage = random.randint(player1.min_damage, player1.max_damage)\n",
    "        player1.battle_damage = player1.damage\n",
    "        if (player1.battle_health <= 0):\n",
    "            print(f\"{player1.name.split(') ')[1:][0]} was  DEFEATED!!!!\")\n",
    "            restart_level = str(input(\"Do you want to try again? Y/N >>\"))\n",
    "            if (restart_level.lower() == 'y'):\n",
    "                player1.health = random.randint(player1.min_health, player1.max_health)\n",
    "                player1.damage = random.randint(player1.min_damage, player1.max_damage)\n",
    "                Bot.health = random.randint(level*20, level*35)\n",
    "                player1.battle_health = player1.health\n",
    "                player1.battle_damage = player1.damage\n",
    "                Bot.battle_health = Bot.health\n",
    "                continue\n",
    "            elif (restart_level.lower() == 'n'):\n",
    "                clear_output()\n",
    "                if (int(player1.coins) - int(player1_previous_coins) == 1):\n",
    "                    print(f\"You have collected {int(player1.coins) - int(player1_previous_coins)} coin from the Training Arena.\")\n",
    "                else:\n",
    "                    print(f\"You have collected {int(player1.coins) - int(player1_previous_coins)} coins from the Training Arena.\")\n",
    "                player1.health = random.randint(player1.min_health, player1.max_health)\n",
    "                player1.damage = random.randint(player1.min_damage, player1.max_damage)\n",
    "                Bot.health = random.randint(level*20, level*35)\n",
    "                player1.battle_health = player1.health\n",
    "                player1.battle_damage = player1.damage\n",
    "                Bot.battle_health = Bot.health\n",
    "                break\n",
    "        if (Bot.battle_health <= 0):\n",
    "            print(f\"{player1.name.split(') ')[1:][0]} has WON!!!!\")\n",
    "            player1.coins += 1\n",
    "            level_up = str(input('Do you want to go to the next zombie? Y/N >>'))\n",
    "            if (level_up.lower() == 'y'):\n",
    "                player1.health = random.randint(player1.min_health, player1.max_health)\n",
    "                player1.damage = random.randint(player1.min_damage, player1.max_damage)\n",
    "                Bot.health = random.randint(level*20, level*35)\n",
    "                player1.battle_health = player1.health\n",
    "                player1.battle_damage = player1.damage\n",
    "                Bot.battle_health = Bot.health\n",
    "                level = random.randint(10, 20)\n",
    "                continue\n",
    "            elif (level_up.lower() == 'n'):\n",
    "                clear_output()\n",
    "                print(f\"You have defeated {Bot.name}!!\\n\")\n",
    "                if (int(player1.coins) - int(player1_previous_coins) == 1):\n",
    "                    print(f\"You have collected {int(player1.coins) - int(player1_previous_coins)} coin from the Zombie Arena.\")\n",
    "                else:\n",
    "                    print(f\"You have collected {int(player1.coins) - int(player1_previous_coins)} coin from the Zombie Arena.\")\n",
    "                player1.health = random.randint(player1.min_health, player1.max_health)\n",
    "                player1.damage = random.randint(player1.min_damage, player1.max_damage)\n",
    "                Bot.health = random.randint(level*20, level*35)\n",
    "                player1.battle_health = player1.health\n",
    "                player1.battle_damage = player1.damage\n",
    "                Bot.battle_health = Bot.health\n",
    "                break\n",
    "            win = True\n",
    "        if (win == True):\n",
    "            player1.health = random.randint(player1.min_health, player1.max_health)\n",
    "            player1.damage = random.randint(player1.min_damage, player1.max_damage)\n",
    "            Bot.health = random.randint(level*20, level*35)\n",
    "            player1.battle_health = player1.health\n",
    "            player1.battle_damage = player1.damage\n",
    "            Bot.battle_health = Bot.health\n",
    "            break\n",
    "        if (current_player == 1):\n",
    "            player1_action = str(input(f\"{player1.name.split(') ')[1:][0]}: Do you want to hit or heal? >>\"))\n",
    "            if (player1_action.lower() == 'hit'):\n",
    "                Bot.battle_health -= player1.battle_damage\n",
    "            elif (player1_action.lower() == 'heal'):\n",
    "                player1.battle_health += player1.battle_damage\n",
    "            current_player = 2\n",
    "            continue\n",
    "        elif (current_player == 2):\n",
    "            player1.battle_health -= level*10\n",
    "            current_player = 1"
   ]
  },
  {
   "source": [
    "# Training Arena"
   ],
   "cell_type": "markdown",
   "metadata": {}
  },
  {
   "cell_type": "code",
   "execution_count": 109,
   "metadata": {},
   "outputs": [
    {
     "output_type": "stream",
     "name": "stdout",
     "text": [
      "(Master) Shadow's Health: 39507174 \n \n\n[Level 999] Bot's Health: -7546308\nShadow has WON!!!!\n"
     ]
    }
   ],
   "source": [
    "autoTrain(Qing)"
   ]
  },
  {
   "cell_type": "code",
   "execution_count": 108,
   "metadata": {},
   "outputs": [],
   "source": [
    "Qing.upgrade()"
   ]
  },
  {
   "cell_type": "code",
   "execution_count": 79,
   "metadata": {},
   "outputs": [],
   "source": [
    "Baby.upgrade()"
   ]
  },
  {
   "cell_type": "code",
   "execution_count": 107,
   "metadata": {},
   "outputs": [],
   "source": [
    "Qing.trade_golden_nuggets()"
   ]
  },
  {
   "source": [
    "# Coins"
   ],
   "cell_type": "markdown",
   "metadata": {}
  },
  {
   "cell_type": "code",
   "execution_count": 94,
   "metadata": {},
   "outputs": [],
   "source": [
    "Qing.max_damage = 100000000000000000000000000000000000000000000000000000000000000000000000000000000000000000000000000000000000"
   ]
  },
  {
   "cell_type": "code",
   "execution_count": 51,
   "metadata": {},
   "outputs": [],
   "source": [
    "Baby.coins = 18410"
   ]
  },
  {
   "cell_type": "code",
   "execution_count": 50,
   "metadata": {},
   "outputs": [
    {
     "output_type": "execute_result",
     "data": {
      "text/plain": [
       "18410"
      ]
     },
     "metadata": {},
     "execution_count": 50
    }
   ],
   "source": [
    "Qing.coins"
   ]
  },
  {
   "cell_type": "code",
   "execution_count": 136,
   "metadata": {},
   "outputs": [
    {
     "output_type": "execute_result",
     "data": {
      "text/plain": [
       "0"
      ]
     },
     "metadata": {},
     "execution_count": 136
    }
   ],
   "source": [
    "test.coins"
   ]
  },
  {
   "cell_type": "code",
   "execution_count": 85,
   "metadata": {},
   "outputs": [
    {
     "output_type": "execute_result",
     "data": {
      "text/plain": [
       "15"
      ]
     },
     "metadata": {},
     "execution_count": 85
    }
   ],
   "source": [
    "Baby.coins"
   ]
  },
  {
   "cell_type": "code",
   "execution_count": null,
   "metadata": {},
   "outputs": [],
   "source": []
  },
  {
   "source": [
    "## Ruo Upgrades"
   ],
   "cell_type": "markdown",
   "metadata": {}
  },
  {
   "cell_type": "code",
   "execution_count": 138,
   "metadata": {},
   "outputs": [],
   "source": [
    "Ruo.upgrade()"
   ]
  },
  {
   "cell_type": "code",
   "execution_count": 139,
   "metadata": {},
   "outputs": [
    {
     "output_type": "execute_result",
     "data": {
      "text/plain": [
       "285"
      ]
     },
     "metadata": {},
     "execution_count": 139
    }
   ],
   "source": [
    "Ruo.health"
   ]
  },
  {
   "cell_type": "code",
   "execution_count": 140,
   "metadata": {},
   "outputs": [
    {
     "output_type": "execute_result",
     "data": {
      "text/plain": [
       "250"
      ]
     },
     "metadata": {},
     "execution_count": 140
    }
   ],
   "source": [
    "Ruo.min_health"
   ]
  },
  {
   "cell_type": "code",
   "execution_count": 141,
   "metadata": {},
   "outputs": [
    {
     "output_type": "execute_result",
     "data": {
      "text/plain": [
       "300"
      ]
     },
     "metadata": {},
     "execution_count": 141
    }
   ],
   "source": [
    "Ruo.max_health"
   ]
  },
  {
   "cell_type": "code",
   "execution_count": 142,
   "metadata": {},
   "outputs": [
    {
     "output_type": "execute_result",
     "data": {
      "text/plain": [
       "81"
      ]
     },
     "metadata": {},
     "execution_count": 142
    }
   ],
   "source": [
    "Ruo.damage"
   ]
  },
  {
   "cell_type": "code",
   "execution_count": 143,
   "metadata": {},
   "outputs": [
    {
     "output_type": "execute_result",
     "data": {
      "text/plain": [
       "50"
      ]
     },
     "metadata": {},
     "execution_count": 143
    }
   ],
   "source": [
    "Ruo.min_damage"
   ]
  },
  {
   "cell_type": "code",
   "execution_count": 144,
   "metadata": {},
   "outputs": [
    {
     "output_type": "execute_result",
     "data": {
      "text/plain": [
       "90"
      ]
     },
     "metadata": {},
     "execution_count": 144
    }
   ],
   "source": [
    "Ruo.max_damage"
   ]
  },
  {
   "source": [
    "## Qing Upgrades"
   ],
   "cell_type": "markdown",
   "metadata": {}
  },
  {
   "cell_type": "code",
   "execution_count": 39,
   "metadata": {},
   "outputs": [
    {
     "output_type": "error",
     "ename": "ValueError",
     "evalue": "empty range for randrange() (4000000000000, 800000001, -3999199999999)",
     "traceback": [
      "\u001b[1;31m---------------------------------------------------------------------------\u001b[0m",
      "\u001b[1;31mValueError\u001b[0m                                Traceback (most recent call last)",
      "\u001b[1;32m<ipython-input-39-ba7b0972cfcf>\u001b[0m in \u001b[0;36m<module>\u001b[1;34m\u001b[0m\n\u001b[1;32m----> 1\u001b[1;33m \u001b[0mQing\u001b[0m\u001b[1;33m.\u001b[0m\u001b[0mupgrade\u001b[0m\u001b[1;33m(\u001b[0m\u001b[1;33m)\u001b[0m\u001b[1;33m\u001b[0m\u001b[1;33m\u001b[0m\u001b[0m\n\u001b[0m",
      "\u001b[1;32m<ipython-input-34-c68b125e11e8>\u001b[0m in \u001b[0;36mupgrade\u001b[1;34m(self)\u001b[0m\n\u001b[0;32m     18\u001b[0m             \u001b[0mself\u001b[0m\u001b[1;33m.\u001b[0m\u001b[0mmin_health\u001b[0m \u001b[1;33m=\u001b[0m \u001b[1;36m1000000000000000000000000000000000000000\u001b[0m\u001b[1;33m\u001b[0m\u001b[1;33m\u001b[0m\u001b[0m\n\u001b[0;32m     19\u001b[0m             \u001b[0mself\u001b[0m\u001b[1;33m.\u001b[0m\u001b[0mmax_health\u001b[0m \u001b[1;33m=\u001b[0m \u001b[1;36m100000000000000000000000000000000000000000\u001b[0m\u001b[1;33m\u001b[0m\u001b[1;33m\u001b[0m\u001b[0m\n\u001b[1;32m---> 20\u001b[1;33m             \u001b[0mself\u001b[0m\u001b[1;33m.\u001b[0m\u001b[0mdamage\u001b[0m \u001b[1;33m=\u001b[0m \u001b[0mrandom\u001b[0m\u001b[1;33m.\u001b[0m\u001b[0mrandint\u001b[0m\u001b[1;33m(\u001b[0m\u001b[1;36m4000000000000\u001b[0m\u001b[1;33m,\u001b[0m \u001b[1;36m800000000\u001b[0m\u001b[1;33m)\u001b[0m\u001b[1;33m\u001b[0m\u001b[1;33m\u001b[0m\u001b[0m\n\u001b[0m\u001b[0;32m     21\u001b[0m             \u001b[0mself\u001b[0m\u001b[1;33m.\u001b[0m\u001b[0mmin_damage\u001b[0m \u001b[1;33m=\u001b[0m \u001b[1;36m400000000000\u001b[0m\u001b[1;33m\u001b[0m\u001b[1;33m\u001b[0m\u001b[0m\n\u001b[0;32m     22\u001b[0m             \u001b[0mself\u001b[0m\u001b[1;33m.\u001b[0m\u001b[0mmax_damage\u001b[0m \u001b[1;33m=\u001b[0m \u001b[1;36m800000000000\u001b[0m\u001b[1;33m\u001b[0m\u001b[1;33m\u001b[0m\u001b[0m\n",
      "\u001b[1;32m~\\anaconda3\\lib\\random.py\u001b[0m in \u001b[0;36mrandint\u001b[1;34m(self, a, b)\u001b[0m\n\u001b[0;32m    246\u001b[0m         \"\"\"\n\u001b[0;32m    247\u001b[0m \u001b[1;33m\u001b[0m\u001b[0m\n\u001b[1;32m--> 248\u001b[1;33m         \u001b[1;32mreturn\u001b[0m \u001b[0mself\u001b[0m\u001b[1;33m.\u001b[0m\u001b[0mrandrange\u001b[0m\u001b[1;33m(\u001b[0m\u001b[0ma\u001b[0m\u001b[1;33m,\u001b[0m \u001b[0mb\u001b[0m\u001b[1;33m+\u001b[0m\u001b[1;36m1\u001b[0m\u001b[1;33m)\u001b[0m\u001b[1;33m\u001b[0m\u001b[1;33m\u001b[0m\u001b[0m\n\u001b[0m\u001b[0;32m    249\u001b[0m \u001b[1;33m\u001b[0m\u001b[0m\n\u001b[0;32m    250\u001b[0m     \u001b[1;32mdef\u001b[0m \u001b[0m_randbelow_with_getrandbits\u001b[0m\u001b[1;33m(\u001b[0m\u001b[0mself\u001b[0m\u001b[1;33m,\u001b[0m \u001b[0mn\u001b[0m\u001b[1;33m)\u001b[0m\u001b[1;33m:\u001b[0m\u001b[1;33m\u001b[0m\u001b[1;33m\u001b[0m\u001b[0m\n",
      "\u001b[1;32m~\\anaconda3\\lib\\random.py\u001b[0m in \u001b[0;36mrandrange\u001b[1;34m(self, start, stop, step, _int)\u001b[0m\n\u001b[0;32m    224\u001b[0m             \u001b[1;32mreturn\u001b[0m \u001b[0mistart\u001b[0m \u001b[1;33m+\u001b[0m \u001b[0mself\u001b[0m\u001b[1;33m.\u001b[0m\u001b[0m_randbelow\u001b[0m\u001b[1;33m(\u001b[0m\u001b[0mwidth\u001b[0m\u001b[1;33m)\u001b[0m\u001b[1;33m\u001b[0m\u001b[1;33m\u001b[0m\u001b[0m\n\u001b[0;32m    225\u001b[0m         \u001b[1;32mif\u001b[0m \u001b[0mstep\u001b[0m \u001b[1;33m==\u001b[0m \u001b[1;36m1\u001b[0m\u001b[1;33m:\u001b[0m\u001b[1;33m\u001b[0m\u001b[1;33m\u001b[0m\u001b[0m\n\u001b[1;32m--> 226\u001b[1;33m             \u001b[1;32mraise\u001b[0m \u001b[0mValueError\u001b[0m\u001b[1;33m(\u001b[0m\u001b[1;34m\"empty range for randrange() (%d, %d, %d)\"\u001b[0m \u001b[1;33m%\u001b[0m \u001b[1;33m(\u001b[0m\u001b[0mistart\u001b[0m\u001b[1;33m,\u001b[0m \u001b[0mistop\u001b[0m\u001b[1;33m,\u001b[0m \u001b[0mwidth\u001b[0m\u001b[1;33m)\u001b[0m\u001b[1;33m)\u001b[0m\u001b[1;33m\u001b[0m\u001b[1;33m\u001b[0m\u001b[0m\n\u001b[0m\u001b[0;32m    227\u001b[0m \u001b[1;33m\u001b[0m\u001b[0m\n\u001b[0;32m    228\u001b[0m         \u001b[1;31m# Non-unit step argument supplied.\u001b[0m\u001b[1;33m\u001b[0m\u001b[1;33m\u001b[0m\u001b[1;33m\u001b[0m\u001b[0m\n",
      "\u001b[1;31mValueError\u001b[0m: empty range for randrange() (4000000000000, 800000001, -3999199999999)"
     ]
    }
   ],
   "source": [
    "Qing.upgrade()"
   ]
  },
  {
   "cell_type": "code",
   "execution_count": 146,
   "metadata": {},
   "outputs": [
    {
     "output_type": "execute_result",
     "data": {
      "text/plain": [
       "188"
      ]
     },
     "metadata": {},
     "execution_count": 146
    }
   ],
   "source": [
    "Qing.health"
   ]
  },
  {
   "cell_type": "code",
   "execution_count": 147,
   "metadata": {},
   "outputs": [
    {
     "output_type": "execute_result",
     "data": {
      "text/plain": [
       "150"
      ]
     },
     "metadata": {},
     "execution_count": 147
    }
   ],
   "source": [
    "Qing.min_health"
   ]
  },
  {
   "cell_type": "code",
   "execution_count": 148,
   "metadata": {},
   "outputs": [
    {
     "output_type": "execute_result",
     "data": {
      "text/plain": [
       "200"
      ]
     },
     "metadata": {},
     "execution_count": 148
    }
   ],
   "source": [
    "Qing.max_health"
   ]
  },
  {
   "cell_type": "code",
   "execution_count": 149,
   "metadata": {},
   "outputs": [
    {
     "output_type": "execute_result",
     "data": {
      "text/plain": [
       "35"
      ]
     },
     "metadata": {},
     "execution_count": 149
    }
   ],
   "source": [
    "Qing.damage"
   ]
  },
  {
   "cell_type": "code",
   "execution_count": 150,
   "metadata": {},
   "outputs": [
    {
     "output_type": "execute_result",
     "data": {
      "text/plain": [
       "30"
      ]
     },
     "metadata": {},
     "execution_count": 150
    }
   ],
   "source": [
    "Qing.min_damage"
   ]
  },
  {
   "cell_type": "code",
   "execution_count": 151,
   "metadata": {},
   "outputs": [
    {
     "output_type": "execute_result",
     "data": {
      "text/plain": [
       "70"
      ]
     },
     "metadata": {},
     "execution_count": 151
    }
   ],
   "source": [
    "Qing.max_damage"
   ]
  },
  {
   "source": [
    "# Baby Upgrades"
   ],
   "cell_type": "markdown",
   "metadata": {}
  },
  {
   "cell_type": "code",
   "execution_count": 152,
   "metadata": {},
   "outputs": [],
   "source": [
    "Baby.upgrade()"
   ]
  },
  {
   "cell_type": "code",
   "execution_count": 153,
   "metadata": {},
   "outputs": [
    {
     "output_type": "execute_result",
     "data": {
      "text/plain": [
       "199"
      ]
     },
     "metadata": {},
     "execution_count": 153
    }
   ],
   "source": [
    "Baby.health"
   ]
  },
  {
   "cell_type": "code",
   "execution_count": 154,
   "metadata": {},
   "outputs": [
    {
     "output_type": "execute_result",
     "data": {
      "text/plain": [
       "150"
      ]
     },
     "metadata": {},
     "execution_count": 154
    }
   ],
   "source": [
    "Baby.min_health"
   ]
  },
  {
   "cell_type": "code",
   "execution_count": 155,
   "metadata": {},
   "outputs": [
    {
     "output_type": "execute_result",
     "data": {
      "text/plain": [
       "200"
      ]
     },
     "metadata": {},
     "execution_count": 155
    }
   ],
   "source": [
    "Baby.max_health"
   ]
  },
  {
   "cell_type": "code",
   "execution_count": 156,
   "metadata": {},
   "outputs": [
    {
     "output_type": "execute_result",
     "data": {
      "text/plain": [
       "44"
      ]
     },
     "metadata": {},
     "execution_count": 156
    }
   ],
   "source": [
    "Baby.damage"
   ]
  },
  {
   "cell_type": "code",
   "execution_count": 157,
   "metadata": {},
   "outputs": [
    {
     "output_type": "execute_result",
     "data": {
      "text/plain": [
       "30"
      ]
     },
     "metadata": {},
     "execution_count": 157
    }
   ],
   "source": [
    "Baby.min_damage"
   ]
  },
  {
   "cell_type": "code",
   "execution_count": 158,
   "metadata": {},
   "outputs": [
    {
     "output_type": "execute_result",
     "data": {
      "text/plain": [
       "70"
      ]
     },
     "metadata": {},
     "execution_count": 158
    }
   ],
   "source": [
    "Baby.max_damage"
   ]
  },
  {
   "source": [
    "## Test Upgrades"
   ],
   "cell_type": "markdown",
   "metadata": {}
  },
  {
   "cell_type": "code",
   "execution_count": 159,
   "metadata": {},
   "outputs": [],
   "source": [
    "test.upgrade()"
   ]
  },
  {
   "cell_type": "code",
   "execution_count": 160,
   "metadata": {},
   "outputs": [
    {
     "output_type": "execute_result",
     "data": {
      "text/plain": [
       "154"
      ]
     },
     "metadata": {},
     "execution_count": 160
    }
   ],
   "source": [
    "test.health"
   ]
  },
  {
   "cell_type": "code",
   "execution_count": 161,
   "metadata": {},
   "outputs": [
    {
     "output_type": "execute_result",
     "data": {
      "text/plain": [
       "150"
      ]
     },
     "metadata": {},
     "execution_count": 161
    }
   ],
   "source": [
    "test.min_health"
   ]
  },
  {
   "cell_type": "code",
   "execution_count": 162,
   "metadata": {},
   "outputs": [
    {
     "output_type": "execute_result",
     "data": {
      "text/plain": [
       "200"
      ]
     },
     "metadata": {},
     "execution_count": 162
    }
   ],
   "source": [
    "test.max_health"
   ]
  },
  {
   "cell_type": "code",
   "execution_count": 163,
   "metadata": {},
   "outputs": [
    {
     "output_type": "execute_result",
     "data": {
      "text/plain": [
       "30"
      ]
     },
     "metadata": {},
     "execution_count": 163
    }
   ],
   "source": [
    "test.damage"
   ]
  },
  {
   "cell_type": "code",
   "execution_count": 164,
   "metadata": {},
   "outputs": [
    {
     "output_type": "execute_result",
     "data": {
      "text/plain": [
       "30"
      ]
     },
     "metadata": {},
     "execution_count": 164
    }
   ],
   "source": [
    "test.min_damage"
   ]
  },
  {
   "cell_type": "code",
   "execution_count": 165,
   "metadata": {},
   "outputs": [
    {
     "output_type": "execute_result",
     "data": {
      "text/plain": [
       "70"
      ]
     },
     "metadata": {},
     "execution_count": 165
    }
   ],
   "source": [
    "test.max_damage"
   ]
  },
  {
   "cell_type": "code",
   "execution_count": null,
   "metadata": {},
   "outputs": [],
   "source": []
  }
 ]
}