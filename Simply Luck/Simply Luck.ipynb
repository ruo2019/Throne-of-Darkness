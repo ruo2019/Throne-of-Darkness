{
 "metadata": {
  "language_info": {
   "codemirror_mode": {
    "name": "ipython",
    "version": 3
   },
   "file_extension": ".py",
   "mimetype": "text/x-python",
   "name": "python",
   "nbconvert_exporter": "python",
   "pygments_lexer": "ipython3",
   "version": "3.9.2-final"
  },
  "orig_nbformat": 2,
  "kernelspec": {
   "name": "python3",
   "display_name": "Python 3.9.2 64-bit",
   "metadata": {
    "interpreter": {
     "hash": "6fe85b82b5469827310a64c41ef787d93c869c5c1f082f9a8db93b600fa17c06"
    }
   }
  }
 },
 "nbformat": 4,
 "nbformat_minor": 2,
 "cells": [
  {
   "cell_type": "code",
   "execution_count": 1,
   "metadata": {},
   "outputs": [],
   "source": [
    "from IPython.display import clear_output\n",
    "import random"
   ]
  },
  {
   "cell_type": "code",
   "execution_count": 2,
   "metadata": {},
   "outputs": [],
   "source": [
    "class Player():\n",
    "    def __init__(self, name, coins=0, moves=[]):\n",
    "        self.name = name\n",
    "        self.moves = moves\n",
    "        self.coins = coins\n",
    "        self.health = random.randint(150, 201)\n",
    "        self.battle_health = self.health\n",
    "        self.min_health = 150\n",
    "        self.max_health = 200\n",
    "        self.damage = random.randint(30,71)\n",
    "        self.battle_damage = self.damage\n",
    "        self.min_damage = 30\n",
    "        self.max_damage = 70\n",
    "        self.golden_nuggets = 0\n",
    "        self.diamonds = 0\n",
    "    def trade_golden_nuggets(self):\n",
    "        g = self.golden_nuggets\n",
    "        for i in range(self.golden_nuggets):\n",
    "            self.coins+=3\n",
    "            self.golden_nuggets-=1\n",
    "    def trade_diamonds(self):\n",
    "        d = self.diamonds\n",
    "        for i in range(self.diamonds):\n",
    "            self.coins+=10\n",
    "            self.diamonds-=1\n",
    "    def upgrade(self):\n",
    "        \"\"\"Upgrades your health and damage when you have a certain amount of coins!!\"\"\"\n",
    "        if (self.coins >= 3 and self.coins < 5):\n",
    "            self.health = random.randint(200, 250)\n",
    "            self.min_health = 200\n",
    "            self.max_health = 250\n",
    "            self.damage = random.randint(70, 100)\n",
    "            self.min_damage = 70\n",
    "            self.max_damage = 100\n",
    "        elif (self.coins >= 5 and self.coins < 7):\n",
    "            self.health = random.randint(250, 301)\n",
    "            self.min_health = 250\n",
    "            self.max_health = 300\n",
    "            self.damage = random.randint(50, 91)\n",
    "            self.min_damage = 50\n",
    "            self.max_damage = 90\n",
    "        elif (self.coins >= 7 and self.coins < 10):\n",
    "            self.health = random.randint(300, 351)\n",
    "            self.min_health = 300\n",
    "            self.max_health = 350\n",
    "            self.damage = random.randint(60, 101)\n",
    "            self.min_damage = 60\n",
    "            self.max_damage = 100\n",
    "        elif (self.coins >= 10 and self.coins < 13):\n",
    "            self.health = random.randint(350, 401)\n",
    "            self.min_health = 350\n",
    "            self.max_health = 400\n",
    "            self.damage = random.randint(70, 111)\n",
    "            self.min_damage = 70\n",
    "            self.max_damage = 110\n",
    "        elif (self.coins >= 13 and self.coins < 15):\n",
    "            self.health = random.randint(400, 451)\n",
    "            self.min_health = 400\n",
    "            self.max_health = 450\n",
    "            self.damage = random.randint(80, 121)\n",
    "            self.min_damage = 80\n",
    "            self.max_damage = 120\n",
    "        elif (self.coins >= 15):\n",
    "            self.health = random.randint(self.coins*30, self.coins*40)\n",
    "            self.min_health = self.coins*30\n",
    "            self.max_health = self.coins*40\n",
    "            self.damage = random.randint(self.coins*7, self.coins*8)\n",
    "            self.min_damage = self.coins*7\n",
    "            self.max_damage = self.coins*8"
   ]
  },
  {
   "cell_type": "code",
   "execution_count": 3,
   "metadata": {},
   "outputs": [],
   "source": [
    "Ruo = Player('(Hacker) Koala')\n",
    "Qing = Player('(Heroic) Shadow')\n",
    "Qing.coins = 50000\n",
    "Qing.upgrade()\n",
    "Baby = Player('(Pro) Frostbite')\n",
    "test = Player('(Noob) test')"
   ]
  },
  {
   "cell_type": "code",
   "execution_count": 4,
   "metadata": {},
   "outputs": [],
   "source": [
    "Qing.name = \"(Dragon Legend) Shadow\""
   ]
  },
  {
   "cell_type": "code",
   "execution_count": 5,
   "metadata": {},
   "outputs": [],
   "source": [
    "def Battle(player1, player2):\n",
    "    current_player = 1\n",
    "    win = False\n",
    "    while True:\n",
    "        clear_output()\n",
    "        print(f\"{player1.name}'s Health: {str(player1.battle_health)} \\n \\n\")\n",
    "        print(f\"{player2.name}'s Health: {str(player2.battle_health)}\")\n",
    "        player1.damage = random.randint(player1.min_damage, player1.max_damage)\n",
    "        player1.battle_damage = player1.damage\n",
    "        player2.damage = random.randint(player2.min_damage, player2.max_damage)\n",
    "        player2.battle_damage = player2.damage\n",
    "        if (player1.battle_health <= 0):\n",
    "            print(f\"{player2.name.split(') ')[1:][0]} has  WON!!!!\\n\\n\")\n",
    "            player2.coins += 1\n",
    "            if (player1.coins == 1):\n",
    "                print(f\"{player1.name.split(') ')[1:][0]} has collected {player1.coins} coin.\\n\")\n",
    "            else:\n",
    "                print(f\"{player1.name.split(') ')[1:][0]} has collected {player1.coins} coins.\\n\")\n",
    "\n",
    "            if (player2.coins == 1):\n",
    "                print(f\"{player2.name.split(') ')[1:][0]} has collected {player2.coins} coin.\\n\")\n",
    "            else:\n",
    "                print(f\"{player2.name.split(') ')[1:][0]} has collected {player2.coins} coins.\\n\")\n",
    "            win = True\n",
    "        if (player2.battle_health <= 0):\n",
    "            print(f\"{player1.name.split(') ')[1:][0]} has WON!!!!\\n\\n\")\n",
    "            player1.coins += 1\n",
    "            if (player1.coins == 1):\n",
    "                print(f\"{player1.name.split(') ')[1:][0]} has collected {player1.coins} coin.\\n\")\n",
    "            else:\n",
    "                print(f\"{player1.name.split(') ')[1:][0]} has collected {player1.coins} coins.\\n\")\n",
    "\n",
    "            if (player2.coins == 1):\n",
    "                print(f\"{player2.name.split(') ')[1:][0]} has collected {player2.coins} coin.\\n\")\n",
    "            else:\n",
    "                print(f\"{player2.name.split(') ')[1:][0]} has collected {player2.coins} coins.\\n\")\n",
    "            win = True\n",
    "        if (win == True):\n",
    "            player1.health = random.randint(player1.min_health, player1.max_health)\n",
    "            player1.damage = random.randint(player1.min_damage, player1.max_damage)\n",
    "            player2.health = random.randint(player2.min_health, player2.max_health)\n",
    "            player2.damage = random.randint(player2.min_damage, player2.max_damage)\n",
    "            player1.battle_health = player1.health\n",
    "            player1.battle_damage = player1.damage\n",
    "            player2.battle_health = player2.health\n",
    "            player2.battle_damage = player2.damage\n",
    "            break\n",
    "        if (current_player == 1):\n",
    "            player1_action = str(input(f\"{player1.name.split(') ')[1:][0]}: Do you want to hit or heal? >>\"))\n",
    "            if (player1_action.lower() == 'hit'):\n",
    "                player2.battle_health -= player1.battle_damage\n",
    "            elif (player1_action.lower() == 'heal'):\n",
    "                player1.battle_health += player1.battle_damage\n",
    "            current_player = 2\n",
    "            continue\n",
    "        elif (current_player == 2):\n",
    "            player2_action = str(input(f\"{player2.name.split(') ')[1:][0]}: Do you want to hit or heal? >>\"))\n",
    "            if (player2_action.lower() == 'hit'):\n",
    "                player1.battle_health -= 0#player2.battle_damage\n",
    "            elif (player2_action.lower() == 'heal'):\n",
    "                player2.battle_health += 0#player2.battle_damage\n",
    "            current_player = 1\n",
    "            continue"
   ]
  },
  {
   "cell_type": "code",
   "execution_count": 6,
   "metadata": {},
   "outputs": [],
   "source": [
    "def autoBattle(player1, player2):\n",
    "    current_player = 1\n",
    "    win = False\n",
    "    while True:\n",
    "        clear_output()\n",
    "        print(f\"{player1.name}'s Health: {str(player1.battle_health)} \\n \\n\")\n",
    "        print(f\"{player2.name}'s Health: {str(player2.battle_health)}\")\n",
    "        player1.damage = random.randint(player1.min_damage, player1.max_damage)\n",
    "        player1.battle_damage = player1.damage\n",
    "        player2.damage = random.randint(player2.min_damage, player2.max_damage)\n",
    "        player2.battle_damage = player2.damage\n",
    "        if (player1.battle_health <= 0):\n",
    "            print(f\"{player2.name.split(') ')[1:][0]} has  WON!!!!\\n\\n\")\n",
    "            player2.coins += 1\n",
    "            if (player1.coins == 1):\n",
    "                print(f\"{player1.name.split(') ')[1:][0]} has collected {player1.coins} coin.\\n\")\n",
    "            else:\n",
    "                print(f\"{player1.name.split(') ')[1:][0]} has collected {player1.coins} coins.\\n\")\n",
    "\n",
    "            if (player2.coins == 1):\n",
    "                print(f\"{player2.name.split(') ')[1:][0]} has collected {player2.coins} coin.\\n\")\n",
    "            else:\n",
    "                print(f\"{player2.name.split(') ')[1:][0]} has collected {player2.coins} coins.\\n\")\n",
    "            win = True\n",
    "        if (player2.battle_health <= 0):\n",
    "            print(f\"{player1.name.split(') ')[1:][0]} has WON!!!!\\n\\n\")\n",
    "            player1.coins += 1\n",
    "            if (player1.coins == 1):\n",
    "                print(f\"{player1.name.split(') ')[1:][0]} has collected {player1.coins} coin.\\n\")\n",
    "            else:\n",
    "                print(f\"{player1.name.split(') ')[1:][0]} has collected {player1.coins} coins.\\n\")\n",
    "\n",
    "            if (player2.coins == 1):\n",
    "                print(f\"{player2.name.split(') ')[1:][0]} has collected {player2.coins} coin.\\n\")\n",
    "            else:\n",
    "                print(f\"{player2.name.split(') ')[1:][0]} has collected {player2.coins} coins.\\n\")\n",
    "            win = True\n",
    "        if (win == True):\n",
    "            player1.health = random.randint(player1.min_health, player1.max_health)\n",
    "            player1.damage = random.randint(player1.min_damage, player1.max_damage)\n",
    "            player2.health = random.randint(player2.min_health, player2.max_health)\n",
    "            player2.damage = random.randint(player2.min_damage, player2.max_damage)\n",
    "            player1.battle_health = player1.health\n",
    "            player1.battle_damage = player1.damage\n",
    "            player2.battle_health = player2.health\n",
    "            player2.battle_damage = player2.damage\n",
    "            break\n",
    "        if (current_player == 1):\n",
    "            player1_action = \"hit\"#str(input(f\"{player1.name.split(') ')[1:][0]}: Do you want to hit or heal? >>\"))\n",
    "            if (player1_action.lower() == 'hit'):\n",
    "                player2.battle_health -= player1.battle_damage\n",
    "            elif (player1_action.lower() == 'heal'):\n",
    "                player1.battle_health += player1.battle_damage\n",
    "            current_player = 2\n",
    "            continue\n",
    "        elif (current_player == 2):\n",
    "            player2_action = \"hit\"#str(input(f\"{player2.name.split(') ')[1:][0]}: Do you want to hit or heal? >>\"))\n",
    "            if (player2_action.lower() == 'hit'):\n",
    "                player1.battle_health -= 0#player2.battle_damage\n",
    "            elif (player2_action.lower() == 'heal'):\n",
    "                player2.battle_health += 0#player2.battle_damage\n",
    "            current_player = 1\n",
    "            continue"
   ]
  },
  {
   "source": [
    "# Battle Arena"
   ],
   "cell_type": "markdown",
   "metadata": {}
  },
  {
<<<<<<< HEAD
   "source": [
    "Battle(Qing, Baby)"
   ],
=======
>>>>>>> f73b28f94d5f50a59f7dae3e0c9280bae2b6b42f
   "cell_type": "code",
   "execution_count": 7,
   "metadata": {},
<<<<<<< HEAD
   "execution_count": 5,
=======
   "outputs": [],
   "source": [
    "Qing.coins = 50000\n",
    "Qing.upgrade()"
   ]
  },
  {
   "cell_type": "code",
   "execution_count": 8,
   "metadata": {},
   "outputs": [],
   "source": [
    "Qing.min_damage = 1e300\n",
    "Qing.max_damage = 1e301"
   ]
  },
  {
   "cell_type": "code",
   "execution_count": 11,
   "metadata": {},
>>>>>>> f73b28f94d5f50a59f7dae3e0c9280bae2b6b42f
   "outputs": [
    {
     "output_type": "stream",
     "name": "stdout",
     "text": [
<<<<<<< HEAD
      "(Heroic) Shadow's Health: 19 \n \n\n(Pro) Frostbite's Health: -22\nShadow has WON!!!!\n\n\nShadow has collected 1 coin.\n\nFrostbite has collected 0 coins.\n\n"
     ]
    }
=======
      "(Dragon Legend) Shadow's Health: 1733396 \n \n\n(Pro) Frostbite's Health: -9948802648663425089414167306306932608262423557472102082367623901648575958782249734455774089343370149096656345213101710980934268053241690116356906216115598852684927429697683201904206707857360970084211784598955683962449629871555721153058354658337898188230336459275410169651467585001495240700423637295554\nShadow has WON!!!!\n\n\nShadow has collected 50002 coins.\n\nFrostbite has collected 1e+300 coins.\n\n"
     ]
    }
   ],
   "source": [
    "autoBattle(player1=Qing, player2=Baby)"
   ]
  },
  {
   "cell_type": "code",
   "execution_count": 10,
   "metadata": {},
   "outputs": [],
   "source": [
    "Baby.coins = 1e300\n",
    "Baby.upgrade()"
>>>>>>> f73b28f94d5f50a59f7dae3e0c9280bae2b6b42f
   ]
  },
  {
   "cell_type": "code",
<<<<<<< HEAD
   "execution_count": 59,
=======
   "execution_count": 21,
>>>>>>> f73b28f94d5f50a59f7dae3e0c9280bae2b6b42f
   "metadata": {},
   "outputs": [],
   "source": [
    "def Train(player1):\n",
<<<<<<< HEAD
=======
    "    coins_end = 0\n",
    "    nuggets_end = 0\n",
>>>>>>> f73b28f94d5f50a59f7dae3e0c9280bae2b6b42f
    "    level = int(input(\"Which level do you want to start at:\"))\n",
    "    Bot = Player(f\"[Level {level}] Bot\")\n",
    "    Bot.battle_health = level*30\n",
    "    win = False\n",
    "    current_player = 1\n",
    "    player1.health = random.randint(player1.min_health, player1.max_health)\n",
    "    Bot.health = random.randint(level*20, level*35)\n",
    "    player1.battle_health = player1.health\n",
    "    Bot.battle_health = Bot.health\n",
    "    player1_previous_coins = player1.coins\n",
    "    player1_previous_gold = player1.golden_nuggets\n",
    "    player1_previous_diamonds = player1.diamonds\n",
    "    while True:\n",
    "        Bot.name = f\"[Level {level}] Bot\"\n",
    "        clear_output()\n",
    "        print(f\"{player1.name}'s Health: {str(player1.battle_health)} \\n \\n\")\n",
    "        print(f\"{Bot.name}'s Health: {str(Bot.battle_health)}\")\n",
    "        player1.damage = random.randint(player1.min_damage, player1.max_damage)\n",
    "        player1.battle_damage = player1.damage\n",
    "        if (player1.battle_health == 0):\n",
    "            print(f\"{player1.name.split(') ')[1:][0]} was  DEFEATED!!!!\")\n",
    "            restart_level = str(input(\"Do you want to restart this level? Y/N >>\"))\n",
    "            if (restart_level.lower() == 'y'):\n",
    "                player1.health = random.randint(player1.min_health, player1.max_health)\n",
    "                player1.damage = random.randint(player1.min_damage, player1.max_damage)\n",
    "                Bot.health = random.randint(level*20, level*35)\n",
    "                player1.battle_health = player1.health\n",
    "                player1.battle_damage = player1.damage\n",
    "                Bot.battle_health = Bot.health\n",
    "                continue\n",
    "            elif (restart_level.lower() == 'n'):\n",
    "                clear_output()\n",
    "                if (int(player1.coins) - int(player1_previous_coins) == 1):\n",
    "                    print(f\"You have collected {int(player1.coins) - int(player1_previous_coins)} coin from the Training Arena.\")\n",
    "                else:\n",
    "                    print(f\"You have collected {int(player1.coins) - int(player1_previous_coins)} coins from the Training Arena.\")\n",
    "                player1.health = random.randint(player1.min_health, player1.max_health)\n",
    "                player1.damage = random.randint(player1.min_damage, player1.max_damage)\n",
    "                Bot.health = random.randint(level*20, level*35)\n",
    "                player1.battle_health = player1.health\n",
    "                player1.battle_damage = player1.damage\n",
    "                Bot.battle_health = Bot.health\n",
    "                break\n",
    "        if (Bot.battle_health <= 0):\n",
    "            print(f\"{player1.name.split(') ')[1:][0]} has WON!!!!\")\n",
    "            level += 1\n",
<<<<<<< HEAD
    "            if level % 7 == 0:\n",
    "                player1.golden_nuggets+=1\n",
    "            if level % 10 == 0:\n",
    "                player1.diamonds+=1\n",
    "            if (level % 3 == 0):\n",
    "                player1.coins += 1\n",
    "            level_up = str(input('Do you want to go to the next level? Y/N >>'))\n",
    "            if (level == 7001):\n",
    "                break\n",
=======
    "            level_up = str(input('Do you want to go to the next level? Y/N >>'))\n",
    "            if (level % 7 == 0):\n",
    "                player1.golden_nuggets+=1\n",
    "            if level%3 == 0:\n",
    "                player1.coins+=1\n",
>>>>>>> f73b28f94d5f50a59f7dae3e0c9280bae2b6b42f
    "            if (level_up.lower() == 'y'):\n",
    "                player1.health = random.randint(player1.min_health, player1.max_health)\n",
    "                player1.damage = random.randint(player1.min_damage, player1.max_damage)\n",
    "                Bot.health = random.randint(level*20, level*35)\n",
    "                player1.battle_health = player1.health\n",
    "                player1.battle_damage = player1.damage\n",
    "                Bot.battle_health = Bot.health\n",
    "                continue\n",
    "            elif (level_up.lower() == 'n'):\n",
    "                clear_output()\n",
    "                print(f\"You have defeated {Bot.name}!!\\n\")\n",
    "                if (int(player1.coins) - int(player1_previous_coins) == 1):\n",
<<<<<<< HEAD
    "                    print(f\"You have collected {int(player1.coins) - int(player1_previous_coins)} coin from the Training Arena.\\n\")\n",
    "                else:\n",
    "                    print(f\"You have collected {int(player1.coins) - int(player1_previous_coins)} coins from the Training Arena.\\n\")\n",
    "\n",
    "                if (int(player1.golden_nuggets) - int(player1_previous_gold) == 1):\n",
    "                    print(f\"You have collected {int(player1.golden_nuggets) - int(player1_previous_gold)} gold nugget from the Training Arena.\\n\")\n",
    "                else:\n",
    "                    print(f\"You have collected {int(player1.golden_nuggets) - int(player1_previous_gold)} gold nuggets from the Training Arena.\\n\")\n",
    "\n",
    "                if (int(player1.diamonds) - int(player1_previous_diamonds) == 1):\n",
    "                    print(f\"You have collected {int(player1.diamonds) - int(player1_previous_diamonds)} diamond from the Training Arena.\")\n",
    "                else:\n",
    "                    print(f\"You have collected {int(player1.diamonds) - int(player1_previous_diamonds)} diamonds from the Training Arena.\")\n",
=======
    "                    print(f\"You have collected {int(coins_end) - int(player1_previous_coins)} coin from the Training Arena.\")\n",
    "                else:\n",
    "                    print(f\"You have collected {int(coins_end) - int(player1_previous_coins)} coin from the Training Arena.\")\n",
>>>>>>> f73b28f94d5f50a59f7dae3e0c9280bae2b6b42f
    "                player1.health = random.randint(player1.min_health, player1.max_health)\n",
    "                player1.damage = random.randint(player1.min_damage, player1.max_damage)\n",
    "                Bot.health = random.randint(level*20, level*35)\n",
    "                player1.battle_health = player1.health\n",
    "                player1.battle_damage = player1.damage\n",
    "                Bot.battle_health = Bot.health\n",
    "                player1.coins+=coins_end\n",
    "                player1.golden_nuggets += nuggets_end\n",
    "                break\n",
    "            win = True\n",
    "        if (win == True):\n",
    "            player1.health = random.randint(player1.min_health, player1.max_health)\n",
    "            player1.damage = random.randint(player1.min_damage, player1.max_damage)\n",
    "            Bot.health = random.randint(level*20, level*35)\n",
    "            player1.battle_health = player1.health\n",
    "            player1.battle_damage = player1.damage\n",
    "            Bot.battle_health = Bot.health\n",
    "            break\n",
    "        if (current_player == 1):\n",
    "            player1_action = str(input(f\"{player1.name.split(') ')[1:][0]}: Do you want to hit or heal? >>\"))\n",
    "            if (player1_action.lower() == 'hit'):\n",
    "                Bot.battle_health -= Bot.battle_health\n",
    "            elif (player1_action.lower() == 'heal'):\n",
    "                player1.battle_health += player1.battle_damage\n",
    "            current_player = 2\n",
    "            continue\n",
    "        elif (current_player == 2):\n",
<<<<<<< HEAD
    "            player1.battle_health -= level*10\n",
    "            current_player = 1"
=======
    "            player1.battle_health -= player1.battle_health-1#level*10\n",
    "            current_player = 1\n"
>>>>>>> f73b28f94d5f50a59f7dae3e0c9280bae2b6b42f
   ]
  },
  {
   "cell_type": "code",
   "execution_count": 22,
   "metadata": {},
   "outputs": [],
   "source": [
    "def autoTrain(player1):\n",
    "    level = int(input(\"Which level do you want to start at:\"))\n",
    "    Bot = Player(f\"[Level {level}] Bot\")\n",
    "    Bot.battle_health = level*30\n",
    "    win = False\n",
    "    current_player = 1\n",
    "    player1.health = random.randint(player1.min_health, player1.max_health)\n",
    "    Bot.health = random.randint(level*20, level*35)\n",
    "    player1.battle_health = player1.health\n",
    "    Bot.battle_health = Bot.health\n",
    "    player1_previous_coins = player1.coins\n",
    "    while True:\n",
    "        Bot.name = f\"[Level {level}] Bot\"\n",
    "        clear_output()\n",
    "        print(f\"{player1.name}'s Health: {str(player1.battle_health)} \\n \\n\")\n",
    "        print(f\"{Bot.name}'s Health: {str(Bot.battle_health)}\")\n",
    "        player1.damage = random.randint(player1.min_damage, player1.max_damage)\n",
    "        player1.battle_damage = player1.damage\n",
    "        if (player1.battle_health <= 0):\n",
    "            print(f\"{player1.name.split(') ')[1:][0]} was  DEFEATED!!!!\")\n",
    "            restart_level = str(input(\"Do you want to restart this level? Y/N >>\"))\n",
    "            if (restart_level.lower() == 'y'):\n",
    "                player1.health = random.randint(player1.min_health, player1.max_health)\n",
    "                player1.damage = random.randint(player1.min_damage, player1.max_damage)\n",
    "                Bot.health = random.randint(level*20, level*35)\n",
    "                player1.battle_health = player1.health\n",
    "                player1.battle_damage = player1.damage\n",
    "                Bot.battle_health = Bot.health\n",
    "                continue\n",
    "            elif (restart_level.lower() == 'n'):\n",
    "                clear_output()\n",
    "                if (int(player1.coins) - int(player1_previous_coins) == 1):\n",
    "                    print(f\"You have collected {int(player1.coins) - int(player1_previous_coins)} coin from the Training Arena.\")\n",
    "                else:\n",
    "                    print(f\"You have collected {int(player1.coins) - int(player1_previous_coins)} coins from the Training Arena.\")\n",
    "                player1.health = random.randint(player1.min_health, player1.max_health)\n",
    "                player1.damage = random.randint(player1.min_damage, player1.max_damage)\n",
    "                Bot.health = random.randint(level*20, level*35)\n",
    "                player1.battle_health = player1.health\n",
    "                player1.battle_damage = player1.damage\n",
    "                Bot.battle_health = Bot.health\n",
    "                break\n",
    "        if (Bot.battle_health <= 0):\n",
    "            print(f\"{player1.name.split(') ')[1:][0]} has WON!!!!\")\n",
    "            level += 1\n",
    "            #if level == 7001:\n",
    "             #   break\n",
    "            if level % 7 == 0:\n",
    "                player1.golden_nuggets+=1\n",
    "            if (level % 3 == 0 and level != 1):\n",
    "                player1.coins += 1\n",
    "            level_up = \"y\"#str(input('Do you want to go to the next level? Y/N >>'))\n",
    "            if (level_up.lower() == 'y'):\n",
    "                player1.health = random.randint(player1.min_health, player1.max_health)\n",
    "                player1.damage = random.randint(player1.min_damage, player1.max_damage)\n",
    "                Bot.health = random.randint(level*20, level*35)\n",
    "                player1.battle_health = player1.health\n",
    "                player1.battle_damage = player1.damage\n",
    "                Bot.battle_health = Bot.health\n",
    "                continue\n",
    "            elif (level_up.lower() == 'n'):\n",
    "                clear_output()\n",
    "                print(f\"You have defeated {Bot.name}!!\\n\")\n",
    "                if (int(player1.coins) - int(player1_previous_coins) == 1):\n",
    "                    print(f\"You have collected {int(player1.coins) - int(player1_previous_coins)} coin from the Training Arena.\")\n",
    "                else:\n",
    "                    print(f\"You have collected {int(player1.coins) - int(player1_previous_coins)} coin from the Training Arena.\")\n",
    "                player1.health = random.randint(player1.min_health, player1.max_health)\n",
    "                player1.damage = random.randint(player1.min_damage, player1.max_damage)\n",
    "                Bot.health = random.randint(level*20, level*35)\n",
    "                player1.battle_health = player1.health\n",
    "                player1.battle_damage = player1.damage\n",
    "                Bot.battle_health = Bot.health\n",
    "                break\n",
    "            win = True\n",
    "        if (win == True):\n",
    "            player1.health = random.randint(player1.min_health, player1.max_health)\n",
    "            player1.damage = random.randint(player1.min_damage, player1.max_damage)\n",
    "            Bot.health = random.randint(level*20, level*35)\n",
    "            player1.battle_health = player1.health\n",
    "            player1.battle_damage = player1.damage\n",
    "            Bot.battle_health = Bot.health\n",
    "            break\n",
    "        if (current_player == 1):\n",
    "            player1_action = \"hit\"#str(input(f\"{player1.name.split(') ')[1:][0]}: Do you want to hit or heal? >>\"))\n",
    "            if (player1_action.lower() == 'hit'):\n",
    "                Bot.battle_health -= player1.battle_damage\n",
    "            elif (player1_action.lower() == 'heal'):\n",
    "                player1.battle_health += player1.battle_damage\n",
    "            current_player = 2\n",
    "            continue\n",
    "        elif (current_player == 2):\n",
    "            player1.battle_health -= player1.battle_health-1#level*10\n",
    "            current_player = 1"
   ]
  },
  {
   "cell_type": "code",
<<<<<<< HEAD
   "execution_count": 60,
   "metadata": {},
   "outputs": [
    {
     "output_type": "stream",
     "name": "stdout",
     "text": [
      "You have defeated [Level 1] Bot!!\n\nYou have collected 0 coins from the Training Arena.\n\nYou have collected 0 gold nuggets from the Training Arena.\n\nYou have collected 0 diamonds from the Training Arena.\n"
     ]
    }
   ],
=======
   "execution_count": 23,
   "metadata": {},
   "outputs": [],
>>>>>>> f73b28f94d5f50a59f7dae3e0c9280bae2b6b42f
   "source": [
    "def zombie(player1):\n",
    "    group = random.randint(10, 15)\n",
    "    level = random.randint(10, 20)\n",
    "    Bot = Player(f\"[Level {level}] zombie\")\n",
    "    Bot.battle_health = level*30\n",
    "    win = False\n",
    "    current_player = 1\n",
    "    player1.health = random.randint(player1.min_health, player1.max_health)\n",
    "    Bot.health = random.randint(level*20, level*35)\n",
    "    player1.battle_health = player1.health\n",
    "    Bot.battle_health = Bot.health\n",
    "    player1_previous_coins = player1.coins\n",
    "    while True:\n",
    "        Bot.name = f\"[Level {level}] Zombie\"\n",
    "        clear_output()\n",
    "        print(f\"{player1.name}'s Health: {str(player1.battle_health)} \\n \\n\")\n",
    "        print(f\"{Bot.name}'s Health: {str(Bot.battle_health)}\")\n",
    "        player1.damage = random.randint(player1.min_damage, player1.max_damage)\n",
    "        player1.battle_damage = player1.damage\n",
    "        if (player1.battle_health <= 0):\n",
    "            print(f\"{player1.name.split(') ')[1:][0]} was  DEFEATED!!!!\")\n",
    "            restart_level = str(input(\"Do you want to try again? Y/N >>\"))\n",
    "            if (restart_level.lower() == 'y'):\n",
    "                player1.health = random.randint(player1.min_health, player1.max_health)\n",
    "                player1.damage = random.randint(player1.min_damage, player1.max_damage)\n",
    "                Bot.health = random.randint(level*20, level*35)\n",
    "                player1.battle_health = player1.health\n",
    "                player1.battle_damage = player1.damage\n",
    "                Bot.battle_health = Bot.health\n",
    "                continue\n",
    "            elif (restart_level.lower() == 'n'):\n",
    "                clear_output()\n",
    "                if (int(player1.coins) - int(player1_previous_coins) == 1):\n",
    "                    print(f\"You have collected {int(player1.coins) - int(player1_previous_coins)} coin from the Training Arena.\")\n",
    "                else:\n",
    "                    print(f\"You have collected {int(player1.coins) - int(player1_previous_coins)} coins from the Training Arena.\")\n",
    "                player1.health = random.randint(player1.min_health, player1.max_health)\n",
    "                player1.damage = random.randint(player1.min_damage, player1.max_damage)\n",
    "                Bot.health = random.randint(level*20, level*35)\n",
    "                player1.battle_health = player1.health\n",
    "                player1.battle_damage = player1.damage\n",
    "                Bot.battle_health = Bot.health\n",
    "                break\n",
    "        if (Bot.battle_health <= 0):\n",
    "            print(f\"{player1.name.split(') ')[1:][0]} has WON!!!!\")\n",
    "            player1.coins += 1\n",
    "            level_up = str(input('Do you want to go to the next zombie? Y/N >>'))\n",
    "            if (level_up.lower() == 'y'):\n",
    "                player1.health = random.randint(player1.min_health, player1.max_health)\n",
    "                player1.damage = random.randint(player1.min_damage, player1.max_damage)\n",
    "                Bot.health = random.randint(level*20, level*35)\n",
    "                player1.battle_health = player1.health\n",
    "                player1.battle_damage = player1.damage\n",
    "                Bot.battle_health = Bot.health\n",
    "                level = random.randint(10, 20)\n",
    "                continue\n",
    "            elif (level_up.lower() == 'n'):\n",
    "                clear_output()\n",
    "                print(f\"You have defeated {Bot.name}!!\\n\")\n",
    "                if (int(player1.coins) - int(player1_previous_coins) == 1):\n",
    "                    print(f\"You have collected {int(player1.coins) - int(player1_previous_coins)} coin from the Zombie Arena.\")\n",
    "                else:\n",
    "                    print(f\"You have collected {int(player1.coins) - int(player1_previous_coins)} coin from the Zombie Arena.\")\n",
    "                player1.health = random.randint(player1.min_health, player1.max_health)\n",
    "                player1.damage = random.randint(player1.min_damage, player1.max_damage)\n",
    "                Bot.health = random.randint(level*20, level*35)\n",
    "                player1.battle_health = player1.health\n",
    "                player1.battle_damage = player1.damage\n",
    "                Bot.battle_health = Bot.health\n",
    "                break\n",
    "            win = True\n",
    "        if (win == True):\n",
    "            player1.health = random.randint(player1.min_health, player1.max_health)\n",
    "            player1.damage = random.randint(player1.min_damage, player1.max_damage)\n",
    "            Bot.health = random.randint(level*20, level*35)\n",
    "            player1.battle_health = player1.health\n",
    "            player1.battle_damage = player1.damage\n",
    "            Bot.battle_health = Bot.health\n",
    "            break\n",
    "        if (current_player == 1):\n",
    "            player1_action = str(input(f\"{player1.name.split(') ')[1:][0]}: Do you want to hit or heal? >>\"))\n",
    "            if (player1_action.lower() == 'hit'):\n",
    "                Bot.battle_health -= player1.battle_damage\n",
    "            elif (player1_action.lower() == 'heal'):\n",
    "                player1.battle_health += player1.battle_damage\n",
    "            current_player = 2\n",
    "            continue\n",
    "        elif (current_player == 2):\n",
    "            player1.battle_health -= player1.battle_health-1#level*10\n",
    "            current_player = 1"
   ]
  },
  {
   "cell_type": "code",
<<<<<<< HEAD
   "execution_count": 42,
   "metadata": {},
   "outputs": [],
   "source": [
    "def autoTrain(player1):\n",
    "    level = int(input(\"Which level do you want to start at:\"))\n",
    "    Bot = Player(f\"[Level {level}] Bot\")\n",
    "    Bot.battle_health = level*30\n",
    "    win = False\n",
    "    current_player = 1\n",
    "    player1.health = random.randint(player1.min_health, player1.max_health)\n",
    "    Bot.health = random.randint(level*20, level*35)\n",
    "    player1.battle_health = player1.health\n",
    "    Bot.battle_health = Bot.health\n",
    "    player1_previous_coins = player1.coins\n",
    "    player1_previous_gold = player1.golden_nuggets\n",
    "    player1_previous_diamonds = player1.diamonds\n",
    "    while True:\n",
    "        Bot.name = f\"[Level {level}] Bot\"\n",
    "        clear_output()\n",
    "        print(f\"{player1.name}'s Health: {str(player1.battle_health)} \\n \\n\")\n",
    "        print(f\"{Bot.name}'s Health: {str(Bot.battle_health)}\")\n",
    "        player1.damage = random.randint(player1.min_damage, player1.max_damage)\n",
    "        player1.battle_damage = player1.damage\n",
    "        if (player1.battle_health <= 0):\n",
    "            print(f\"{player1.name.split(') ')[1:][0]} was  DEFEATED!!!!\")\n",
    "            restart_level = str(input(\"Do you want to restart this level? Y/N >>\"))\n",
    "            if (restart_level.lower() == 'y'):\n",
    "                player1.health = random.randint(player1.min_health, player1.max_health)\n",
    "                player1.damage = random.randint(player1.min_damage, player1.max_damage)\n",
    "                Bot.health = random.randint(level*20, level*35)\n",
    "                player1.battle_health = player1.health\n",
    "                player1.battle_damage = player1.damage\n",
    "                Bot.battle_health = Bot.health\n",
    "                continue\n",
    "            elif (restart_level.lower() == 'n'):\n",
    "                clear_output()\n",
    "                print(f\"You have defeated {Bot.name}!!\\n\\n\")\n",
    "                if (int(player1.coins) - int(player1_previous_coins) == 1):\n",
    "                    print(f\"You have collected {int(player1.coins) - int(player1_previous_coins)} coin from the Training Arena.\\n\")\n",
    "                else:\n",
    "                    print(f\"You have collected {int(player1.coins) - int(player1_previous_coins)} coins from the Training Arena.\\n\")\n",
    "\n",
    "                if (int(player1.golden_nuggets) - int(player1_previous_gold) == 1):\n",
    "                    print(f\"You have collected {int(player1.golden_nuggets) - int(player1_previous_gold)} gold nugget from the Training Arena.\\n\")\n",
    "                else:\n",
    "                    print(f\"You have collected {int(player1.golden_nuggets) - int(player1_previous_gold)} gold nuggets from the Training Arena.\\n\")\n",
    "\n",
    "                if (int(player1.diamonds) - int(player1_previous_diamonds) == 1):\n",
    "                    print(f\"You have collected {int(player1.diamonds) - int(player1_previous_diamonds)} diamond from the Training Arena.\")\n",
    "                else:\n",
    "                    print(f\"You have collected {int(player1.diamonds) - int(player1_previous_diamonds)} diamonds from the Training Arena.\")\n",
    "                player1.health = random.randint(player1.min_health, player1.max_health)\n",
    "                player1.damage = random.randint(player1.min_damage, player1.max_damage)\n",
    "                Bot.health = random.randint(level*20, level*35)\n",
    "                player1.battle_health = player1.health\n",
    "                player1.battle_damage = player1.damage\n",
    "                Bot.battle_health = Bot.health\n",
    "                break\n",
    "        if (Bot.battle_health <= 0):\n",
    "            print(f\"{player1.name.split(') ')[1:][0]} has WON!!!!\")\n",
    "            level += 1\n",
    "            if level % 7 == 0:\n",
    "                player1.golden_nuggets+=1\n",
    "            if (level % 3 == 0 and level != 1):\n",
    "                player1.coins += 1\n",
    "            if (level == 7001):\n",
    "                break\n",
    "            level_up = \"y\"#str(input('Do you want to go to the next level? Y/N >>'))\n",
    "            if (level_up.lower() == 'y'):\n",
    "                player1.health = random.randint(player1.min_health, player1.max_health)\n",
    "                player1.damage = random.randint(player1.min_damage, player1.max_damage)\n",
    "                Bot.health = random.randint(level*20, level*35)\n",
    "                player1.battle_health = player1.health\n",
    "                player1.battle_damage = player1.damage\n",
    "                Bot.battle_health = Bot.health\n",
    "                continue\n",
    "            elif (level_up.lower() == 'n'):\n",
    "                clear_output()\n",
    "                print(f\"You have defeated {Bot.name}!!\\n\\n\")\n",
    "                if (int(player1.coins) - int(player1_previous_coins) == 1):\n",
    "                    print(f\"You have collected {int(player1.coins) - int(player1_previous_coins)} coin from the Training Arena.\\n\")\n",
    "                else:\n",
    "                    print(f\"You have collected {int(player1.coins) - int(player1_previous_coins)} coins from the Training Arena.\\n\")\n",
    "\n",
    "                if (int(player1.golden_nuggets) - int(player1_previous_gold) == 1):\n",
    "                    print(f\"You have collected {int(player1.golden_nuggets) - int(player1_previous_gold)} gold nugget from the Training Arena.\\n\")\n",
    "                else:\n",
    "                    print(f\"You have collected {int(player1.golden_nuggets) - int(player1_previous_gold)} gold nuggets from the Training Arena.\\n\")\n",
    "\n",
    "                if (int(player1.diamonds) - int(player1_previous_diamonds) == 1):\n",
    "                    print(f\"You have collected {int(player1.diamonds) - int(player1_previous_diamonds)} diamond from the Training Arena.\")\n",
    "                else:\n",
    "                    print(f\"You have collected {int(player1.diamonds) - int(player1_previous_diamonds)} diamonds from the Training Arena.\")\n",
    "                player1.health = random.randint(player1.min_health, player1.max_health)\n",
    "                player1.damage = random.randint(player1.min_damage, player1.max_damage)\n",
    "                Bot.health = random.randint(level*20, level*35)\n",
    "                player1.battle_health = player1.health\n",
    "                player1.battle_damage = player1.damage\n",
    "                Bot.battle_health = Bot.health\n",
    "                break\n",
    "            win = True\n",
    "        if (win == True):\n",
    "            player1.health = random.randint(player1.min_health, player1.max_health)\n",
    "            player1.damage = random.randint(player1.min_damage, player1.max_damage)\n",
    "            Bot.health = random.randint(level*20, level*35)\n",
    "            player1.battle_health = player1.health\n",
    "            player1.battle_damage = player1.damage\n",
    "            Bot.battle_health = Bot.health\n",
    "            break\n",
    "        if (current_player == 1):\n",
    "            player1_action = \"hit\"#str(input(f\"{player1.name.split(') ')[1:][0]}: Do you want to hit or heal? >>\"))\n",
    "            if (player1_action.lower() == 'hit'):\n",
    "                Bot.battle_health -= player1.battle_damage\n",
    "            elif (player1_action.lower() == 'heal'):\n",
    "                player1.battle_health += player1.battle_damage\n",
    "            current_player = 2\n",
    "            continue\n",
    "        elif (current_player == 2):\n",
    "            player1.battle_health -= level*10\n",
    "            current_player = 1\n",
    "        if (player1.battle_health < 0):\n",
    "            player1.battle_health == 0"
   ]
  },
  {
   "cell_type": "code",
   "execution_count": 43,
   "metadata": {},
   "outputs": [
    {
     "output_type": "error",
     "ename": "ValueError",
     "evalue": "invalid literal for int() with base 10: ''",
     "traceback": [
      "\u001b[1;31m---------------------------------------------------------------------------\u001b[0m",
      "\u001b[1;31mValueError\u001b[0m                                Traceback (most recent call last)",
      "\u001b[1;32m<ipython-input-43-17f9ea78ef2c>\u001b[0m in \u001b[0;36m<module>\u001b[1;34m\u001b[0m\n\u001b[1;32m----> 1\u001b[1;33m \u001b[0mautoTrain\u001b[0m\u001b[1;33m(\u001b[0m\u001b[0mRuo\u001b[0m\u001b[1;33m)\u001b[0m\u001b[1;33m\u001b[0m\u001b[1;33m\u001b[0m\u001b[0m\n\u001b[0m",
      "\u001b[1;32m<ipython-input-42-797e4afdf29c>\u001b[0m in \u001b[0;36mautoTrain\u001b[1;34m(player1)\u001b[0m\n\u001b[0;32m      1\u001b[0m \u001b[1;32mdef\u001b[0m \u001b[0mautoTrain\u001b[0m\u001b[1;33m(\u001b[0m\u001b[0mplayer1\u001b[0m\u001b[1;33m)\u001b[0m\u001b[1;33m:\u001b[0m\u001b[1;33m\u001b[0m\u001b[1;33m\u001b[0m\u001b[0m\n\u001b[1;32m----> 2\u001b[1;33m     \u001b[0mlevel\u001b[0m \u001b[1;33m=\u001b[0m \u001b[0mint\u001b[0m\u001b[1;33m(\u001b[0m\u001b[0minput\u001b[0m\u001b[1;33m(\u001b[0m\u001b[1;34m\"Which level do you want to start at:\"\u001b[0m\u001b[1;33m)\u001b[0m\u001b[1;33m)\u001b[0m\u001b[1;33m\u001b[0m\u001b[1;33m\u001b[0m\u001b[0m\n\u001b[0m\u001b[0;32m      3\u001b[0m     \u001b[0mBot\u001b[0m \u001b[1;33m=\u001b[0m \u001b[0mPlayer\u001b[0m\u001b[1;33m(\u001b[0m\u001b[1;34mf\"[Level {level}] Bot\"\u001b[0m\u001b[1;33m)\u001b[0m\u001b[1;33m\u001b[0m\u001b[1;33m\u001b[0m\u001b[0m\n\u001b[0;32m      4\u001b[0m     \u001b[0mBot\u001b[0m\u001b[1;33m.\u001b[0m\u001b[0mbattle_health\u001b[0m \u001b[1;33m=\u001b[0m \u001b[0mlevel\u001b[0m\u001b[1;33m*\u001b[0m\u001b[1;36m30\u001b[0m\u001b[1;33m\u001b[0m\u001b[1;33m\u001b[0m\u001b[0m\n\u001b[0;32m      5\u001b[0m     \u001b[0mwin\u001b[0m \u001b[1;33m=\u001b[0m \u001b[1;32mFalse\u001b[0m\u001b[1;33m\u001b[0m\u001b[1;33m\u001b[0m\u001b[0m\n",
      "\u001b[1;31mValueError\u001b[0m: invalid literal for int() with base 10: ''"
     ]
    }
   ],
   "source": [
    "autoTrain(Ruo)"
   ]
  },
  {
   "cell_type": "code",
   "execution_count": 8,
=======
   "execution_count": 24,
>>>>>>> f73b28f94d5f50a59f7dae3e0c9280bae2b6b42f
   "metadata": {},
   "outputs": [],
   "source": [
    "def autoZombie(player1):\n",
    "    group = random.randint(10, 15)\n",
    "    level = random.randint(10, 20)\n",
    "    Bot = Player(f\"[Level {level}] zombie\")\n",
    "    Bot.battle_health = level*30\n",
    "    win = False\n",
    "    current_player = 1\n",
    "    player1.health = random.randint(player1.min_health, player1.max_health)\n",
    "    Bot.health = random.randint(level*20, level*35)\n",
    "    player1.battle_health = player1.health\n",
    "    Bot.battle_health = Bot.health\n",
    "    player1_previous_coins = player1.coins\n",
    "    while True:\n",
    "        Bot.name = f\"[Level {level}] Zombie\"\n",
    "        clear_output()\n",
    "        print(f\"{player1.name}'s Health: {str(player1.battle_health)} \\n \\n\")\n",
    "        print(f\"{Bot.name}'s Health: {str(Bot.battle_health)}\")\n",
    "        player1.damage = random.randint(player1.min_damage, player1.max_damage)\n",
    "        player1.battle_damage = player1.damage\n",
    "        if (player1.battle_health <= 0):\n",
<<<<<<< HEAD
    "            clear_output()\n",
    "        print(f\"{player1.name.split(') ')[1:][0]} was  DEFEATED by the {Zombie.name}!!!!\\n\")\n",
    "        if (int(player1.coins) - int(player1_previous_coins) == 1):\n",
    "            print(f\"You have collected {int(player1.coins) - int(player1_previous_coins)} coin from the Zombie Apocalpse.\\n\")\n",
    "        else:\n",
    "            print(f\"You have collected {int(player1.coins) - int(player1_previous_coins)} coins from the Zombie A.\\n\")\n",
    "\n",
    "        if (int(player1.golden_nuggets) - int(player1_previous_gold) == 1):\n",
    "            print(f\"You have collected {int(player1.golden_nuggets) - int(player1_previous_gold)} gold nugget from the Training Arena.\\n\")\n",
    "        else:\n",
    "            print(f\"You have collected {int(player1.golden_nuggets) - int(player1_previous_gold)} gold nuggets from the Training Arena.\\n\")\n",
    "\n",
    "        if (int(player1.diamonds) - int(player1_previous_diamonds) == 1):\n",
    "            print(f\"You have collected {int(player1.diamonds) - int(player1_previous_diamonds)} diamond from the Training Arena.\")\n",
    "        else:\n",
    "            print(f\"You have collected {int(player1.diamonds) - int(player1_previous_diamonds)} diamonds from the Training Arena.\")\n",
    "            break\n",
    "        if (Zombie.battle_health <= 0):\n",
=======
    "            print(f\"{player1.name.split(') ')[1:][0]} was  DEFEATED!!!!\")\n",
    "            restart_level = \"hit\"#str(input(\"Do you want to try again? Y/N >>\"))\n",
    "            if (restart_level.lower() == 'y'):\n",
    "                player1.health = random.randint(player1.min_health, player1.max_health)\n",
    "                player1.damage = random.randint(player1.min_damage, player1.max_damage)\n",
    "                Bot.health = random.randint(level*20, level*35)\n",
    "                player1.battle_health = player1.health\n",
    "                player1.battle_damage = player1.damage\n",
    "                Bot.battle_health = Bot.health\n",
    "                continue\n",
    "            elif (restart_level.lower() == 'n'):\n",
    "                clear_output()\n",
    "                if (int(player1.coins) - int(player1_previous_coins) == 1):\n",
    "                    print(f\"You have collected {int(player1.coins) - int(player1_previous_coins)} coin from the Training Arena.\")\n",
    "                else:\n",
    "                    print(f\"You have collected {int(player1.coins) - int(player1_previous_coins)} coins from the Training Arena.\")\n",
    "                player1.health = random.randint(player1.min_health, player1.max_health)\n",
    "                player1.damage = random.randint(player1.min_damage, player1.max_damage)\n",
    "                Bot.health = random.randint(level*20, level*35)\n",
    "                player1.battle_health = player1.health\n",
    "                player1.battle_damage = player1.damage\n",
    "                Bot.battle_health = Bot.health\n",
    "                break\n",
    "        if (Bot.battle_health <= 0):\n",
>>>>>>> f73b28f94d5f50a59f7dae3e0c9280bae2b6b42f
    "            print(f\"{player1.name.split(') ')[1:][0]} has WON!!!!\")\n",
    "            player1.coins += 1\n",
    "            level_up = str(input('Do you want to go to the next zombie? Y/N >>'))\n",
    "            if (level_up.lower() == 'y'):\n",
    "                player1.health = random.randint(player1.min_health, player1.max_health)\n",
    "                player1.damage = random.randint(player1.min_damage, player1.max_damage)\n",
    "                Bot.health = random.randint(level*20, level*35)\n",
    "                player1.battle_health = player1.health\n",
    "                player1.battle_damage = player1.damage\n",
    "                Bot.battle_health = Bot.health\n",
    "                level = random.randint(10, 20)\n",
    "                continue\n",
    "            elif (level_up.lower() == 'n'):\n",
    "                clear_output()\n",
    "                print(f\"You have defeated {Bot.name}!!\\n\")\n",
    "                if (int(player1.coins) - int(player1_previous_coins) == 1):\n",
    "                    print(f\"You have collected {int(player1.coins) - int(player1_previous_coins)} coin from the Zombie Arena.\")\n",
    "                else:\n",
    "                    print(f\"You have collected {int(player1.coins) - int(player1_previous_coins)} coin from the Zombie Arena.\")\n",
    "                player1.health = random.randint(player1.min_health, player1.max_health)\n",
    "                player1.damage = random.randint(player1.min_damage, player1.max_damage)\n",
    "                Bot.health = random.randint(level*20, level*35)\n",
    "                player1.battle_health = player1.health\n",
    "                player1.battle_damage = player1.damage\n",
    "                Bot.battle_health = Bot.health\n",
    "                break\n",
    "            win = True\n",
    "        if (win == True):\n",
    "            player1.health = random.randint(player1.min_health, player1.max_health)\n",
    "            player1.damage = random.randint(player1.min_damage, player1.max_damage)\n",
    "            Bot.health = random.randint(level*20, level*35)\n",
    "            player1.battle_health = player1.health\n",
    "            player1.battle_damage = player1.damage\n",
    "            Bot.battle_health = Bot.health\n",
    "            break\n",
    "        if (current_player == 1):\n",
    "            player1_action = \"hit\"#str(input(f\"{player1.name.split(') ')[1:][0]}: Do you want to hit or heal? >>\"))\n",
    "            if (player1_action.lower() == 'hit'):\n",
    "                Bot.battle_health -= player1.battle_damage\n",
    "            elif (player1_action.lower() == 'heal'):\n",
    "                player1.battle_health += player1.battle_damage\n",
    "            current_player = 2\n",
    "            continue\n",
    "        elif (current_player == 2):\n",
    "            player1.battle_health -= player1.battle_health-1\n",
    "            current_player = 1"
   ]
  },
  {
   "source": [
    "# Training Arena"
   ],
   "cell_type": "markdown",
   "metadata": {}
  },
  {
   "cell_type": "code",
<<<<<<< HEAD
   "execution_count": 54,
   "metadata": {},
=======
   "execution_count": 28,
   "metadata": {
    "tags": []
   },
>>>>>>> f73b28f94d5f50a59f7dae3e0c9280bae2b6b42f
   "outputs": [
    {
     "output_type": "stream",
     "name": "stdout",
     "text": [
<<<<<<< HEAD
      "You have defeated [Level 12] Zombie!!\n\nYou have collected 7 coins from the Zombie Apocalpse.\n"
=======
      "You have defeated [Level 13] Zombie!!\n\nYou have collected 4 coin from the Zombie Arena.\n"
>>>>>>> f73b28f94d5f50a59f7dae3e0c9280bae2b6b42f
     ]
    }
   ],
   "source": [
<<<<<<< HEAD
    "Zombies(Ruo)"
=======
    "autoZombie(Qing)"
   ]
  },
  {
   "cell_type": "code",
   "execution_count": 11,
   "metadata": {},
   "outputs": [],
   "source": [
    "Qing.trade_golden_nuggets()\n",
    "Qing.upgrade()"
   ]
  },
  {
   "cell_type": "code",
   "execution_count": 13,
   "metadata": {},
   "outputs": [],
   "source": [
    "Baby.trade_golden_nuggets()\n",
    "Baby.upgrade()"
   ]
  },
  {
   "cell_type": "code",
   "execution_count": 177,
   "metadata": {},
   "outputs": [],
   "source": [
    "Qing.upgrade()"
>>>>>>> f73b28f94d5f50a59f7dae3e0c9280bae2b6b42f
   ]
  },
  {
   "source": [
    "# Coins"
   ],
   "cell_type": "markdown",
   "metadata": {}
  },
  {
   "cell_type": "code",
<<<<<<< HEAD
   "execution_count": 28,
   "metadata": {},
   "outputs": [
    {
     "output_type": "execute_result",
     "data": {
      "text/plain": [
       "64420"
      ]
     },
     "metadata": {},
     "execution_count": 28
    }
   ],
=======
   "execution_count": 30,
   "metadata": {},
   "outputs": [],
>>>>>>> f73b28f94d5f50a59f7dae3e0c9280bae2b6b42f
   "source": [
    "Qing.min_damage = 1e128\n",
    "Qing.max_damage = 1e129"
   ]
  },
  {
   "cell_type": "code",
   "execution_count": 51,
   "metadata": {},
   "outputs": [],
   "source": [
    "Baby.coins = 18410"
   ]
  },
  {
   "cell_type": "code",
   "execution_count": 50,
   "metadata": {},
   "outputs": [
    {
     "output_type": "execute_result",
     "data": {
      "text/plain": [
       "18410"
      ]
     },
     "metadata": {},
     "execution_count": 50
    }
   ],
   "source": [
    "Qing.coins"
   ]
  },
  {
   "cell_type": "code",
<<<<<<< HEAD
   "execution_count": null,
   "metadata": {},
   "outputs": [],
   "source": []
  },
  {
   "cell_type": "code",
   "execution_count": 13,
=======
   "execution_count": 136,
>>>>>>> f73b28f94d5f50a59f7dae3e0c9280bae2b6b42f
   "metadata": {},
   "outputs": [
    {
     "output_type": "execute_result",
     "data": {
      "text/plain": [
       "0"
      ]
     },
     "metadata": {},
<<<<<<< HEAD
     "execution_count": 13
=======
     "execution_count": 136
>>>>>>> f73b28f94d5f50a59f7dae3e0c9280bae2b6b42f
    }
   ],
   "source": [
    "Baby.coins"
   ]
  },
  {
   "cell_type": "code",
<<<<<<< HEAD
   "execution_count": 12,
=======
   "execution_count": 85,
>>>>>>> f73b28f94d5f50a59f7dae3e0c9280bae2b6b42f
   "metadata": {},
   "outputs": [
    {
     "output_type": "execute_result",
     "data": {
      "text/plain": [
       "15"
      ]
     },
     "metadata": {},
<<<<<<< HEAD
     "execution_count": 12
=======
     "execution_count": 85
>>>>>>> f73b28f94d5f50a59f7dae3e0c9280bae2b6b42f
    }
   ],
   "source": [
    "test.coins"
   ]
  },
  {
   "cell_type": "code",
<<<<<<< HEAD
   "execution_count": 26,
   "metadata": {},
   "outputs": [],
   "source": [
    "\n",
    "Ruo.trade_golden_nuggets()"
   ]
  },
  {
   "cell_type": "code",
   "execution_count": 27,
   "metadata": {},
   "outputs": [],
   "source": [
    "Ruo.trade_diamonds()"
   ]
=======
   "execution_count": null,
   "metadata": {},
   "outputs": [],
   "source": []
>>>>>>> f73b28f94d5f50a59f7dae3e0c9280bae2b6b42f
  },
  {
   "source": [
    "## Ruo Upgrades"
   ],
   "cell_type": "markdown",
   "metadata": {}
  },
  {
   "cell_type": "code",
<<<<<<< HEAD
   "execution_count": 29,
=======
   "execution_count": 138,
>>>>>>> f73b28f94d5f50a59f7dae3e0c9280bae2b6b42f
   "metadata": {},
   "outputs": [],
   "source": [
    "Ruo.upgrade()"
   ]
  },
  {
   "cell_type": "code",
<<<<<<< HEAD
   "execution_count": 30,
=======
   "execution_count": 139,
>>>>>>> f73b28f94d5f50a59f7dae3e0c9280bae2b6b42f
   "metadata": {},
   "outputs": [
    {
     "output_type": "execute_result",
     "data": {
      "text/plain": [
<<<<<<< HEAD
       "2502415"
      ]
     },
     "metadata": {},
     "execution_count": 30
=======
       "285"
      ]
     },
     "metadata": {},
     "execution_count": 139
>>>>>>> f73b28f94d5f50a59f7dae3e0c9280bae2b6b42f
    }
   ],
   "source": [
    "Ruo.health"
   ]
  },
  {
   "cell_type": "code",
<<<<<<< HEAD
   "execution_count": 31,
=======
   "execution_count": 140,
>>>>>>> f73b28f94d5f50a59f7dae3e0c9280bae2b6b42f
   "metadata": {},
   "outputs": [
    {
     "output_type": "execute_result",
     "data": {
      "text/plain": [
<<<<<<< HEAD
       "1932600"
      ]
     },
     "metadata": {},
     "execution_count": 31
=======
       "250"
      ]
     },
     "metadata": {},
     "execution_count": 140
>>>>>>> f73b28f94d5f50a59f7dae3e0c9280bae2b6b42f
    }
   ],
   "source": [
    "Ruo.min_health"
   ]
  },
  {
   "cell_type": "code",
<<<<<<< HEAD
   "execution_count": 32,
=======
   "execution_count": 141,
>>>>>>> f73b28f94d5f50a59f7dae3e0c9280bae2b6b42f
   "metadata": {},
   "outputs": [
    {
     "output_type": "execute_result",
     "data": {
      "text/plain": [
<<<<<<< HEAD
       "2576800"
      ]
     },
     "metadata": {},
     "execution_count": 32
=======
       "300"
      ]
     },
     "metadata": {},
     "execution_count": 141
>>>>>>> f73b28f94d5f50a59f7dae3e0c9280bae2b6b42f
    }
   ],
   "source": [
    "Ruo.max_health"
   ]
  },
  {
   "cell_type": "code",
<<<<<<< HEAD
   "execution_count": 33,
=======
   "execution_count": 142,
>>>>>>> f73b28f94d5f50a59f7dae3e0c9280bae2b6b42f
   "metadata": {},
   "outputs": [
    {
     "output_type": "execute_result",
     "data": {
      "text/plain": [
<<<<<<< HEAD
       "460760"
      ]
     },
     "metadata": {},
     "execution_count": 33
=======
       "81"
      ]
     },
     "metadata": {},
     "execution_count": 142
>>>>>>> f73b28f94d5f50a59f7dae3e0c9280bae2b6b42f
    }
   ],
   "source": [
    "Ruo.damage"
   ]
  },
  {
   "cell_type": "code",
<<<<<<< HEAD
   "execution_count": 34,
=======
   "execution_count": 143,
>>>>>>> f73b28f94d5f50a59f7dae3e0c9280bae2b6b42f
   "metadata": {},
   "outputs": [
    {
     "output_type": "execute_result",
     "data": {
      "text/plain": [
<<<<<<< HEAD
       "450940"
      ]
     },
     "metadata": {},
     "execution_count": 34
=======
       "50"
      ]
     },
     "metadata": {},
     "execution_count": 143
>>>>>>> f73b28f94d5f50a59f7dae3e0c9280bae2b6b42f
    }
   ],
   "source": [
    "Ruo.min_damage"
   ]
  },
  {
   "cell_type": "code",
<<<<<<< HEAD
   "execution_count": 35,
=======
   "execution_count": 144,
>>>>>>> f73b28f94d5f50a59f7dae3e0c9280bae2b6b42f
   "metadata": {},
   "outputs": [
    {
     "output_type": "execute_result",
     "data": {
      "text/plain": [
<<<<<<< HEAD
       "515360"
      ]
     },
     "metadata": {},
     "execution_count": 35
=======
       "90"
      ]
     },
     "metadata": {},
     "execution_count": 144
>>>>>>> f73b28f94d5f50a59f7dae3e0c9280bae2b6b42f
    }
   ],
   "source": [
    "Ruo.max_damage"
   ]
  },
  {
   "source": [
    "## Qing Upgrades"
   ],
   "cell_type": "markdown",
   "metadata": {}
  },
  {
   "cell_type": "code",
   "execution_count": 39,
   "metadata": {},
   "outputs": [
    {
     "output_type": "error",
     "ename": "ValueError",
     "evalue": "empty range for randrange() (4000000000000, 800000001, -3999199999999)",
     "traceback": [
      "\u001b[1;31m---------------------------------------------------------------------------\u001b[0m",
      "\u001b[1;31mValueError\u001b[0m                                Traceback (most recent call last)",
      "\u001b[1;32m<ipython-input-39-ba7b0972cfcf>\u001b[0m in \u001b[0;36m<module>\u001b[1;34m\u001b[0m\n\u001b[1;32m----> 1\u001b[1;33m \u001b[0mQing\u001b[0m\u001b[1;33m.\u001b[0m\u001b[0mupgrade\u001b[0m\u001b[1;33m(\u001b[0m\u001b[1;33m)\u001b[0m\u001b[1;33m\u001b[0m\u001b[1;33m\u001b[0m\u001b[0m\n\u001b[0m",
      "\u001b[1;32m<ipython-input-34-c68b125e11e8>\u001b[0m in \u001b[0;36mupgrade\u001b[1;34m(self)\u001b[0m\n\u001b[0;32m     18\u001b[0m             \u001b[0mself\u001b[0m\u001b[1;33m.\u001b[0m\u001b[0mmin_health\u001b[0m \u001b[1;33m=\u001b[0m \u001b[1;36m1000000000000000000000000000000000000000\u001b[0m\u001b[1;33m\u001b[0m\u001b[1;33m\u001b[0m\u001b[0m\n\u001b[0;32m     19\u001b[0m             \u001b[0mself\u001b[0m\u001b[1;33m.\u001b[0m\u001b[0mmax_health\u001b[0m \u001b[1;33m=\u001b[0m \u001b[1;36m100000000000000000000000000000000000000000\u001b[0m\u001b[1;33m\u001b[0m\u001b[1;33m\u001b[0m\u001b[0m\n\u001b[1;32m---> 20\u001b[1;33m             \u001b[0mself\u001b[0m\u001b[1;33m.\u001b[0m\u001b[0mdamage\u001b[0m \u001b[1;33m=\u001b[0m \u001b[0mrandom\u001b[0m\u001b[1;33m.\u001b[0m\u001b[0mrandint\u001b[0m\u001b[1;33m(\u001b[0m\u001b[1;36m4000000000000\u001b[0m\u001b[1;33m,\u001b[0m \u001b[1;36m800000000\u001b[0m\u001b[1;33m)\u001b[0m\u001b[1;33m\u001b[0m\u001b[1;33m\u001b[0m\u001b[0m\n\u001b[0m\u001b[0;32m     21\u001b[0m             \u001b[0mself\u001b[0m\u001b[1;33m.\u001b[0m\u001b[0mmin_damage\u001b[0m \u001b[1;33m=\u001b[0m \u001b[1;36m400000000000\u001b[0m\u001b[1;33m\u001b[0m\u001b[1;33m\u001b[0m\u001b[0m\n\u001b[0;32m     22\u001b[0m             \u001b[0mself\u001b[0m\u001b[1;33m.\u001b[0m\u001b[0mmax_damage\u001b[0m \u001b[1;33m=\u001b[0m \u001b[1;36m800000000000\u001b[0m\u001b[1;33m\u001b[0m\u001b[1;33m\u001b[0m\u001b[0m\n",
      "\u001b[1;32m~\\anaconda3\\lib\\random.py\u001b[0m in \u001b[0;36mrandint\u001b[1;34m(self, a, b)\u001b[0m\n\u001b[0;32m    246\u001b[0m         \"\"\"\n\u001b[0;32m    247\u001b[0m \u001b[1;33m\u001b[0m\u001b[0m\n\u001b[1;32m--> 248\u001b[1;33m         \u001b[1;32mreturn\u001b[0m \u001b[0mself\u001b[0m\u001b[1;33m.\u001b[0m\u001b[0mrandrange\u001b[0m\u001b[1;33m(\u001b[0m\u001b[0ma\u001b[0m\u001b[1;33m,\u001b[0m \u001b[0mb\u001b[0m\u001b[1;33m+\u001b[0m\u001b[1;36m1\u001b[0m\u001b[1;33m)\u001b[0m\u001b[1;33m\u001b[0m\u001b[1;33m\u001b[0m\u001b[0m\n\u001b[0m\u001b[0;32m    249\u001b[0m \u001b[1;33m\u001b[0m\u001b[0m\n\u001b[0;32m    250\u001b[0m     \u001b[1;32mdef\u001b[0m \u001b[0m_randbelow_with_getrandbits\u001b[0m\u001b[1;33m(\u001b[0m\u001b[0mself\u001b[0m\u001b[1;33m,\u001b[0m \u001b[0mn\u001b[0m\u001b[1;33m)\u001b[0m\u001b[1;33m:\u001b[0m\u001b[1;33m\u001b[0m\u001b[1;33m\u001b[0m\u001b[0m\n",
      "\u001b[1;32m~\\anaconda3\\lib\\random.py\u001b[0m in \u001b[0;36mrandrange\u001b[1;34m(self, start, stop, step, _int)\u001b[0m\n\u001b[0;32m    224\u001b[0m             \u001b[1;32mreturn\u001b[0m \u001b[0mistart\u001b[0m \u001b[1;33m+\u001b[0m \u001b[0mself\u001b[0m\u001b[1;33m.\u001b[0m\u001b[0m_randbelow\u001b[0m\u001b[1;33m(\u001b[0m\u001b[0mwidth\u001b[0m\u001b[1;33m)\u001b[0m\u001b[1;33m\u001b[0m\u001b[1;33m\u001b[0m\u001b[0m\n\u001b[0;32m    225\u001b[0m         \u001b[1;32mif\u001b[0m \u001b[0mstep\u001b[0m \u001b[1;33m==\u001b[0m \u001b[1;36m1\u001b[0m\u001b[1;33m:\u001b[0m\u001b[1;33m\u001b[0m\u001b[1;33m\u001b[0m\u001b[0m\n\u001b[1;32m--> 226\u001b[1;33m             \u001b[1;32mraise\u001b[0m \u001b[0mValueError\u001b[0m\u001b[1;33m(\u001b[0m\u001b[1;34m\"empty range for randrange() (%d, %d, %d)\"\u001b[0m \u001b[1;33m%\u001b[0m \u001b[1;33m(\u001b[0m\u001b[0mistart\u001b[0m\u001b[1;33m,\u001b[0m \u001b[0mistop\u001b[0m\u001b[1;33m,\u001b[0m \u001b[0mwidth\u001b[0m\u001b[1;33m)\u001b[0m\u001b[1;33m)\u001b[0m\u001b[1;33m\u001b[0m\u001b[1;33m\u001b[0m\u001b[0m\n\u001b[0m\u001b[0;32m    227\u001b[0m \u001b[1;33m\u001b[0m\u001b[0m\n\u001b[0;32m    228\u001b[0m         \u001b[1;31m# Non-unit step argument supplied.\u001b[0m\u001b[1;33m\u001b[0m\u001b[1;33m\u001b[0m\u001b[1;33m\u001b[0m\u001b[0m\n",
      "\u001b[1;31mValueError\u001b[0m: empty range for randrange() (4000000000000, 800000001, -3999199999999)"
     ]
    }
   ],
   "source": [
    "Qing.upgrade()"
   ]
  },
  {
   "cell_type": "code",
   "execution_count": 146,
   "metadata": {},
   "outputs": [
    {
     "output_type": "execute_result",
     "data": {
      "text/plain": [
       "188"
      ]
     },
     "metadata": {},
     "execution_count": 146
    }
   ],
   "source": [
    "Qing.health"
   ]
  },
  {
   "cell_type": "code",
   "execution_count": 147,
   "metadata": {},
   "outputs": [
    {
     "output_type": "execute_result",
     "data": {
      "text/plain": [
       "150"
      ]
     },
     "metadata": {},
     "execution_count": 147
    }
   ],
   "source": [
    "Qing.min_health"
   ]
  },
  {
   "cell_type": "code",
   "execution_count": 148,
   "metadata": {},
   "outputs": [
    {
     "output_type": "execute_result",
     "data": {
      "text/plain": [
       "200"
      ]
     },
     "metadata": {},
     "execution_count": 148
    }
   ],
   "source": [
    "Qing.max_health"
   ]
  },
  {
   "cell_type": "code",
   "execution_count": 27,
   "metadata": {},
   "outputs": [
    {
     "output_type": "execute_result",
     "data": {
      "text/plain": [
       "16918316531808175194285473523719753478831341594124236443272904014159551741324666432684056967031573571068277"
      ]
     },
     "metadata": {},
     "execution_count": 27
    }
   ],
   "source": [
    "Qing.damage"
   ]
  },
  {
   "cell_type": "code",
   "execution_count": 23,
   "metadata": {},
   "outputs": [
    {
     "output_type": "execute_result",
     "data": {
      "text/plain": [
       "10000000000000000000000000000000000000000000000000000000000000000000000000000000000000000000000000000000000"
      ]
     },
     "metadata": {},
     "execution_count": 23
    }
   ],
   "source": [
    "Qing.min_damage"
   ]
  },
  {
   "cell_type": "code",
   "execution_count": 24,
   "metadata": {},
   "outputs": [
    {
     "output_type": "execute_result",
     "data": {
      "text/plain": [
       "100000000000000000000000000000000000000000000000000000000000000000000000000000000000000000000000000000000000"
      ]
     },
     "metadata": {},
     "execution_count": 24
    }
   ],
   "source": [
    "Qing.max_damage"
   ]
  },
  {
   "source": [
    "# Baby Upgrades"
   ],
   "cell_type": "markdown",
   "metadata": {}
  },
  {
   "cell_type": "code",
   "execution_count": 152,
   "metadata": {},
   "outputs": [],
   "source": [
    "Baby.upgrade()"
   ]
  },
  {
   "cell_type": "code",
   "execution_count": 153,
   "metadata": {},
   "outputs": [
    {
     "output_type": "execute_result",
     "data": {
      "text/plain": [
       "199"
      ]
     },
     "metadata": {},
     "execution_count": 153
    }
   ],
   "source": [
    "Baby.health"
   ]
  },
  {
   "cell_type": "code",
   "execution_count": 154,
   "metadata": {},
   "outputs": [
    {
     "output_type": "execute_result",
     "data": {
      "text/plain": [
       "150"
      ]
     },
     "metadata": {},
     "execution_count": 154
    }
   ],
   "source": [
    "Baby.min_health"
   ]
  },
  {
   "cell_type": "code",
   "execution_count": 155,
   "metadata": {},
   "outputs": [
    {
     "output_type": "execute_result",
     "data": {
      "text/plain": [
       "200"
      ]
     },
     "metadata": {},
     "execution_count": 155
    }
   ],
   "source": [
    "Baby.max_health"
   ]
  },
  {
   "cell_type": "code",
   "execution_count": 156,
   "metadata": {},
   "outputs": [
    {
     "output_type": "execute_result",
     "data": {
      "text/plain": [
       "44"
      ]
     },
     "metadata": {},
     "execution_count": 156
    }
   ],
   "source": [
    "Baby.damage"
   ]
  },
  {
   "cell_type": "code",
   "execution_count": 157,
   "metadata": {},
   "outputs": [
    {
     "output_type": "execute_result",
     "data": {
      "text/plain": [
       "30"
      ]
     },
     "metadata": {},
     "execution_count": 157
    }
   ],
   "source": [
    "Baby.min_damage"
   ]
  },
  {
   "cell_type": "code",
   "execution_count": 158,
   "metadata": {},
   "outputs": [
    {
     "output_type": "execute_result",
     "data": {
      "text/plain": [
       "70"
      ]
     },
     "metadata": {},
     "execution_count": 158
    }
   ],
   "source": [
    "Baby.max_damage"
   ]
  },
  {
   "source": [
    "## Test Upgrades"
   ],
   "cell_type": "markdown",
   "metadata": {}
  },
  {
   "cell_type": "code",
   "execution_count": 159,
   "metadata": {},
   "outputs": [],
   "source": [
    "test.upgrade()"
   ]
  },
  {
   "cell_type": "code",
   "execution_count": 160,
   "metadata": {},
   "outputs": [
    {
     "output_type": "execute_result",
     "data": {
      "text/plain": [
       "154"
      ]
     },
     "metadata": {},
     "execution_count": 160
    }
   ],
   "source": [
    "test.health"
   ]
  },
  {
   "cell_type": "code",
   "execution_count": 161,
   "metadata": {},
   "outputs": [
    {
     "output_type": "execute_result",
     "data": {
      "text/plain": [
       "150"
      ]
     },
     "metadata": {},
     "execution_count": 161
    }
   ],
   "source": [
    "test.min_health"
   ]
  },
  {
   "cell_type": "code",
   "execution_count": 162,
   "metadata": {},
   "outputs": [
    {
     "output_type": "execute_result",
     "data": {
      "text/plain": [
       "200"
      ]
     },
     "metadata": {},
     "execution_count": 162
    }
   ],
   "source": [
    "test.max_health"
   ]
  },
  {
   "cell_type": "code",
   "execution_count": 163,
   "metadata": {},
   "outputs": [
    {
     "output_type": "execute_result",
     "data": {
      "text/plain": [
       "30"
      ]
     },
     "metadata": {},
     "execution_count": 163
    }
   ],
   "source": [
    "test.damage"
   ]
  },
  {
   "cell_type": "code",
   "execution_count": 164,
   "metadata": {},
   "outputs": [
    {
     "output_type": "execute_result",
     "data": {
      "text/plain": [
       "30"
      ]
     },
     "metadata": {},
     "execution_count": 164
    }
   ],
   "source": [
    "test.min_damage"
   ]
  },
  {
   "cell_type": "code",
   "execution_count": 165,
   "metadata": {},
   "outputs": [
    {
     "output_type": "execute_result",
     "data": {
      "text/plain": [
       "70"
      ]
     },
     "metadata": {},
     "execution_count": 165
    }
   ],
   "source": [
    "test.max_damage"
   ]
  },
  {
   "cell_type": "code",
   "execution_count": null,
   "metadata": {},
   "outputs": [],
   "source": []
  }
 ]
}